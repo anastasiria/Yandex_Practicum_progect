{
 "cells": [
  {
   "cell_type": "markdown",
   "id": "e32c8a61",
   "metadata": {},
   "source": [
    "# Проект: Исследовательский анализ данных по Яндекс.Недвижимости"
   ]
  },
  {
   "cell_type": "markdown",
   "id": "1922983b",
   "metadata": {},
   "source": [
    "Для анализа я взяла данные сервиса Яндекс Недвижимость — архив объявлений за несколько лет о продаже квартир в Санкт-Петербурге и соседних населённых пунктах.\n",
    "\n",
    "## Задача:\n",
    "Выполнить предобработку данных и изучить их, чтобы найти интересные особенности и зависимости, которые существуют на рынке недвижимости.\n",
    "\n",
    "О каждой квартире в базе содержится два типа данных: добавленные пользователем и картографические. Например, к первому типу относятся площадь квартиры, её этаж и количество балконов, ко второму — расстояния до центра города, аэропорта и ближайшего парка. \n",
    "Данные были получены в виде датасета."
   ]
  },
  {
   "cell_type": "markdown",
   "id": "0d9a02a5",
   "metadata": {},
   "source": [
    "## Общий вывод:\n",
    "В ходе исследования я выявила, что на недвижимость в Питере влияют следующие факторы:\n",
    "\n",
    "- площадь квартиры (сюда входит жилая площадь и площадь кухни);\n",
    "- количество комнат (естественно, что студия будет дешевле, чем 3-х комнатная квартира);\n",
    "- район, в котором находится квартира (центр Питера ожидаемо самый дорогой);\n",
    "- этаж, где находится квартира (первые этажи - самые дешевые, последние чуть дороже, а остальные варианты самые дорогие).\n",
    "\n",
    "Соответственно, чем ближе к центру, больше метраж и количество комнат, ну и скажем 5 этаж из 10, то это будет стоить дороже, чем студия на окраине города, на 1 этаже."
   ]
  },
  {
   "cell_type": "markdown",
   "id": "db9db8f6",
   "metadata": {},
   "source": [
    "## Шаг 1. Откройте файл с данными и изучите общую информацию\n",
    "#### Шаг 1. Импортируем библиотеки и открываем файл."
   ]
  },
  {
   "cell_type": "code",
   "execution_count": 1,
   "id": "e2192c9b",
   "metadata": {},
   "outputs": [],
   "source": [
    "import pandas as pd\n",
    "import matplotlib.pyplot as plt\n",
    "\n",
    "try:\n",
    "    data = pd.read_csv('/datasets/real_estate_data.csv', sep='\\t')\n",
    "except:\n",
    "    data = pd.read_csv('real_estate_data.csv', sep='\\t')"
   ]
  },
  {
   "cell_type": "markdown",
   "id": "3d0ff3d8",
   "metadata": {},
   "source": [
    "#### Шаг 2. Изучаем общую информацию о полученном датафрейме."
   ]
  },
  {
   "cell_type": "code",
   "execution_count": 2,
   "id": "0145d4fd",
   "metadata": {},
   "outputs": [
    {
     "data": {
      "text/html": [
       "<div>\n",
       "<style scoped>\n",
       "    .dataframe tbody tr th:only-of-type {\n",
       "        vertical-align: middle;\n",
       "    }\n",
       "\n",
       "    .dataframe tbody tr th {\n",
       "        vertical-align: top;\n",
       "    }\n",
       "\n",
       "    .dataframe thead th {\n",
       "        text-align: right;\n",
       "    }\n",
       "</style>\n",
       "<table border=\"1\" class=\"dataframe\">\n",
       "  <thead>\n",
       "    <tr style=\"text-align: right;\">\n",
       "      <th></th>\n",
       "      <th>total_images</th>\n",
       "      <th>last_price</th>\n",
       "      <th>total_area</th>\n",
       "      <th>first_day_exposition</th>\n",
       "      <th>rooms</th>\n",
       "      <th>ceiling_height</th>\n",
       "      <th>floors_total</th>\n",
       "      <th>living_area</th>\n",
       "      <th>floor</th>\n",
       "      <th>is_apartment</th>\n",
       "      <th>...</th>\n",
       "      <th>kitchen_area</th>\n",
       "      <th>balcony</th>\n",
       "      <th>locality_name</th>\n",
       "      <th>airports_nearest</th>\n",
       "      <th>cityCenters_nearest</th>\n",
       "      <th>parks_around3000</th>\n",
       "      <th>parks_nearest</th>\n",
       "      <th>ponds_around3000</th>\n",
       "      <th>ponds_nearest</th>\n",
       "      <th>days_exposition</th>\n",
       "    </tr>\n",
       "  </thead>\n",
       "  <tbody>\n",
       "    <tr>\n",
       "      <th>0</th>\n",
       "      <td>20</td>\n",
       "      <td>13000000.0</td>\n",
       "      <td>108.0</td>\n",
       "      <td>2019-03-07T00:00:00</td>\n",
       "      <td>3</td>\n",
       "      <td>2.70</td>\n",
       "      <td>16.0</td>\n",
       "      <td>51.0</td>\n",
       "      <td>8</td>\n",
       "      <td>NaN</td>\n",
       "      <td>...</td>\n",
       "      <td>25.0</td>\n",
       "      <td>NaN</td>\n",
       "      <td>Санкт-Петербург</td>\n",
       "      <td>18863.0</td>\n",
       "      <td>16028.0</td>\n",
       "      <td>1.0</td>\n",
       "      <td>482.0</td>\n",
       "      <td>2.0</td>\n",
       "      <td>755.0</td>\n",
       "      <td>NaN</td>\n",
       "    </tr>\n",
       "    <tr>\n",
       "      <th>1</th>\n",
       "      <td>7</td>\n",
       "      <td>3350000.0</td>\n",
       "      <td>40.4</td>\n",
       "      <td>2018-12-04T00:00:00</td>\n",
       "      <td>1</td>\n",
       "      <td>NaN</td>\n",
       "      <td>11.0</td>\n",
       "      <td>18.6</td>\n",
       "      <td>1</td>\n",
       "      <td>NaN</td>\n",
       "      <td>...</td>\n",
       "      <td>11.0</td>\n",
       "      <td>2.0</td>\n",
       "      <td>посёлок Шушары</td>\n",
       "      <td>12817.0</td>\n",
       "      <td>18603.0</td>\n",
       "      <td>0.0</td>\n",
       "      <td>NaN</td>\n",
       "      <td>0.0</td>\n",
       "      <td>NaN</td>\n",
       "      <td>81.0</td>\n",
       "    </tr>\n",
       "    <tr>\n",
       "      <th>2</th>\n",
       "      <td>10</td>\n",
       "      <td>5196000.0</td>\n",
       "      <td>56.0</td>\n",
       "      <td>2015-08-20T00:00:00</td>\n",
       "      <td>2</td>\n",
       "      <td>NaN</td>\n",
       "      <td>5.0</td>\n",
       "      <td>34.3</td>\n",
       "      <td>4</td>\n",
       "      <td>NaN</td>\n",
       "      <td>...</td>\n",
       "      <td>8.3</td>\n",
       "      <td>0.0</td>\n",
       "      <td>Санкт-Петербург</td>\n",
       "      <td>21741.0</td>\n",
       "      <td>13933.0</td>\n",
       "      <td>1.0</td>\n",
       "      <td>90.0</td>\n",
       "      <td>2.0</td>\n",
       "      <td>574.0</td>\n",
       "      <td>558.0</td>\n",
       "    </tr>\n",
       "    <tr>\n",
       "      <th>3</th>\n",
       "      <td>0</td>\n",
       "      <td>64900000.0</td>\n",
       "      <td>159.0</td>\n",
       "      <td>2015-07-24T00:00:00</td>\n",
       "      <td>3</td>\n",
       "      <td>NaN</td>\n",
       "      <td>14.0</td>\n",
       "      <td>NaN</td>\n",
       "      <td>9</td>\n",
       "      <td>NaN</td>\n",
       "      <td>...</td>\n",
       "      <td>NaN</td>\n",
       "      <td>0.0</td>\n",
       "      <td>Санкт-Петербург</td>\n",
       "      <td>28098.0</td>\n",
       "      <td>6800.0</td>\n",
       "      <td>2.0</td>\n",
       "      <td>84.0</td>\n",
       "      <td>3.0</td>\n",
       "      <td>234.0</td>\n",
       "      <td>424.0</td>\n",
       "    </tr>\n",
       "    <tr>\n",
       "      <th>4</th>\n",
       "      <td>2</td>\n",
       "      <td>10000000.0</td>\n",
       "      <td>100.0</td>\n",
       "      <td>2018-06-19T00:00:00</td>\n",
       "      <td>2</td>\n",
       "      <td>3.03</td>\n",
       "      <td>14.0</td>\n",
       "      <td>32.0</td>\n",
       "      <td>13</td>\n",
       "      <td>NaN</td>\n",
       "      <td>...</td>\n",
       "      <td>41.0</td>\n",
       "      <td>NaN</td>\n",
       "      <td>Санкт-Петербург</td>\n",
       "      <td>31856.0</td>\n",
       "      <td>8098.0</td>\n",
       "      <td>2.0</td>\n",
       "      <td>112.0</td>\n",
       "      <td>1.0</td>\n",
       "      <td>48.0</td>\n",
       "      <td>121.0</td>\n",
       "    </tr>\n",
       "  </tbody>\n",
       "</table>\n",
       "<p>5 rows × 22 columns</p>\n",
       "</div>"
      ],
      "text/plain": [
       "   total_images  last_price  total_area first_day_exposition  rooms  \\\n",
       "0            20  13000000.0       108.0  2019-03-07T00:00:00      3   \n",
       "1             7   3350000.0        40.4  2018-12-04T00:00:00      1   \n",
       "2            10   5196000.0        56.0  2015-08-20T00:00:00      2   \n",
       "3             0  64900000.0       159.0  2015-07-24T00:00:00      3   \n",
       "4             2  10000000.0       100.0  2018-06-19T00:00:00      2   \n",
       "\n",
       "   ceiling_height  floors_total  living_area  floor is_apartment  ...  \\\n",
       "0            2.70          16.0         51.0      8          NaN  ...   \n",
       "1             NaN          11.0         18.6      1          NaN  ...   \n",
       "2             NaN           5.0         34.3      4          NaN  ...   \n",
       "3             NaN          14.0          NaN      9          NaN  ...   \n",
       "4            3.03          14.0         32.0     13          NaN  ...   \n",
       "\n",
       "   kitchen_area  balcony    locality_name  airports_nearest  \\\n",
       "0          25.0      NaN  Санкт-Петербург           18863.0   \n",
       "1          11.0      2.0   посёлок Шушары           12817.0   \n",
       "2           8.3      0.0  Санкт-Петербург           21741.0   \n",
       "3           NaN      0.0  Санкт-Петербург           28098.0   \n",
       "4          41.0      NaN  Санкт-Петербург           31856.0   \n",
       "\n",
       "  cityCenters_nearest  parks_around3000  parks_nearest  ponds_around3000  \\\n",
       "0             16028.0               1.0          482.0               2.0   \n",
       "1             18603.0               0.0            NaN               0.0   \n",
       "2             13933.0               1.0           90.0               2.0   \n",
       "3              6800.0               2.0           84.0               3.0   \n",
       "4              8098.0               2.0          112.0               1.0   \n",
       "\n",
       "   ponds_nearest  days_exposition  \n",
       "0          755.0              NaN  \n",
       "1            NaN             81.0  \n",
       "2          574.0            558.0  \n",
       "3          234.0            424.0  \n",
       "4           48.0            121.0  \n",
       "\n",
       "[5 rows x 22 columns]"
      ]
     },
     "execution_count": 2,
     "metadata": {},
     "output_type": "execute_result"
    }
   ],
   "source": [
    "data.head()"
   ]
  },
  {
   "cell_type": "markdown",
   "id": "a1b6f8e8",
   "metadata": {},
   "source": [
    "Выведем основную информацию с помощью метода инфо."
   ]
  },
  {
   "cell_type": "code",
   "execution_count": 3,
   "id": "9b43d89a",
   "metadata": {},
   "outputs": [
    {
     "name": "stdout",
     "output_type": "stream",
     "text": [
      "<class 'pandas.core.frame.DataFrame'>\n",
      "RangeIndex: 23699 entries, 0 to 23698\n",
      "Data columns (total 22 columns):\n",
      " #   Column                Non-Null Count  Dtype  \n",
      "---  ------                --------------  -----  \n",
      " 0   total_images          23699 non-null  int64  \n",
      " 1   last_price            23699 non-null  float64\n",
      " 2   total_area            23699 non-null  float64\n",
      " 3   first_day_exposition  23699 non-null  object \n",
      " 4   rooms                 23699 non-null  int64  \n",
      " 5   ceiling_height        14504 non-null  float64\n",
      " 6   floors_total          23613 non-null  float64\n",
      " 7   living_area           21796 non-null  float64\n",
      " 8   floor                 23699 non-null  int64  \n",
      " 9   is_apartment          2775 non-null   object \n",
      " 10  studio                23699 non-null  bool   \n",
      " 11  open_plan             23699 non-null  bool   \n",
      " 12  kitchen_area          21421 non-null  float64\n",
      " 13  balcony               12180 non-null  float64\n",
      " 14  locality_name         23650 non-null  object \n",
      " 15  airports_nearest      18157 non-null  float64\n",
      " 16  cityCenters_nearest   18180 non-null  float64\n",
      " 17  parks_around3000      18181 non-null  float64\n",
      " 18  parks_nearest         8079 non-null   float64\n",
      " 19  ponds_around3000      18181 non-null  float64\n",
      " 20  ponds_nearest         9110 non-null   float64\n",
      " 21  days_exposition       20518 non-null  float64\n",
      "dtypes: bool(2), float64(14), int64(3), object(3)\n",
      "memory usage: 3.7+ MB\n",
      "None\n"
     ]
    }
   ],
   "source": [
    "print(data.info())"
   ]
  },
  {
   "cell_type": "markdown",
   "id": "65aee876",
   "metadata": {},
   "source": [
    "#### Шаг 3. Построим гистограмму."
   ]
  },
  {
   "cell_type": "code",
   "execution_count": 4,
   "id": "644f3d2b",
   "metadata": {},
   "outputs": [
    {
     "data": {
      "image/png": "[encoded data removed]",
      "text/plain": [
       "<Figure size 1080x1440 with 20 Axes>"
      ]
     },
     "metadata": {
      "needs_background": "light"
     },
     "output_type": "display_data"
    }
   ],
   "source": [
    "data.hist(figsize=(15, 20));"
   ]
  },
  {
   "cell_type": "markdown",
   "id": "524361bc",
   "metadata": {},
   "source": [
    "## 2. Предобработка данных\n",
    "#### Шаг 1. Найдем в каких столбцах встречаются пропуски.\n"
   ]
  },
  {
   "cell_type": "code",
   "execution_count": 5,
   "id": "cdcef429",
   "metadata": {},
   "outputs": [
    {
     "name": "stdout",
     "output_type": "stream",
     "text": [
      "total_images                0\n",
      "last_price                  0\n",
      "total_area                  0\n",
      "first_day_exposition        0\n",
      "rooms                       0\n",
      "ceiling_height           9195\n",
      "floors_total               86\n",
      "living_area              1903\n",
      "floor                       0\n",
      "is_apartment            20924\n",
      "studio                      0\n",
      "open_plan                   0\n",
      "kitchen_area             2278\n",
      "balcony                 11519\n",
      "locality_name              49\n",
      "airports_nearest         5542\n",
      "cityCenters_nearest      5519\n",
      "parks_around3000         5518\n",
      "parks_nearest           15620\n",
      "ponds_around3000         5518\n",
      "ponds_nearest           14589\n",
      "days_exposition          3181\n",
      "dtype: int64\n"
     ]
    }
   ],
   "source": [
    "print(data.isnull().sum())"
   ]
  },
  {
   "cell_type": "markdown",
   "id": "b0a035f1",
   "metadata": {},
   "source": [
    "#### Получилось 14 столбцов с пропусками.\n",
    "\n",
    "ceiling_height  - высота потолков. Изменим на медианные значения.\n",
    "\n",
    "floors_total - всего этажей в доме. Не будем заполнять их и оставим значения пропущенными.\n",
    "\n",
    "living_area - жилая площадь в квадратных метрах. Посмотрим, как в среднем соотносятся жилая площадь и общая, и после этого для пропусков умножим общую площадь на этот коэффициент - получится примерное значение жилой площади для этой квартиры. \n",
    "\n",
    "is_apartment - апартаменты. Скорее всего, если человек пропустил это значение, то данное жилье не является аппартаментами. Поэтому заменим все пропуски на False.\n",
    "\n",
    "kitchen_area - площадь кухни. Посмотрим, как в среднем соотносятся площадь кухни и общая, и после этого для пропусков умножим общую площадь на этот коэффициент - получится примерное значение площади кухни для этой квартиры.\n",
    "\n",
    "balcony - наличие балконов. Скорее всего, если их не отметили, то их нет. Поэтому заменим пропуски на 0.\n",
    "\n",
    "locality_name - название населённого пункта. Оставим без изменений.\n",
    "\n",
    "airports_nearest - расстояние до ближайшего аэропорта в метрах (м). Оставим пропуски без изменений, так как нет возможности корректно заменить данные.\n",
    "\n",
    "cityCenters_nearest - расстояние до центра города (м). Оставим пропуски без изменений, так как нет возможности корректно заменить данные.\n",
    "\n",
    "parks_around3000 - расстояние до ближайшего парка (м). Оставим пропуски без изменений, так как нет возможности корректно заменить данные.\n",
    "\n",
    "parks_nearest - число парков в радиусе 3 км. Если здесь пропуск, то скорее всего рядом нет парков, поэтому ставим 0 вместо пропущенных значений.\n",
    "\n",
    "ponds_around3000 - число водоёмов в радиусе 3 км. Если здесь пропуск, то скорее всего рядом нет водоемов, поэтому ставим 0 вместо пропущенных значений.\n",
    "\n",
    "ponds_nearest - расстояние до ближайшего водоёма (м). Оставим пропуски без изменений, так как нет возможности корректно заменить данные.\n",
    "\n",
    "days_exposition - сколько дней было размещено объявление (от публикации до снятия). Оставим пропуски без изменений, так как нет возможности корректно заменить данные."
   ]
  },
  {
   "cell_type": "markdown",
   "id": "bc9ac9bc",
   "metadata": {},
   "source": [
    "##### Заполним пропущенные значения."
   ]
  },
  {
   "cell_type": "code",
   "execution_count": 9,
   "id": "4b2b9ffb",
   "metadata": {},
   "outputs": [
    {
     "name": "stdout",
     "output_type": "stream",
     "text": [
      "total_images                0\n",
      "last_price                  0\n",
      "total_area                  0\n",
      "first_day_exposition        0\n",
      "rooms                       0\n",
      "ceiling_height           9195\n",
      "floors_total                0\n",
      "living_area              1903\n",
      "floor                       0\n",
      "is_apartment                0\n",
      "studio                      0\n",
      "open_plan                   0\n",
      "kitchen_area             2278\n",
      "balcony                     0\n",
      "locality_name              49\n",
      "airports_nearest         5542\n",
      "cityCenters_nearest      5519\n",
      "parks_around3000         5518\n",
      "parks_nearest               0\n",
      "ponds_around3000            0\n",
      "ponds_nearest           14589\n",
      "days_exposition          3181\n",
      "dtype: int64\n"
     ]
    }
   ],
   "source": [
    "# меняем пропуски в \"is_apartment\" на False\n",
    "data['is_apartment'].fillna(value=False, inplace=True)\n",
    "\n",
    "# меняем пропуски в \"balcony\" на 0\n",
    "data['balcony'].fillna(value=0, inplace=True)\n",
    "\n",
    "# меняем пропуски в \"parks_nearest\" на 0\n",
    "data['parks_nearest'].fillna(value=0, inplace=True)\n",
    "\n",
    "# меняем пропуски в \"parks_nearest\" на 0\n",
    "data['ponds_around3000'].fillna(value=0, inplace=True)\n",
    "\n",
    "#проверим, все ли измененные пропуски исчезли\n",
    "print(data.isnull().sum())"
   ]
  },
  {
   "cell_type": "markdown",
   "id": "2e9113ec",
   "metadata": {},
   "source": [
    "Поменяем пропуски \"ceiling_height\" на медиану."
   ]
  },
  {
   "cell_type": "code",
   "execution_count": 10,
   "id": "484bd8c7",
   "metadata": {},
   "outputs": [
    {
     "name": "stdout",
     "output_type": "stream",
     "text": [
      "total_images                0\n",
      "last_price                  0\n",
      "total_area                  0\n",
      "first_day_exposition        0\n",
      "rooms                       0\n",
      "ceiling_height              0\n",
      "floors_total                0\n",
      "living_area              1903\n",
      "floor                       0\n",
      "is_apartment                0\n",
      "studio                      0\n",
      "open_plan                   0\n",
      "kitchen_area             2278\n",
      "balcony                     0\n",
      "locality_name              49\n",
      "airports_nearest         5542\n",
      "cityCenters_nearest      5519\n",
      "parks_around3000         5518\n",
      "parks_nearest               0\n",
      "ponds_around3000            0\n",
      "ponds_nearest           14589\n",
      "days_exposition          3181\n",
      "dtype: int64\n"
     ]
    }
   ],
   "source": [
    "data['ceiling_height'] = data['ceiling_height'].fillna(data['ceiling_height'].median())\n",
    "print(data.isnull().sum())"
   ]
  },
  {
   "cell_type": "markdown",
   "id": "717363c8",
   "metadata": {},
   "source": [
    "Займемся столбцом 'kitchen_area'. Делим среднюю площадь кухни на среднюю общую площадь и умножаем полученный коэффициент на общую площадь."
   ]
  },
  {
   "cell_type": "code",
   "execution_count": 11,
   "id": "2da78e45",
   "metadata": {},
   "outputs": [
    {
     "name": "stdout",
     "output_type": "stream",
     "text": [
      "total_images                0\n",
      "last_price                  0\n",
      "total_area                  0\n",
      "first_day_exposition        0\n",
      "rooms                       0\n",
      "ceiling_height              0\n",
      "floors_total                0\n",
      "living_area              1903\n",
      "floor                       0\n",
      "is_apartment                0\n",
      "studio                      0\n",
      "open_plan                   0\n",
      "kitchen_area                0\n",
      "balcony                     0\n",
      "locality_name              49\n",
      "airports_nearest         5542\n",
      "cityCenters_nearest      5519\n",
      "parks_around3000         5518\n",
      "parks_nearest               0\n",
      "ponds_around3000            0\n",
      "ponds_nearest           14589\n",
      "days_exposition          3181\n",
      "dtype: int64\n"
     ]
    }
   ],
   "source": [
    "kitchen_ratio = data['kitchen_area'].mean() / data['total_area'].mean()\n",
    "\n",
    "data['kitchen_area'].fillna(kitchen_ratio * data['total_area'], inplace=True)\n",
    "print(data.isnull().sum())"
   ]
  },
  {
   "cell_type": "markdown",
   "id": "d9a5f917",
   "metadata": {},
   "source": [
    "Займемся столбцом 'living_area'. Делим среднюю жилую площадь  на среднюю общую площадь и умножаем полученный коэффициент на общую площадь."
   ]
  },
  {
   "cell_type": "markdown",
   "id": "9101d086",
   "metadata": {},
   "source": [
    "Почему могли возникнуть пропуски?\n",
    "- технический сбой\n",
    "- человеческий фактор (забыли, решили не указывать данные, не заметили т.д.)"
   ]
  },
  {
   "cell_type": "markdown",
   "id": "de7f4c62",
   "metadata": {},
   "source": [
    "#### Шаг 2. Займемся типами данных.\n",
    "Посмотрим, что за типы данных есть в таблице сейчас и нужно ли что-то изменить."
   ]
  },
  {
   "cell_type": "code",
   "execution_count": 13,
   "id": "477a76c8",
   "metadata": {},
   "outputs": [
    {
     "name": "stdout",
     "output_type": "stream",
     "text": [
      "<class 'pandas.core.frame.DataFrame'>\n",
      "RangeIndex: 23699 entries, 0 to 23698\n",
      "Data columns (total 22 columns):\n",
      " #   Column                Non-Null Count  Dtype  \n",
      "---  ------                --------------  -----  \n",
      " 0   total_images          23699 non-null  int64  \n",
      " 1   last_price            23699 non-null  float64\n",
      " 2   total_area            23699 non-null  float64\n",
      " 3   first_day_exposition  23699 non-null  object \n",
      " 4   rooms                 23699 non-null  int64  \n",
      " 5   ceiling_height        23699 non-null  float64\n",
      " 6   floors_total          23699 non-null  float64\n",
      " 7   living_area           23699 non-null  float64\n",
      " 8   floor                 23699 non-null  int64  \n",
      " 9   is_apartment          23699 non-null  bool   \n",
      " 10  studio                23699 non-null  bool   \n",
      " 11  open_plan             23699 non-null  bool   \n",
      " 12  kitchen_area          23699 non-null  float64\n",
      " 13  balcony               23699 non-null  float64\n",
      " 14  locality_name         23650 non-null  object \n",
      " 15  airports_nearest      18157 non-null  float64\n",
      " 16  cityCenters_nearest   18180 non-null  float64\n",
      " 17  parks_around3000      18181 non-null  float64\n",
      " 18  parks_nearest         23699 non-null  float64\n",
      " 19  ponds_around3000      23699 non-null  float64\n",
      " 20  ponds_nearest         9110 non-null   float64\n",
      " 21  days_exposition       20518 non-null  float64\n",
      "dtypes: bool(3), float64(14), int64(3), object(2)\n",
      "memory usage: 3.5+ MB\n"
     ]
    }
   ],
   "source": [
    "data.info()"
   ]
  },
  {
   "cell_type": "markdown",
   "id": "5a4fb92a",
   "metadata": {},
   "source": [
    "Столбец \"first_day_exposition\" имеет неверный тип данных, так как дата публикации должна быть в формате datetime.\n",
    "\n"
   ]
  },
  {
   "cell_type": "code",
   "execution_count": 14,
   "id": "f02f3a5b",
   "metadata": {},
   "outputs": [
    {
     "name": "stdout",
     "output_type": "stream",
     "text": [
      "<class 'pandas.core.frame.DataFrame'>\n",
      "RangeIndex: 23699 entries, 0 to 23698\n",
      "Data columns (total 22 columns):\n",
      " #   Column                Non-Null Count  Dtype         \n",
      "---  ------                --------------  -----         \n",
      " 0   total_images          23699 non-null  int64         \n",
      " 1   last_price            23699 non-null  int64         \n",
      " 2   total_area            23699 non-null  float64       \n",
      " 3   first_day_exposition  23699 non-null  datetime64[ns]\n",
      " 4   rooms                 23699 non-null  int64         \n",
      " 5   ceiling_height        23699 non-null  float64       \n",
      " 6   floors_total          23699 non-null  float64       \n",
      " 7   living_area           23699 non-null  float64       \n",
      " 8   floor                 23699 non-null  int64         \n",
      " 9   is_apartment          23699 non-null  bool          \n",
      " 10  studio                23699 non-null  bool          \n",
      " 11  open_plan             23699 non-null  bool          \n",
      " 12  kitchen_area          23699 non-null  float64       \n",
      " 13  balcony               23699 non-null  int64         \n",
      " 14  locality_name         23650 non-null  object        \n",
      " 15  airports_nearest      18157 non-null  float64       \n",
      " 16  cityCenters_nearest   18180 non-null  float64       \n",
      " 17  parks_around3000      23699 non-null  int64         \n",
      " 18  parks_nearest         23699 non-null  float64       \n",
      " 19  ponds_around3000      23699 non-null  int64         \n",
      " 20  ponds_nearest         9110 non-null   float64       \n",
      " 21  days_exposition       23699 non-null  int64         \n",
      "dtypes: bool(3), datetime64[ns](1), float64(9), int64(8), object(1)\n",
      "memory usage: 3.5+ MB\n"
     ]
    }
   ],
   "source": [
    "data['first_day_exposition'] = pd.to_datetime(data['first_day_exposition'],format='%Y-%m-%dT%H:%M:%S')\n",
    "\n",
    "data['balcony'] = data['balcony'].astype(int)\n",
    "\n",
    "# устанавливаем маркер 9999 для пропусков и приводим к целочисленному типу\n",
    "data['days_exposition'].fillna(9999, inplace=True)\n",
    "data['days_exposition'] = data['days_exposition'].astype(int)\n",
    "\n",
    "data['last_price'] = data['last_price'].astype(int)\n",
    "\n",
    "# устанавливаем маркер 9999 для пропусков и приводим к целочисленному типу\n",
    "data['parks_around3000'].fillna(0, inplace=True)\n",
    "data['parks_around3000'] = data['parks_around3000'].astype(int)\n",
    "\n",
    "data['ponds_around3000'] = data['ponds_around3000'].astype(int) \n",
    "\n",
    "#проверяем получилось ли изменить тип данных\n",
    "data.info()"
   ]
  },
  {
   "cell_type": "markdown",
   "id": "4aa34186",
   "metadata": {},
   "source": [
    "На мой взгляд остальные столбцы не нуждаются в смене типа данных, поэтому переходим к следующему шагу."
   ]
  },
  {
   "cell_type": "markdown",
   "id": "7f920bb0",
   "metadata": {},
   "source": [
    "#### Шаг 3. Изучите данные  в столбце с названиями и устраните неявные дубликаты."
   ]
  },
  {
   "cell_type": "code",
   "execution_count": 15,
   "id": "2b311624",
   "metadata": {},
   "outputs": [
    {
     "data": {
      "text/plain": [
       "array(['Санкт-Петербург', 'посёлок Шушары', 'городской посёлок Янино-1',\n",
       "       'посёлок Парголово', 'посёлок Мурино', 'Ломоносов', 'Сертолово',\n",
       "       'Петергоф', 'Пушкин', 'деревня Кудрово', 'Коммунар', 'Колпино',\n",
       "       'поселок городского типа Красный Бор', 'Гатчина', 'поселок Мурино',\n",
       "       'деревня Фёдоровское', 'Выборг', 'Кронштадт', 'Кировск',\n",
       "       'деревня Новое Девяткино', 'посёлок Металлострой',\n",
       "       'посёлок городского типа Лебяжье',\n",
       "       'посёлок городского типа Сиверский', 'поселок Молодцово',\n",
       "       'поселок городского типа Кузьмоловский',\n",
       "       'садовое товарищество Новая Ропша', 'Павловск',\n",
       "       'деревня Пикколово', 'Всеволожск', 'Волхов', 'Кингисепп',\n",
       "       'Приозерск', 'Сестрорецк', 'деревня Куттузи', 'посёлок Аннино',\n",
       "       'поселок городского типа Ефимовский', 'посёлок Плодовое',\n",
       "       'деревня Заклинье', 'поселок Торковичи', 'поселок Первомайское',\n",
       "       'Красное Село', 'посёлок Понтонный', 'Сясьстрой', 'деревня Старая',\n",
       "       'деревня Лесколово', 'посёлок Новый Свет', 'Сланцы',\n",
       "       'село Путилово', 'Ивангород', 'Мурино', 'Шлиссельбург',\n",
       "       'Никольское', 'Зеленогорск', 'Сосновый Бор', 'поселок Новый Свет',\n",
       "       'деревня Оржицы', 'деревня Кальтино', 'Кудрово',\n",
       "       'поселок Романовка', 'посёлок Бугры', 'поселок Бугры',\n",
       "       'поселок городского типа Рощино', 'Кириши', 'Луга', 'Волосово',\n",
       "       'Отрадное', 'село Павлово', 'поселок Оредеж', 'село Копорье',\n",
       "       'посёлок городского типа Красный Бор', 'посёлок Молодёжное',\n",
       "       'Тихвин', 'посёлок Победа', 'деревня Нурма',\n",
       "       'поселок городского типа Синявино', 'Тосно',\n",
       "       'посёлок городского типа Кузьмоловский', 'посёлок Стрельна',\n",
       "       'Бокситогорск', 'посёлок Александровская', 'деревня Лопухинка',\n",
       "       'Пикалёво', 'поселок Терволово',\n",
       "       'поселок городского типа Советский', 'Подпорожье',\n",
       "       'посёлок Петровское', 'посёлок городского типа Токсово',\n",
       "       'поселок Сельцо', 'посёлок городского типа Вырица',\n",
       "       'деревня Кипень', 'деревня Келози', 'деревня Вартемяги',\n",
       "       'посёлок Тельмана', 'поселок Севастьяново',\n",
       "       'городской поселок Большая Ижора', nan,\n",
       "       'городской посёлок Павлово', 'деревня Агалатово',\n",
       "       'посёлок Новогорелово', 'городской посёлок Лесогорский',\n",
       "       'деревня Лаголово', 'поселок Цвелодубово',\n",
       "       'поселок городского типа Рахья', 'поселок городского типа Вырица',\n",
       "       'деревня Белогорка', 'поселок Заводской',\n",
       "       'городской посёлок Новоселье', 'деревня Большие Колпаны',\n",
       "       'деревня Горбунки', 'деревня Батово', 'деревня Заневка',\n",
       "       'деревня Иссад', 'Приморск', 'городской посёлок Фёдоровское',\n",
       "       'деревня Мистолово', 'Новая Ладога', 'поселок Зимитицы',\n",
       "       'поселок Барышево', 'деревня Разметелево',\n",
       "       'поселок городского типа имени Свердлова', 'деревня Пеники',\n",
       "       'поселок Рябово', 'деревня Пудомяги', 'поселок станции Корнево',\n",
       "       'деревня Низино', 'деревня Бегуницы', 'посёлок Поляны',\n",
       "       'городской посёлок Мга', 'поселок Елизаветино',\n",
       "       'посёлок городского типа Кузнечное', 'деревня Колтуши',\n",
       "       'поселок Запорожское', 'посёлок городского типа Рощино',\n",
       "       'деревня Гостилицы', 'деревня Малое Карлино',\n",
       "       'посёлок Мичуринское', 'посёлок городского типа имени Морозова',\n",
       "       'посёлок Песочный', 'посёлок Сосново', 'деревня Аро',\n",
       "       'поселок Ильичёво', 'посёлок городского типа Тайцы',\n",
       "       'деревня Малое Верево', 'деревня Извара', 'поселок станции Вещево',\n",
       "       'село Паша', 'деревня Калитино',\n",
       "       'посёлок городского типа Ульяновка', 'деревня Чудской Бор',\n",
       "       'поселок городского типа Дубровка', 'деревня Мины',\n",
       "       'поселок Войсковицы', 'посёлок городского типа имени Свердлова',\n",
       "       'деревня Коркино', 'посёлок Ропша',\n",
       "       'поселок городского типа Приладожский', 'посёлок Щеглово',\n",
       "       'посёлок Гаврилово', 'Лодейное Поле', 'деревня Рабитицы',\n",
       "       'поселок городского типа Никольский', 'деревня Кузьмолово',\n",
       "       'деревня Малые Колпаны', 'поселок Тельмана',\n",
       "       'посёлок Петро-Славянка', 'городской посёлок Назия',\n",
       "       'посёлок Репино', 'посёлок Ильичёво', 'поселок Углово',\n",
       "       'поселок Старая Малукса', 'садовое товарищество Рахья',\n",
       "       'поселок Аннино', 'поселок Победа', 'деревня Меньково',\n",
       "       'деревня Старые Бегуницы', 'посёлок Сапёрный', 'поселок Семрино',\n",
       "       'поселок Гаврилово', 'поселок Глажево', 'поселок Кобринское',\n",
       "       'деревня Гарболово', 'деревня Юкки',\n",
       "       'поселок станции Приветнинское', 'деревня Мануйлово',\n",
       "       'деревня Пчева', 'поселок Поляны', 'поселок Цвылёво',\n",
       "       'поселок Мельниково', 'посёлок Пудость', 'посёлок Усть-Луга',\n",
       "       'Светогорск', 'Любань', 'поселок Селезнёво',\n",
       "       'поселок городского типа Рябово', 'Каменногорск', 'деревня Кривко',\n",
       "       'поселок Глебычево', 'деревня Парицы', 'поселок Жилпосёлок',\n",
       "       'посёлок городского типа Мга', 'городской поселок Янино-1',\n",
       "       'посёлок Войскорово', 'село Никольское', 'посёлок Терволово',\n",
       "       'поселок Стеклянный', 'посёлок городского типа Важины',\n",
       "       'посёлок Мыза-Ивановка', 'село Русско-Высоцкое',\n",
       "       'поселок городского типа Лебяжье',\n",
       "       'поселок городского типа Форносово', 'село Старая Ладога',\n",
       "       'поселок Житково', 'городской посёлок Виллози', 'деревня Лампово',\n",
       "       'деревня Шпаньково', 'деревня Лаврики', 'посёлок Сумино',\n",
       "       'посёлок Возрождение', 'деревня Старосиверская',\n",
       "       'посёлок Кикерино', 'поселок Возрождение',\n",
       "       'деревня Старое Хинколово', 'посёлок Пригородный',\n",
       "       'посёлок Торфяное', 'городской посёлок Будогощь',\n",
       "       'поселок Суходолье', 'поселок Красная Долина', 'деревня Хапо-Ое',\n",
       "       'поселок городского типа Дружная Горка', 'поселок Лисий Нос',\n",
       "       'деревня Яльгелево', 'посёлок Стеклянный', 'село Рождествено',\n",
       "       'деревня Старополье', 'посёлок Левашово', 'деревня Сяськелево',\n",
       "       'деревня Камышовка',\n",
       "       'садоводческое некоммерческое товарищество Лесная Поляна',\n",
       "       'деревня Хязельки', 'поселок Жилгородок',\n",
       "       'посёлок городского типа Павлово', 'деревня Ялгино',\n",
       "       'поселок Новый Учхоз', 'городской посёлок Рощино',\n",
       "       'поселок Гончарово', 'поселок Почап', 'посёлок Сапёрное',\n",
       "       'посёлок Платформа 69-й километр', 'поселок Каложицы',\n",
       "       'деревня Фалилеево', 'деревня Пельгора',\n",
       "       'поселок городского типа Лесогорский', 'деревня Торошковичи',\n",
       "       'посёлок Белоостров', 'посёлок Алексеевка', 'поселок Серебрянский',\n",
       "       'поселок Лукаши', 'поселок Петровское', 'деревня Щеглово',\n",
       "       'поселок Мичуринское', 'деревня Тарасово', 'поселок Кингисеппский',\n",
       "       'посёлок при железнодорожной станции Вещево', 'поселок Ушаки',\n",
       "       'деревня Котлы', 'деревня Сижно', 'деревня Торосово',\n",
       "       'посёлок Форт Красная Горка', 'поселок городского типа Токсово',\n",
       "       'деревня Новолисино', 'посёлок станции Громово', 'деревня Глинка',\n",
       "       'посёлок Мельниково', 'поселок городского типа Назия',\n",
       "       'деревня Старая Пустошь', 'поселок Коммунары', 'поселок Починок',\n",
       "       'посёлок городского типа Вознесенье', 'деревня Разбегаево',\n",
       "       'посёлок городского типа Рябово', 'поселок Гладкое',\n",
       "       'посёлок при железнодорожной станции Приветнинское',\n",
       "       'поселок Тёсово-4', 'посёлок Жилгородок', 'деревня Бор',\n",
       "       'посёлок Коробицыно', 'деревня Большая Вруда', 'деревня Курковицы',\n",
       "       'посёлок Лисий Нос', 'городской посёлок Советский',\n",
       "       'посёлок Кобралово', 'деревня Суоранда', 'поселок Кобралово',\n",
       "       'поселок городского типа Кондратьево',\n",
       "       'коттеджный поселок Счастье', 'поселок Любань', 'деревня Реброво',\n",
       "       'деревня Зимитицы', 'деревня Тойворово', 'поселок Семиозерье',\n",
       "       'поселок Лесное', 'поселок Совхозный', 'поселок Усть-Луга',\n",
       "       'посёлок Ленинское', 'посёлок Суйда',\n",
       "       'посёлок городского типа Форносово', 'деревня Нижние Осельки',\n",
       "       'посёлок станции Свирь', 'поселок Перово', 'Высоцк',\n",
       "       'поселок Гарболово', 'село Шум', 'поселок Котельский',\n",
       "       'поселок станции Лужайка', 'деревня Большая Пустомержа',\n",
       "       'поселок Красносельское', 'деревня Вахнова Кара', 'деревня Пижма',\n",
       "       'коттеджный поселок Кивеннапа Север', 'поселок Коробицыно',\n",
       "       'поселок Ромашки', 'посёлок Перово', 'деревня Каськово',\n",
       "       'деревня Куровицы', 'посёлок Плоское', 'поселок Сумино',\n",
       "       'поселок городского типа Большая Ижора', 'поселок Кирпичное',\n",
       "       'деревня Ям-Тесово', 'деревня Раздолье', 'деревня Терпилицы',\n",
       "       'посёлок Шугозеро', 'деревня Ваганово', 'поселок Пушное',\n",
       "       'садовое товарищество Садко', 'посёлок Усть-Ижора',\n",
       "       'деревня Выскатка', 'городской посёлок Свирьстрой',\n",
       "       'поселок Громово', 'деревня Кисельня', 'посёлок Старая Малукса',\n",
       "       'деревня Трубников Бор', 'поселок Калитино',\n",
       "       'посёлок Высокоключевой', 'садовое товарищество Приладожский',\n",
       "       'посёлок Пансионат Зелёный Бор', 'деревня Ненимяки',\n",
       "       'поселок Пансионат Зелёный Бор', 'деревня Снегирёвка',\n",
       "       'деревня Рапполово', 'деревня Пустынка', 'поселок Рабитицы',\n",
       "       'деревня Большой Сабск', 'деревня Русско', 'деревня Лупполово',\n",
       "       'деревня Большое Рейзино', 'деревня Малая Романовка',\n",
       "       'поселок Дружноселье', 'поселок Пчевжа', 'поселок Володарское',\n",
       "       'деревня Нижняя', 'коттеджный посёлок Лесное', 'деревня Тихковицы',\n",
       "       'деревня Борисова Грива', 'посёлок Дзержинского'], dtype=object)"
      ]
     },
     "execution_count": 15,
     "metadata": {},
     "output_type": "execute_result"
    }
   ],
   "source": [
    "data['locality_name'].unique()"
   ]
  },
  {
   "cell_type": "markdown",
   "id": "675a439d",
   "metadata": {},
   "source": [
    "В основном тут повторяются такие слова, как \"поселок\" и \"посёлок\", \"городской\" и \"городского типа\", и т.д. Поменяем их используя метод replace()\n"
   ]
  },
  {
   "cell_type": "code",
   "execution_count": 16,
   "id": "25549bac",
   "metadata": {},
   "outputs": [],
   "source": [
    "# приведем все к нижнему регистру\n",
    "data['locality_name'] = data['locality_name'].str.lower()\n",
    "\n",
    "# заменяем такие слова, как \"поселок\" и \"посёлок\"\n",
    "data['locality_name'] = data['locality_name'].str.replace('посёлок', 'поселок')\n",
    "\n",
    "# заменяем такие слова, как \"городской\" и \"городского типа\"\n",
    "data['locality_name'] = data['locality_name'].str.replace('городской', 'городского типа')"
   ]
  },
  {
   "cell_type": "markdown",
   "id": "e4b33570",
   "metadata": {},
   "source": [
    "Теперь проверим на количество явных дубликатов.\n"
   ]
  },
  {
   "cell_type": "code",
   "execution_count": 17,
   "id": "35ca8e9d",
   "metadata": {},
   "outputs": [
    {
     "name": "stdout",
     "output_type": "stream",
     "text": [
      "Количетво явных дубликатов: 0\n"
     ]
    }
   ],
   "source": [
    "print('Количетво явных дубликатов:', data.duplicated().sum())"
   ]
  },
  {
   "cell_type": "markdown",
   "id": "aa7c4863",
   "metadata": {},
   "source": [
    "Явных дубликатов нет, значит можно переходить к следующему заданию."
   ]
  },
  {
   "cell_type": "markdown",
   "id": "8dc82ef7",
   "metadata": {},
   "source": [
    " #### Шаг 4. Устраним аномальные значения.\n",
    " Выведем на экран таблицу и посмотрим есть ли выбросы на первый взгляд."
   ]
  },
  {
   "cell_type": "code",
   "execution_count": 18,
   "id": "799a0479",
   "metadata": {},
   "outputs": [
    {
     "data": {
      "text/html": [
       "<div>\n",
       "<style scoped>\n",
       "    .dataframe tbody tr th:only-of-type {\n",
       "        vertical-align: middle;\n",
       "    }\n",
       "\n",
       "    .dataframe tbody tr th {\n",
       "        vertical-align: top;\n",
       "    }\n",
       "\n",
       "    .dataframe thead th {\n",
       "        text-align: right;\n",
       "    }\n",
       "</style>\n",
       "<table border=\"1\" class=\"dataframe\">\n",
       "  <thead>\n",
       "    <tr style=\"text-align: right;\">\n",
       "      <th></th>\n",
       "      <th>total_images</th>\n",
       "      <th>last_price</th>\n",
       "      <th>total_area</th>\n",
       "      <th>rooms</th>\n",
       "      <th>ceiling_height</th>\n",
       "      <th>floors_total</th>\n",
       "      <th>living_area</th>\n",
       "      <th>floor</th>\n",
       "      <th>kitchen_area</th>\n",
       "      <th>balcony</th>\n",
       "      <th>airports_nearest</th>\n",
       "      <th>cityCenters_nearest</th>\n",
       "      <th>parks_around3000</th>\n",
       "      <th>parks_nearest</th>\n",
       "      <th>ponds_around3000</th>\n",
       "      <th>ponds_nearest</th>\n",
       "      <th>days_exposition</th>\n",
       "    </tr>\n",
       "  </thead>\n",
       "  <tbody>\n",
       "    <tr>\n",
       "      <th>count</th>\n",
       "      <td>23699.000000</td>\n",
       "      <td>2.369900e+04</td>\n",
       "      <td>23699.000000</td>\n",
       "      <td>23699.000000</td>\n",
       "      <td>23699.000000</td>\n",
       "      <td>23699.000000</td>\n",
       "      <td>23699.000000</td>\n",
       "      <td>23699.000000</td>\n",
       "      <td>23699.000000</td>\n",
       "      <td>23699.000000</td>\n",
       "      <td>18157.000000</td>\n",
       "      <td>18180.000000</td>\n",
       "      <td>23699.000000</td>\n",
       "      <td>23699.000000</td>\n",
       "      <td>23699.000000</td>\n",
       "      <td>9110.000000</td>\n",
       "      <td>23699.000000</td>\n",
       "    </tr>\n",
       "    <tr>\n",
       "      <th>mean</th>\n",
       "      <td>9.858475</td>\n",
       "      <td>6.541549e+06</td>\n",
       "      <td>60.348651</td>\n",
       "      <td>2.070636</td>\n",
       "      <td>2.724358</td>\n",
       "      <td>10.638719</td>\n",
       "      <td>34.594076</td>\n",
       "      <td>5.892358</td>\n",
       "      <td>10.506288</td>\n",
       "      <td>0.591080</td>\n",
       "      <td>28793.672193</td>\n",
       "      <td>14191.277833</td>\n",
       "      <td>0.469049</td>\n",
       "      <td>167.315499</td>\n",
       "      <td>0.590911</td>\n",
       "      <td>517.980900</td>\n",
       "      <td>1498.725347</td>\n",
       "    </tr>\n",
       "    <tr>\n",
       "      <th>std</th>\n",
       "      <td>5.682529</td>\n",
       "      <td>1.088701e+07</td>\n",
       "      <td>35.654083</td>\n",
       "      <td>1.078405</td>\n",
       "      <td>0.988298</td>\n",
       "      <td>6.610834</td>\n",
       "      <td>22.354668</td>\n",
       "      <td>4.885249</td>\n",
       "      <td>6.040000</td>\n",
       "      <td>0.959298</td>\n",
       "      <td>12630.880622</td>\n",
       "      <td>8608.386210</td>\n",
       "      <td>0.748534</td>\n",
       "      <td>306.709997</td>\n",
       "      <td>0.883999</td>\n",
       "      <td>277.720643</td>\n",
       "      <td>3353.244157</td>\n",
       "    </tr>\n",
       "    <tr>\n",
       "      <th>min</th>\n",
       "      <td>0.000000</td>\n",
       "      <td>1.219000e+04</td>\n",
       "      <td>12.000000</td>\n",
       "      <td>0.000000</td>\n",
       "      <td>1.000000</td>\n",
       "      <td>1.000000</td>\n",
       "      <td>2.000000</td>\n",
       "      <td>1.000000</td>\n",
       "      <td>1.300000</td>\n",
       "      <td>0.000000</td>\n",
       "      <td>0.000000</td>\n",
       "      <td>181.000000</td>\n",
       "      <td>0.000000</td>\n",
       "      <td>0.000000</td>\n",
       "      <td>0.000000</td>\n",
       "      <td>13.000000</td>\n",
       "      <td>1.000000</td>\n",
       "    </tr>\n",
       "    <tr>\n",
       "      <th>25%</th>\n",
       "      <td>6.000000</td>\n",
       "      <td>3.400000e+06</td>\n",
       "      <td>40.000000</td>\n",
       "      <td>1.000000</td>\n",
       "      <td>2.600000</td>\n",
       "      <td>5.000000</td>\n",
       "      <td>19.000000</td>\n",
       "      <td>2.000000</td>\n",
       "      <td>7.000000</td>\n",
       "      <td>0.000000</td>\n",
       "      <td>18585.000000</td>\n",
       "      <td>9238.000000</td>\n",
       "      <td>0.000000</td>\n",
       "      <td>0.000000</td>\n",
       "      <td>0.000000</td>\n",
       "      <td>294.000000</td>\n",
       "      <td>45.000000</td>\n",
       "    </tr>\n",
       "    <tr>\n",
       "      <th>50%</th>\n",
       "      <td>9.000000</td>\n",
       "      <td>4.650000e+06</td>\n",
       "      <td>52.000000</td>\n",
       "      <td>2.000000</td>\n",
       "      <td>2.650000</td>\n",
       "      <td>9.000000</td>\n",
       "      <td>30.000000</td>\n",
       "      <td>4.000000</td>\n",
       "      <td>9.000000</td>\n",
       "      <td>0.000000</td>\n",
       "      <td>26726.000000</td>\n",
       "      <td>13098.500000</td>\n",
       "      <td>0.000000</td>\n",
       "      <td>0.000000</td>\n",
       "      <td>0.000000</td>\n",
       "      <td>502.000000</td>\n",
       "      <td>124.000000</td>\n",
       "    </tr>\n",
       "    <tr>\n",
       "      <th>75%</th>\n",
       "      <td>14.000000</td>\n",
       "      <td>6.800000e+06</td>\n",
       "      <td>69.900000</td>\n",
       "      <td>3.000000</td>\n",
       "      <td>2.700000</td>\n",
       "      <td>16.000000</td>\n",
       "      <td>42.100000</td>\n",
       "      <td>8.000000</td>\n",
       "      <td>12.000000</td>\n",
       "      <td>1.000000</td>\n",
       "      <td>37273.000000</td>\n",
       "      <td>16293.000000</td>\n",
       "      <td>1.000000</td>\n",
       "      <td>301.000000</td>\n",
       "      <td>1.000000</td>\n",
       "      <td>729.000000</td>\n",
       "      <td>390.000000</td>\n",
       "    </tr>\n",
       "    <tr>\n",
       "      <th>max</th>\n",
       "      <td>50.000000</td>\n",
       "      <td>7.630000e+08</td>\n",
       "      <td>900.000000</td>\n",
       "      <td>19.000000</td>\n",
       "      <td>100.000000</td>\n",
       "      <td>60.000000</td>\n",
       "      <td>409.700000</td>\n",
       "      <td>33.000000</td>\n",
       "      <td>112.000000</td>\n",
       "      <td>5.000000</td>\n",
       "      <td>84869.000000</td>\n",
       "      <td>65968.000000</td>\n",
       "      <td>3.000000</td>\n",
       "      <td>3190.000000</td>\n",
       "      <td>3.000000</td>\n",
       "      <td>1344.000000</td>\n",
       "      <td>9999.000000</td>\n",
       "    </tr>\n",
       "  </tbody>\n",
       "</table>\n",
       "</div>"
      ],
      "text/plain": [
       "       total_images    last_price    total_area         rooms  ceiling_height  \\\n",
       "count  23699.000000  2.369900e+04  23699.000000  23699.000000    23699.000000   \n",
       "mean       9.858475  6.541549e+06     60.348651      2.070636        2.724358   \n",
       "std        5.682529  1.088701e+07     35.654083      1.078405        0.988298   \n",
       "min        0.000000  1.219000e+04     12.000000      0.000000        1.000000   \n",
       "25%        6.000000  3.400000e+06     40.000000      1.000000        2.600000   \n",
       "50%        9.000000  4.650000e+06     52.000000      2.000000        2.650000   \n",
       "75%       14.000000  6.800000e+06     69.900000      3.000000        2.700000   \n",
       "max       50.000000  7.630000e+08    900.000000     19.000000      100.000000   \n",
       "\n",
       "       floors_total   living_area         floor  kitchen_area       balcony  \\\n",
       "count  23699.000000  23699.000000  23699.000000  23699.000000  23699.000000   \n",
       "mean      10.638719     34.594076      5.892358     10.506288      0.591080   \n",
       "std        6.610834     22.354668      4.885249      6.040000      0.959298   \n",
       "min        1.000000      2.000000      1.000000      1.300000      0.000000   \n",
       "25%        5.000000     19.000000      2.000000      7.000000      0.000000   \n",
       "50%        9.000000     30.000000      4.000000      9.000000      0.000000   \n",
       "75%       16.000000     42.100000      8.000000     12.000000      1.000000   \n",
       "max       60.000000    409.700000     33.000000    112.000000      5.000000   \n",
       "\n",
       "       airports_nearest  cityCenters_nearest  parks_around3000  parks_nearest  \\\n",
       "count      18157.000000         18180.000000      23699.000000   23699.000000   \n",
       "mean       28793.672193         14191.277833          0.469049     167.315499   \n",
       "std        12630.880622          8608.386210          0.748534     306.709997   \n",
       "min            0.000000           181.000000          0.000000       0.000000   \n",
       "25%        18585.000000          9238.000000          0.000000       0.000000   \n",
       "50%        26726.000000         13098.500000          0.000000       0.000000   \n",
       "75%        37273.000000         16293.000000          1.000000     301.000000   \n",
       "max        84869.000000         65968.000000          3.000000    3190.000000   \n",
       "\n",
       "       ponds_around3000  ponds_nearest  days_exposition  \n",
       "count      23699.000000    9110.000000     23699.000000  \n",
       "mean           0.590911     517.980900      1498.725347  \n",
       "std            0.883999     277.720643      3353.244157  \n",
       "min            0.000000      13.000000         1.000000  \n",
       "25%            0.000000     294.000000        45.000000  \n",
       "50%            0.000000     502.000000       124.000000  \n",
       "75%            1.000000     729.000000       390.000000  \n",
       "max            3.000000    1344.000000      9999.000000  "
      ]
     },
     "execution_count": 18,
     "metadata": {},
     "output_type": "execute_result"
    }
   ],
   "source": [
    "data.describe()"
   ]
  },
  {
   "cell_type": "markdown",
   "id": "d65da563",
   "metadata": {},
   "source": [
    "Какие колонки зрительно имеют выбросы?\n",
    "\n",
    "total_area - максимальная площадь 900? Выглядит подозрительно. Возможно, что это элитная недвижимость. А минимальная площадь начинается с 12.\n",
    "\n",
    "rooms - максимальное значение комнат 19. Тоже может быть выпадом. Поэтому нужно перепроведить данную информацию. А минимальное количество комнат - 0. Может быть это студия или апартаменты. Надо посмотреть.\n",
    "\n",
    "ceiling_height - высота потолков. Здесь значение не должно быть больше 5 метров. Аномалии убираем.\n",
    "\n",
    "floors_total - всего этажей в доме. Максимальное значение 60. Тоже выглядит подозрительно. Данную информацию необходимо проверить.\n",
    "\n",
    "living_area - жилая площадь в квадратных метрах. Максимальный показатель в 409 тоже выглядит подозрительно. Подозреваю, что это аномалии. А минимальный показатель вообще 2 метра. Это что за жилая площадь такая? Будем проверять и убирать.\n",
    "\n",
    "Отдельно проверим каждый столбец и поработаем с ними."
   ]
  },
  {
   "cell_type": "markdown",
   "id": "6b205690",
   "metadata": {},
   "source": [
    "Для анализа аномальных значений возьмем столбец \"total_area\". Там слишком большой разброс квадратных метров, от 12 до 900. Предлагаю разбить его на 2 части: длят обычной и элитной недвижимости. Пусть элитная недвижимость будет больше 100 квадратных метров. А до 100 обычная."
   ]
  },
  {
   "cell_type": "code",
   "execution_count": 19,
   "id": "e9e9f72b",
   "metadata": {},
   "outputs": [
    {
     "name": "stdout",
     "output_type": "stream",
     "text": [
      "Квартир площадью менее 10 кв.м.: 0\n",
      "Квартир площадью более 100 кв.м.: 1836\n"
     ]
    }
   ],
   "source": [
    "print('Квартир площадью менее 10 кв.м.:',data.query('total_area < 10')['total_area'].count()) \n",
    "print('Квартир площадью более 100 кв.м.:',data.query('total_area > 100')['total_area'].count())"
   ]
  },
  {
   "cell_type": "markdown",
   "id": "737c70bd",
   "metadata": {},
   "source": [
    "Получается, что нет сильно маленьких квартир, а вот элитная недвижимость занимает весомую часть. Поэтому исключать эти данные, как я планировала ранее не буду."
   ]
  },
  {
   "cell_type": "markdown",
   "id": "7360251f",
   "metadata": {},
   "source": [
    "##### rooms\n",
    "\n",
    "Займемся комнатами. В таблице видно значения комнат от 0 до 19. 19 комнат скорее всего относятся к элитному жилью, но 0 комнат быть не может. Поэтому проверим, вдруг 0 комнат - это студиии или аппартаменты."
   ]
  },
  {
   "cell_type": "code",
   "execution_count": 20,
   "id": "e25b2330",
   "metadata": {},
   "outputs": [
    {
     "name": "stdout",
     "output_type": "stream",
     "text": [
      "Количество квартир без комнат: 197\n",
      "Количество квартир без комнат: 138\n",
      "Эти квартиры отмечены, как студии\n",
      " \n",
      "Количество квартир без комнат: 0\n",
      "Эти квартиры отмечены, как апартаменты\n",
      " \n",
      "Количество квартир без комнат: 59\n",
      "Эти квартиры отмечены, как жилье со свободной планировкой\n",
      " \n",
      "Итого, сумма квартир студий и со свободной планировкой: 197\n",
      "Количество квартир с одной комнатой: 8047\n",
      "Количество квартир с двумя комнатами: 7940\n",
      "Количество квартир с тремя комнатами: 5814\n",
      "Количество квартир с четырьмя комнатами: 1180\n",
      "Количество квартир с 5-7 комнатами: 490\n",
      "Количество квартир с 8-10 комнатами: 23\n",
      "Количество квартир с 10-15 комнатами: 9\n",
      "Количество квартир с 15-19 комнатами: 3\n"
     ]
    }
   ],
   "source": [
    "print('Количество квартир без комнат:', data.query('rooms == 0')['rooms'].count())\n",
    "print('Количество квартир без комнат:', data.query('rooms == 0 and studio')['rooms'].count())\n",
    "print('Эти квартиры отмечены, как студии')\n",
    "print(' ')\n",
    "print('Количество квартир без комнат:', data.query('rooms == 0 and is_apartment')['rooms'].count())  \n",
    "print('Эти квартиры отмечены, как апартаменты')\n",
    "print(' ')\n",
    "print('Количество квартир без комнат:', data.query('rooms == 0 and open_plan')['rooms'].count())  \n",
    "print('Эти квартиры отмечены, как жилье со свободной планировкой')\n",
    "print(' ')\n",
    "print('Итого, сумма квартир студий и со свободной планировкой:', (data.query('rooms == 0 and studio')['rooms'].count())+ (data.query('rooms == 0 and open_plan')['rooms'].count()))\n",
    "\n",
    "print('Количество квартир с одной комнатой:', data.query('rooms == 1')['rooms'].count())\n",
    "print('Количество квартир с двумя комнатами:', data.query('rooms == 2')['rooms'].count())\n",
    "print('Количество квартир с тремя комнатами:', data.query('rooms == 3')['rooms'].count())\n",
    "print('Количество квартир с четырьмя комнатами:', data.query('rooms == 4')['rooms'].count())\n",
    "print('Количество квартир с 5-7 комнатами:', data.query('rooms >= 5 and rooms <= 7')['rooms'].count())\n",
    "print('Количество квартир с 8-10 комнатами:', data.query('rooms >= 8 and rooms <= 10')['rooms'].count())\n",
    "print('Количество квартир с 10-15 комнатами:', data.query('rooms >= 10 and rooms <= 15')['rooms'].count())\n",
    "print('Количество квартир с 15-19 комнатами:', data.query('rooms >= 15 and rooms <= 19')['rooms'].count())"
   ]
  },
  {
   "cell_type": "markdown",
   "id": "ddc68eca",
   "metadata": {},
   "source": [
    "Уберем данные о квартирах с 8-19 комнатами, так как они занимают меньше 2% от данных и не влияют на исследование."
   ]
  },
  {
   "cell_type": "code",
   "execution_count": 21,
   "id": "c0a32c33",
   "metadata": {},
   "outputs": [
    {
     "name": "stdout",
     "output_type": "stream",
     "text": [
      "Количество квартир до 7 комнат: 23668\n",
      "Количество квартир с 8-10 комнатами: 0\n",
      "Количество квартир с 10-15 комнатами: 0\n",
      "Количество квартир с 15-19 комнатами: 0\n"
     ]
    }
   ],
   "source": [
    "data['rooms'] = data.query('rooms <= 7')['rooms']\n",
    "print('Количество квартир до 7 комнат:', data.query('rooms <= 7')['rooms'].count())\n",
    "print('Количество квартир с 8-10 комнатами:', data.query('rooms >= 8 and rooms <= 10')['rooms'].count())\n",
    "print('Количество квартир с 10-15 комнатами:', data.query('rooms >= 10 and rooms <= 15')['rooms'].count())\n",
    "print('Количество квартир с 15-19 комнатами:', data.query('rooms >= 15 and rooms <= 19')['rooms'].count())"
   ]
  },
  {
   "cell_type": "markdown",
   "id": "f096b47e",
   "metadata": {},
   "source": [
    "##### ceiling_height \n",
    "\n",
    "Высота потолков. Здесь значение не должно быть больше 5 метров. Аномалии убираем.\n"
   ]
  },
  {
   "cell_type": "code",
   "execution_count": 22,
   "id": "8d4ac526",
   "metadata": {},
   "outputs": [
    {
     "data": {
      "text/plain": [
       "array([  2.7 ,   2.65,   3.03,   2.5 ,   2.67,   2.56,   3.05,   2.75,\n",
       "         2.6 ,   2.9 ,   2.8 ,   2.55,   3.  ,   3.2 ,   2.61,   3.25,\n",
       "         3.45,   2.77,   2.85,   2.64,   2.57,   4.15,   3.5 ,   3.3 ,\n",
       "         2.71,   4.  ,   2.47,   2.73,   2.84,   3.1 ,   2.34,   3.4 ,\n",
       "         3.06,   2.72,   2.54,   2.51,   2.78,   2.76,  25.  ,   2.58,\n",
       "         3.7 ,   2.52,   5.2 ,   2.87,   2.66,   2.59,   2.  ,   2.45,\n",
       "         3.6 ,   2.92,   3.11,   3.13,   3.8 ,   3.15,   3.55,   3.16,\n",
       "         3.62,   3.12,   2.53,   2.74,   2.96,   2.46,   5.3 ,   5.  ,\n",
       "         2.79,   2.95,   4.06,   2.94,   3.82,   3.54,   3.53,   2.83,\n",
       "         4.7 ,   2.4 ,   3.38,   3.01,   5.6 ,   3.65,   3.9 ,   3.18,\n",
       "         3.35,   2.3 ,   3.57,   2.48,   2.62,   2.82,   3.98,   2.63,\n",
       "         3.83,   3.52,   3.95,   3.75,   2.88,   3.67,   3.87,   3.66,\n",
       "         3.85,   3.86,   4.19,   3.24,   4.8 ,   4.5 ,   4.2 ,   3.36,\n",
       "        32.  ,   3.08,   3.68,   3.07,   3.37,   3.09,   8.  ,   3.26,\n",
       "         3.34,   2.81,   3.44,   2.97,   3.14,   4.37,   2.68,   3.22,\n",
       "         3.27,  27.  ,   4.1 ,   2.93,   3.46,  24.  ,   3.47,   3.33,\n",
       "         3.63,   3.32,  26.  ,   1.2 ,   8.3 ,   2.98,   2.86,   3.17,\n",
       "         4.4 ,   3.28,   3.04,   4.45,   5.5 ,   3.84,   3.23,   3.02,\n",
       "         3.21,   3.43,   3.78,   4.3 ,   3.39,   2.69,   3.31,   4.65,\n",
       "         3.56,   2.2 ,   3.51,   3.93,   3.42,   2.99,   3.49,  14.  ,\n",
       "         4.14,   2.91,   3.88,   1.75,   4.25,   3.29,  20.  ,   2.25,\n",
       "         3.76,   3.69,   6.  ,  22.6 ,   2.89,   3.58,   5.8 ,  27.5 ,\n",
       "         2.49,   4.9 ,   3.48,  10.3 ,   1.  , 100.  ,   3.59])"
      ]
     },
     "execution_count": 22,
     "metadata": {},
     "output_type": "execute_result"
    }
   ],
   "source": [
    "data['ceiling_height'].unique()"
   ]
  },
  {
   "cell_type": "markdown",
   "id": "7aa28a6f",
   "metadata": {},
   "source": [
    "Убираем выбросы c помощью метода query(). Но перед этим нужно убрать nan из списка.\n"
   ]
  },
  {
   "cell_type": "code",
   "execution_count": 23,
   "id": "999a90af",
   "metadata": {},
   "outputs": [],
   "source": [
    "data['ceiling_height'] = data['ceiling_height'].fillna(data['ceiling_height'].median())\n",
    "\n",
    "data = data.query('ceiling_height < 5')"
   ]
  },
  {
   "cell_type": "code",
   "execution_count": 24,
   "id": "4f7d4a05",
   "metadata": {},
   "outputs": [
    {
     "data": {
      "text/plain": [
       "array([2.7 , 2.65, 3.03, 2.5 , 2.67, 2.56, 3.05, 2.75, 2.6 , 2.9 , 2.8 ,\n",
       "       2.55, 3.  , 3.2 , 2.61, 3.25, 3.45, 2.77, 2.85, 2.64, 2.57, 4.15,\n",
       "       3.5 , 3.3 , 2.71, 4.  , 2.47, 2.73, 2.84, 3.1 , 2.34, 3.4 , 3.06,\n",
       "       2.72, 2.54, 2.51, 2.78, 2.76, 2.58, 3.7 , 2.52, 2.87, 2.66, 2.59,\n",
       "       2.  , 2.45, 3.6 , 2.92, 3.11, 3.13, 3.8 , 3.15, 3.55, 3.16, 3.62,\n",
       "       3.12, 2.53, 2.74, 2.96, 2.46, 2.79, 2.95, 4.06, 2.94, 3.82, 3.54,\n",
       "       3.53, 2.83, 4.7 , 2.4 , 3.38, 3.01, 3.65, 3.9 , 3.18, 3.35, 2.3 ,\n",
       "       3.57, 2.48, 2.62, 2.82, 3.98, 2.63, 3.83, 3.52, 3.95, 3.75, 2.88,\n",
       "       3.67, 3.87, 3.66, 3.85, 3.86, 4.19, 3.24, 4.8 , 4.5 , 4.2 , 3.36,\n",
       "       3.08, 3.68, 3.07, 3.37, 3.09, 3.26, 3.34, 2.81, 3.44, 2.97, 3.14,\n",
       "       4.37, 2.68, 3.22, 3.27, 4.1 , 2.93, 3.46, 3.47, 3.33, 3.63, 3.32,\n",
       "       1.2 , 2.98, 2.86, 3.17, 4.4 , 3.28, 3.04, 4.45, 3.84, 3.23, 3.02,\n",
       "       3.21, 3.43, 3.78, 4.3 , 3.39, 2.69, 3.31, 4.65, 3.56, 2.2 , 3.51,\n",
       "       3.93, 3.42, 2.99, 3.49, 4.14, 2.91, 3.88, 1.75, 4.25, 3.29, 2.25,\n",
       "       3.76, 3.69, 2.89, 3.58, 2.49, 4.9 , 3.48, 1.  , 3.59])"
      ]
     },
     "execution_count": 24,
     "metadata": {},
     "output_type": "execute_result"
    }
   ],
   "source": [
    "data['ceiling_height'].unique()"
   ]
  },
  {
   "cell_type": "markdown",
   "id": "65865a80",
   "metadata": {},
   "source": [
    "Получилось убрать все аномальные значения из столбца 'ceiling_height'."
   ]
  },
  {
   "cell_type": "markdown",
   "id": "53def4cb",
   "metadata": {},
   "source": [
    "##### floors_total\n",
    "Займемся показателем floors_total - всего этажей в доме. "
   ]
  },
  {
   "cell_type": "code",
   "execution_count": 25,
   "id": "c50e3a95",
   "metadata": {},
   "outputs": [
    {
     "name": "stdout",
     "output_type": "stream",
     "text": [
      "Количество квартир из домов до 5 этажей: 8129\n",
      "Количество квартир из домов на 6-10 этажей: 6824\n",
      "Количество квартир из домов на 11-20 этажей: 6030\n",
      "Количество квартир из домов на 21-30 этажей: 2648\n",
      "Количество квартир из домов на 31-40 этажей: 29\n",
      "Количество квартир из домов на 41-50 этажей: 0\n",
      "Количество квартир из домов на 51-60 этажей: 2\n"
     ]
    }
   ],
   "source": [
    "print('Количество квартир из домов до 5 этажей:', data.query('floors_total <= 5')['floors_total'].count()) \n",
    "print('Количество квартир из домов на 6-10 этажей:', data.query('floors_total >= 6 and floors_total <= 10')['floors_total'].count())\n",
    "print('Количество квартир из домов на 11-20 этажей:', data.query('floors_total >= 11 and floors_total <= 20')['floors_total'].count())\n",
    "print('Количество квартир из домов на 21-30 этажей:', data.query('floors_total >= 21 and floors_total <= 30')['floors_total'].count())\n",
    "print('Количество квартир из домов на 31-40 этажей:', data.query('floors_total >= 31 and floors_total <= 40')['floors_total'].count())\n",
    "print('Количество квартир из домов на 41-50 этажей:', data.query('floors_total >= 41 and floors_total <= 50')['floors_total'].count())\n",
    "print('Количество квартир из домов на 51-60 этажей:', data.query('floors_total >= 51 and floors_total <= 60')['floors_total'].count())"
   ]
  },
  {
   "cell_type": "markdown",
   "id": "ddb529bd",
   "metadata": {},
   "source": [
    "Итого получается, что большинство квартир сосредоточены в домах до 30 этажей. Домов в диапазоне от 21 до 30 этажей всего 27. Это меньше, чем 2%. Поэтому такие данные мы будем удалять. Также домов на 51-60 этажей всего 2. Поэтому такие значения мы тоже удалим, как ничтожно малые."
   ]
  },
  {
   "cell_type": "code",
   "execution_count": 26,
   "id": "af25e842",
   "metadata": {},
   "outputs": [
    {
     "name": "stdout",
     "output_type": "stream",
     "text": [
      "Количество квартир из домов до 5 этажей: 8129\n",
      "Количество квартир из домов на 6-10 этажей: 6824\n",
      "Количество квартир из домов на 11-20 этажей: 6030\n",
      "Количество квартир из домов на 21-30 этажей: 2648\n",
      "Количество квартир из домов на 31-40 этажей: 0\n",
      "Количество квартир из домов на 41-50 этажей: 0\n",
      "Количество квартир из домов на 51-60 этажей: 0\n"
     ]
    }
   ],
   "source": [
    "data = data[(data['floors_total'] != 31) & (data['floors_total'] != 32) \n",
    "          & (data['floors_total'] != 33) & (data['floors_total'] != 34) \n",
    "          & (data['floors_total'] != 35) & (data['floors_total'] != 36)\n",
    "          & (data['floors_total'] != 37) & (data['floors_total'] != 38)\n",
    "          & (data['floors_total'] != 39) & (data['floors_total'] != 40)]\n",
    "          \n",
    "\n",
    "data = data[(data['floors_total'] != 51) & (data['floors_total'] != 52) \n",
    "          & (data['floors_total'] != 53) & (data['floors_total'] != 54) \n",
    "          & (data['floors_total'] != 55) & (data['floors_total'] != 56)\n",
    "          & (data['floors_total'] != 57) & (data['floors_total'] != 58)\n",
    "          & (data['floors_total'] != 59) & (data['floors_total'] != 60)]\n",
    "\n",
    "print('Количество квартир из домов до 5 этажей:', data.query('floors_total <= 5')['floors_total'].count()) \n",
    "print('Количество квартир из домов на 6-10 этажей:', data.query('floors_total >= 6 and floors_total <= 10')['floors_total'].count())\n",
    "print('Количество квартир из домов на 11-20 этажей:', data.query('floors_total >= 11 and floors_total <= 20')['floors_total'].count())\n",
    "print('Количество квартир из домов на 21-30 этажей:', data.query('floors_total >= 21 and floors_total <= 30')['floors_total'].count())\n",
    "print('Количество квартир из домов на 31-40 этажей:', data.query('floors_total >= 31 and floors_total <= 40')['floors_total'].count())\n",
    "print('Количество квартир из домов на 41-50 этажей:', data.query('floors_total >= 41 and floors_total <= 50')['floors_total'].count())\n",
    "print('Количество квартир из домов на 51-60 этажей:', data.query('floors_total >= 51 and floors_total <= 60')['floors_total'].count())"
   ]
  },
  {
   "cell_type": "markdown",
   "id": "29355d20",
   "metadata": {},
   "source": [
    "##### living_area - жилая площадь в квадратных метрах.\n",
    "\n",
    "Посмотрим, как распределяется жилая площадь и в какой категории больше всего квартир. Предварительно минимальная площадь 2 квадратных метра выглядит подозрительно. Возможно, просто опечатались и написали 2 м вместо 20 м.\n",
    "\n",
    "А максимальное значение в 409 квадратныхметров, которое вначале показалось выбросом, теперь я отнесла к элитному жилью, которое тоже вошло в датасет.\n",
    "\n",
    "Поэтому сосредоточимся на маленьких значениях жилой площади до 10 квадратных метров."
   ]
  },
  {
   "cell_type": "code",
   "execution_count": 27,
   "id": "55d6c4de",
   "metadata": {},
   "outputs": [
    {
     "name": "stdout",
     "output_type": "stream",
     "text": [
      "Количество квартир с жилой площадью 2 квадратных метра: 2\n",
      "Количество квартир с жилой площадью 3 квадратных метра: 4\n",
      "Количество квартир с жилой площадью 4 квадратных метра: 4\n",
      "Количество квартир с жилой площадью 5 квадратных метр: 5\n",
      "Количество квартир с жилой площадью 6 квадратных метра: 7\n",
      "Количество квартир с жилой площадью 7 квадратных метра: 8\n",
      "Количество квартир с жилой площадью 8 квадратных метра: 13\n",
      "Количество квартир с жилой площадью 9 квадратных метра: 28\n",
      "Количество квартир с жилой площадью 10 квадратных метра: 64\n"
     ]
    }
   ],
   "source": [
    "print('Количество квартир с жилой площадью 2 квадратных метра:', data.query('living_area <= 2')['living_area'].count()) \n",
    "print('Количество квартир с жилой площадью 3 квадратных метра:', data.query('living_area <= 3')['living_area'].count()) \n",
    "print('Количество квартир с жилой площадью 4 квадратных метра:', data.query('living_area <= 4')['living_area'].count())\n",
    "print('Количество квартир с жилой площадью 5 квадратных метр:', data.query('living_area <= 5')['living_area'].count())\n",
    "print('Количество квартир с жилой площадью 6 квадратных метра:', data.query('living_area <= 6')['living_area'].count())\n",
    "print('Количество квартир с жилой площадью 7 квадратных метра:', data.query('living_area <= 7')['living_area'].count())\n",
    "print('Количество квартир с жилой площадью 8 квадратных метра:', data.query('living_area <= 8')['living_area'].count())\n",
    "print('Количество квартир с жилой площадью 9 квадратных метра:', data.query('living_area <= 9')['living_area'].count())\n",
    "print('Количество квартир с жилой площадью 10 квадратных метра:', data.query('living_area <= 10')['living_area'].count())"
   ]
  },
  {
   "cell_type": "markdown",
   "id": "58c08769",
   "metadata": {},
   "source": [
    "Получается, что у нас всего 58 квартир жилой площадью до 10 квадратных метров. Мы можем убрать их из выборки, потому что они не влияют на исследования, так как занимают меньше 2%."
   ]
  },
  {
   "cell_type": "code",
   "execution_count": 28,
   "id": "e5d85b5b",
   "metadata": {},
   "outputs": [
    {
     "name": "stdout",
     "output_type": "stream",
     "text": [
      "Количество квартир с жилой площадью 10 квадратных метра: 0\n"
     ]
    }
   ],
   "source": [
    "data.drop(index=data.query('living_area <= 10').index,inplace=True)\n",
    "print('Количество квартир с жилой площадью 10 квадратных метра:', data.query('living_area <= 10')['living_area'].count())"
   ]
  },
  {
   "cell_type": "markdown",
   "id": "b59a76ab",
   "metadata": {},
   "source": [
    "#### Шаг 3. Добавьте в таблицу новые столбцы со следующими параметрами:"
   ]
  },
  {
   "cell_type": "markdown",
   "id": "7c585214",
   "metadata": {},
   "source": [
    "Стоимость одного квадратного метра. Для этого создадим столбец с названием \"cost_1_square_meter\". Его мы рассчитаем поделив стоимость квартиры на количество квадратных метров."
   ]
  },
  {
   "cell_type": "code",
   "execution_count": 29,
   "id": "6734d31d",
   "metadata": {},
   "outputs": [
    {
     "data": {
      "text/html": [
       "<div>\n",
       "<style scoped>\n",
       "    .dataframe tbody tr th:only-of-type {\n",
       "        vertical-align: middle;\n",
       "    }\n",
       "\n",
       "    .dataframe tbody tr th {\n",
       "        vertical-align: top;\n",
       "    }\n",
       "\n",
       "    .dataframe thead th {\n",
       "        text-align: right;\n",
       "    }\n",
       "</style>\n",
       "<table border=\"1\" class=\"dataframe\">\n",
       "  <thead>\n",
       "    <tr style=\"text-align: right;\">\n",
       "      <th></th>\n",
       "      <th>total_images</th>\n",
       "      <th>last_price</th>\n",
       "      <th>total_area</th>\n",
       "      <th>first_day_exposition</th>\n",
       "      <th>rooms</th>\n",
       "      <th>ceiling_height</th>\n",
       "      <th>floors_total</th>\n",
       "      <th>living_area</th>\n",
       "      <th>floor</th>\n",
       "      <th>is_apartment</th>\n",
       "      <th>...</th>\n",
       "      <th>balcony</th>\n",
       "      <th>locality_name</th>\n",
       "      <th>airports_nearest</th>\n",
       "      <th>cityCenters_nearest</th>\n",
       "      <th>parks_around3000</th>\n",
       "      <th>parks_nearest</th>\n",
       "      <th>ponds_around3000</th>\n",
       "      <th>ponds_nearest</th>\n",
       "      <th>days_exposition</th>\n",
       "      <th>cost_1_sqmeter</th>\n",
       "    </tr>\n",
       "  </thead>\n",
       "  <tbody>\n",
       "    <tr>\n",
       "      <th>0</th>\n",
       "      <td>20</td>\n",
       "      <td>13000000</td>\n",
       "      <td>108.0</td>\n",
       "      <td>2019-03-07</td>\n",
       "      <td>3.0</td>\n",
       "      <td>2.70</td>\n",
       "      <td>16.0</td>\n",
       "      <td>51.000000</td>\n",
       "      <td>8</td>\n",
       "      <td>False</td>\n",
       "      <td>...</td>\n",
       "      <td>0</td>\n",
       "      <td>санкт-петербург</td>\n",
       "      <td>18863.0</td>\n",
       "      <td>16028.0</td>\n",
       "      <td>1</td>\n",
       "      <td>482.0</td>\n",
       "      <td>2</td>\n",
       "      <td>755.0</td>\n",
       "      <td>9999</td>\n",
       "      <td>254901.960784</td>\n",
       "    </tr>\n",
       "    <tr>\n",
       "      <th>1</th>\n",
       "      <td>7</td>\n",
       "      <td>3350000</td>\n",
       "      <td>40.4</td>\n",
       "      <td>2018-12-04</td>\n",
       "      <td>1.0</td>\n",
       "      <td>2.65</td>\n",
       "      <td>11.0</td>\n",
       "      <td>18.600000</td>\n",
       "      <td>1</td>\n",
       "      <td>False</td>\n",
       "      <td>...</td>\n",
       "      <td>2</td>\n",
       "      <td>поселок шушары</td>\n",
       "      <td>12817.0</td>\n",
       "      <td>18603.0</td>\n",
       "      <td>0</td>\n",
       "      <td>0.0</td>\n",
       "      <td>0</td>\n",
       "      <td>NaN</td>\n",
       "      <td>81</td>\n",
       "      <td>180107.526882</td>\n",
       "    </tr>\n",
       "    <tr>\n",
       "      <th>2</th>\n",
       "      <td>10</td>\n",
       "      <td>5196000</td>\n",
       "      <td>56.0</td>\n",
       "      <td>2015-08-20</td>\n",
       "      <td>2.0</td>\n",
       "      <td>2.65</td>\n",
       "      <td>5.0</td>\n",
       "      <td>34.300000</td>\n",
       "      <td>4</td>\n",
       "      <td>False</td>\n",
       "      <td>...</td>\n",
       "      <td>0</td>\n",
       "      <td>санкт-петербург</td>\n",
       "      <td>21741.0</td>\n",
       "      <td>13933.0</td>\n",
       "      <td>1</td>\n",
       "      <td>90.0</td>\n",
       "      <td>2</td>\n",
       "      <td>574.0</td>\n",
       "      <td>558</td>\n",
       "      <td>151486.880466</td>\n",
       "    </tr>\n",
       "    <tr>\n",
       "      <th>3</th>\n",
       "      <td>0</td>\n",
       "      <td>64900000</td>\n",
       "      <td>159.0</td>\n",
       "      <td>2015-07-24</td>\n",
       "      <td>3.0</td>\n",
       "      <td>2.65</td>\n",
       "      <td>14.0</td>\n",
       "      <td>90.785766</td>\n",
       "      <td>9</td>\n",
       "      <td>False</td>\n",
       "      <td>...</td>\n",
       "      <td>0</td>\n",
       "      <td>санкт-петербург</td>\n",
       "      <td>28098.0</td>\n",
       "      <td>6800.0</td>\n",
       "      <td>2</td>\n",
       "      <td>84.0</td>\n",
       "      <td>3</td>\n",
       "      <td>234.0</td>\n",
       "      <td>424</td>\n",
       "      <td>714869.770085</td>\n",
       "    </tr>\n",
       "    <tr>\n",
       "      <th>4</th>\n",
       "      <td>2</td>\n",
       "      <td>10000000</td>\n",
       "      <td>100.0</td>\n",
       "      <td>2018-06-19</td>\n",
       "      <td>2.0</td>\n",
       "      <td>3.03</td>\n",
       "      <td>14.0</td>\n",
       "      <td>32.000000</td>\n",
       "      <td>13</td>\n",
       "      <td>False</td>\n",
       "      <td>...</td>\n",
       "      <td>0</td>\n",
       "      <td>санкт-петербург</td>\n",
       "      <td>31856.0</td>\n",
       "      <td>8098.0</td>\n",
       "      <td>2</td>\n",
       "      <td>112.0</td>\n",
       "      <td>1</td>\n",
       "      <td>48.0</td>\n",
       "      <td>121</td>\n",
       "      <td>312500.000000</td>\n",
       "    </tr>\n",
       "  </tbody>\n",
       "</table>\n",
       "<p>5 rows × 23 columns</p>\n",
       "</div>"
      ],
      "text/plain": [
       "   total_images  last_price  total_area first_day_exposition  rooms  \\\n",
       "0            20    13000000       108.0           2019-03-07    3.0   \n",
       "1             7     3350000        40.4           2018-12-04    1.0   \n",
       "2            10     5196000        56.0           2015-08-20    2.0   \n",
       "3             0    64900000       159.0           2015-07-24    3.0   \n",
       "4             2    10000000       100.0           2018-06-19    2.0   \n",
       "\n",
       "   ceiling_height  floors_total  living_area  floor  is_apartment  ...  \\\n",
       "0            2.70          16.0    51.000000      8         False  ...   \n",
       "1            2.65          11.0    18.600000      1         False  ...   \n",
       "2            2.65           5.0    34.300000      4         False  ...   \n",
       "3            2.65          14.0    90.785766      9         False  ...   \n",
       "4            3.03          14.0    32.000000     13         False  ...   \n",
       "\n",
       "   balcony    locality_name  airports_nearest  cityCenters_nearest  \\\n",
       "0        0  санкт-петербург           18863.0              16028.0   \n",
       "1        2   поселок шушары           12817.0              18603.0   \n",
       "2        0  санкт-петербург           21741.0              13933.0   \n",
       "3        0  санкт-петербург           28098.0               6800.0   \n",
       "4        0  санкт-петербург           31856.0               8098.0   \n",
       "\n",
       "  parks_around3000  parks_nearest  ponds_around3000  ponds_nearest  \\\n",
       "0                1          482.0                 2          755.0   \n",
       "1                0            0.0                 0            NaN   \n",
       "2                1           90.0                 2          574.0   \n",
       "3                2           84.0                 3          234.0   \n",
       "4                2          112.0                 1           48.0   \n",
       "\n",
       "   days_exposition  cost_1_sqmeter  \n",
       "0             9999   254901.960784  \n",
       "1               81   180107.526882  \n",
       "2              558   151486.880466  \n",
       "3              424   714869.770085  \n",
       "4              121   312500.000000  \n",
       "\n",
       "[5 rows x 23 columns]"
      ]
     },
     "execution_count": 29,
     "metadata": {},
     "output_type": "execute_result"
    }
   ],
   "source": [
    "data['cost_1_sqmeter'] = data['last_price']/data['living_area']\n",
    "data.head()"
   ]
  },
  {
   "cell_type": "markdown",
   "id": "1a5c8b83",
   "metadata": {},
   "source": [
    "Вывели таблицу на экран и увидели, что добавился новый столбец в конце. Значит все сделали верно."
   ]
  },
  {
   "cell_type": "markdown",
   "id": "61666082",
   "metadata": {},
   "source": [
    "Добавим новый столбец день недели публикации объявления. Назовем его \"dayofweek\"."
   ]
  },
  {
   "cell_type": "code",
   "execution_count": 30,
   "id": "5e32cab9",
   "metadata": {},
   "outputs": [],
   "source": [
    "data['dayofweek'] = data['first_day_exposition'].dt.weekday"
   ]
  },
  {
   "cell_type": "markdown",
   "id": "3c8d836f",
   "metadata": {},
   "source": [
    "Создадим новый столбец - месяц публикации объявления."
   ]
  },
  {
   "cell_type": "code",
   "execution_count": 31,
   "id": "49bea65f",
   "metadata": {},
   "outputs": [],
   "source": [
    "data['month'] = data['first_day_exposition'].dt.month"
   ]
  },
  {
   "cell_type": "markdown",
   "id": "636c2e14",
   "metadata": {},
   "source": [
    "Создадим еще одну колонку с годом публикации."
   ]
  },
  {
   "cell_type": "code",
   "execution_count": 32,
   "id": "6aa6ce38",
   "metadata": {},
   "outputs": [],
   "source": [
    "data['year'] = data['first_day_exposition'].dt.year"
   ]
  },
  {
   "cell_type": "markdown",
   "id": "9f4ff04e",
   "metadata": {},
   "source": [
    "Создадим еще одну колонку с типом этажа квартиры (значения — «‎первый», «последний», «другой»). Для этого напишем цикл."
   ]
  },
  {
   "cell_type": "code",
   "execution_count": 33,
   "id": "63746be6",
   "metadata": {},
   "outputs": [],
   "source": [
    "def floor_group(row):\n",
    "    if row['floor'] == 1:\n",
    "        return 'первый'\n",
    "    elif row['floor'] == row['floors_total']:\n",
    "        return 'последний'\n",
    "    else:\n",
    "        return 'другой'\n",
    "data['floor_type'] = data.apply(floor_group, axis=1)"
   ]
  },
  {
   "cell_type": "markdown",
   "id": "57a2ff9c",
   "metadata": {},
   "source": [
    "Создадим столбец 'cityCenters_nearest_km' и посмотрим какие дома находятся рядом с центром города."
   ]
  },
  {
   "cell_type": "code",
   "execution_count": 34,
   "id": "0360d9d9",
   "metadata": {},
   "outputs": [
    {
     "data": {
      "text/html": [
       "<div>\n",
       "<style scoped>\n",
       "    .dataframe tbody tr th:only-of-type {\n",
       "        vertical-align: middle;\n",
       "    }\n",
       "\n",
       "    .dataframe tbody tr th {\n",
       "        vertical-align: top;\n",
       "    }\n",
       "\n",
       "    .dataframe thead th {\n",
       "        text-align: right;\n",
       "    }\n",
       "</style>\n",
       "<table border=\"1\" class=\"dataframe\">\n",
       "  <thead>\n",
       "    <tr style=\"text-align: right;\">\n",
       "      <th></th>\n",
       "      <th>total_images</th>\n",
       "      <th>last_price</th>\n",
       "      <th>total_area</th>\n",
       "      <th>first_day_exposition</th>\n",
       "      <th>rooms</th>\n",
       "      <th>ceiling_height</th>\n",
       "      <th>floors_total</th>\n",
       "      <th>living_area</th>\n",
       "      <th>floor</th>\n",
       "      <th>is_apartment</th>\n",
       "      <th>...</th>\n",
       "      <th>parks_nearest</th>\n",
       "      <th>ponds_around3000</th>\n",
       "      <th>ponds_nearest</th>\n",
       "      <th>days_exposition</th>\n",
       "      <th>cost_1_sqmeter</th>\n",
       "      <th>dayofweek</th>\n",
       "      <th>month</th>\n",
       "      <th>year</th>\n",
       "      <th>floor_type</th>\n",
       "      <th>cityCenters_nearest_km</th>\n",
       "    </tr>\n",
       "  </thead>\n",
       "  <tbody>\n",
       "    <tr>\n",
       "      <th>0</th>\n",
       "      <td>20</td>\n",
       "      <td>13000000</td>\n",
       "      <td>108.0</td>\n",
       "      <td>2019-03-07</td>\n",
       "      <td>3.0</td>\n",
       "      <td>2.70</td>\n",
       "      <td>16.0</td>\n",
       "      <td>51.000000</td>\n",
       "      <td>8</td>\n",
       "      <td>False</td>\n",
       "      <td>...</td>\n",
       "      <td>482.0</td>\n",
       "      <td>2</td>\n",
       "      <td>755.0</td>\n",
       "      <td>9999</td>\n",
       "      <td>254901.960784</td>\n",
       "      <td>3</td>\n",
       "      <td>3</td>\n",
       "      <td>2019</td>\n",
       "      <td>другой</td>\n",
       "      <td>16.0</td>\n",
       "    </tr>\n",
       "    <tr>\n",
       "      <th>1</th>\n",
       "      <td>7</td>\n",
       "      <td>3350000</td>\n",
       "      <td>40.4</td>\n",
       "      <td>2018-12-04</td>\n",
       "      <td>1.0</td>\n",
       "      <td>2.65</td>\n",
       "      <td>11.0</td>\n",
       "      <td>18.600000</td>\n",
       "      <td>1</td>\n",
       "      <td>False</td>\n",
       "      <td>...</td>\n",
       "      <td>0.0</td>\n",
       "      <td>0</td>\n",
       "      <td>NaN</td>\n",
       "      <td>81</td>\n",
       "      <td>180107.526882</td>\n",
       "      <td>1</td>\n",
       "      <td>12</td>\n",
       "      <td>2018</td>\n",
       "      <td>первый</td>\n",
       "      <td>19.0</td>\n",
       "    </tr>\n",
       "    <tr>\n",
       "      <th>2</th>\n",
       "      <td>10</td>\n",
       "      <td>5196000</td>\n",
       "      <td>56.0</td>\n",
       "      <td>2015-08-20</td>\n",
       "      <td>2.0</td>\n",
       "      <td>2.65</td>\n",
       "      <td>5.0</td>\n",
       "      <td>34.300000</td>\n",
       "      <td>4</td>\n",
       "      <td>False</td>\n",
       "      <td>...</td>\n",
       "      <td>90.0</td>\n",
       "      <td>2</td>\n",
       "      <td>574.0</td>\n",
       "      <td>558</td>\n",
       "      <td>151486.880466</td>\n",
       "      <td>3</td>\n",
       "      <td>8</td>\n",
       "      <td>2015</td>\n",
       "      <td>другой</td>\n",
       "      <td>14.0</td>\n",
       "    </tr>\n",
       "    <tr>\n",
       "      <th>3</th>\n",
       "      <td>0</td>\n",
       "      <td>64900000</td>\n",
       "      <td>159.0</td>\n",
       "      <td>2015-07-24</td>\n",
       "      <td>3.0</td>\n",
       "      <td>2.65</td>\n",
       "      <td>14.0</td>\n",
       "      <td>90.785766</td>\n",
       "      <td>9</td>\n",
       "      <td>False</td>\n",
       "      <td>...</td>\n",
       "      <td>84.0</td>\n",
       "      <td>3</td>\n",
       "      <td>234.0</td>\n",
       "      <td>424</td>\n",
       "      <td>714869.770085</td>\n",
       "      <td>4</td>\n",
       "      <td>7</td>\n",
       "      <td>2015</td>\n",
       "      <td>другой</td>\n",
       "      <td>7.0</td>\n",
       "    </tr>\n",
       "    <tr>\n",
       "      <th>4</th>\n",
       "      <td>2</td>\n",
       "      <td>10000000</td>\n",
       "      <td>100.0</td>\n",
       "      <td>2018-06-19</td>\n",
       "      <td>2.0</td>\n",
       "      <td>3.03</td>\n",
       "      <td>14.0</td>\n",
       "      <td>32.000000</td>\n",
       "      <td>13</td>\n",
       "      <td>False</td>\n",
       "      <td>...</td>\n",
       "      <td>112.0</td>\n",
       "      <td>1</td>\n",
       "      <td>48.0</td>\n",
       "      <td>121</td>\n",
       "      <td>312500.000000</td>\n",
       "      <td>1</td>\n",
       "      <td>6</td>\n",
       "      <td>2018</td>\n",
       "      <td>другой</td>\n",
       "      <td>8.0</td>\n",
       "    </tr>\n",
       "  </tbody>\n",
       "</table>\n",
       "<p>5 rows × 28 columns</p>\n",
       "</div>"
      ],
      "text/plain": [
       "   total_images  last_price  total_area first_day_exposition  rooms  \\\n",
       "0            20    13000000       108.0           2019-03-07    3.0   \n",
       "1             7     3350000        40.4           2018-12-04    1.0   \n",
       "2            10     5196000        56.0           2015-08-20    2.0   \n",
       "3             0    64900000       159.0           2015-07-24    3.0   \n",
       "4             2    10000000       100.0           2018-06-19    2.0   \n",
       "\n",
       "   ceiling_height  floors_total  living_area  floor  is_apartment  ...  \\\n",
       "0            2.70          16.0    51.000000      8         False  ...   \n",
       "1            2.65          11.0    18.600000      1         False  ...   \n",
       "2            2.65           5.0    34.300000      4         False  ...   \n",
       "3            2.65          14.0    90.785766      9         False  ...   \n",
       "4            3.03          14.0    32.000000     13         False  ...   \n",
       "\n",
       "   parks_nearest  ponds_around3000  ponds_nearest  days_exposition  \\\n",
       "0          482.0                 2          755.0             9999   \n",
       "1            0.0                 0            NaN               81   \n",
       "2           90.0                 2          574.0              558   \n",
       "3           84.0                 3          234.0              424   \n",
       "4          112.0                 1           48.0              121   \n",
       "\n",
       "  cost_1_sqmeter  dayofweek  month  year  floor_type  cityCenters_nearest_km  \n",
       "0  254901.960784          3      3  2019      другой                    16.0  \n",
       "1  180107.526882          1     12  2018      первый                    19.0  \n",
       "2  151486.880466          3      8  2015      другой                    14.0  \n",
       "3  714869.770085          4      7  2015      другой                     7.0  \n",
       "4  312500.000000          1      6  2018      другой                     8.0  \n",
       "\n",
       "[5 rows x 28 columns]"
      ]
     },
     "execution_count": 34,
     "metadata": {},
     "output_type": "execute_result"
    }
   ],
   "source": [
    "data['cityCenters_nearest_km'] = round(data['cityCenters_nearest']/1000)\n",
    "\n",
    "# проверим все ли новые колонки добавились в нашу таблицу\n",
    "data.head()"
   ]
  },
  {
   "cell_type": "markdown",
   "id": "32f33321",
   "metadata": {},
   "source": [
    "Да, все новые столбцы добавлены в датафрейм."
   ]
  },
  {
   "cell_type": "markdown",
   "id": "b5ef5257",
   "metadata": {},
   "source": [
    "##### Шаг 4. Проведите исследовательский анализ данных:"
   ]
  },
  {
   "cell_type": "markdown",
   "id": "ace120e8",
   "metadata": {},
   "source": [
    "Изучите следующие параметры объектов:\n",
    "общая площадь.\n",
    "\n",
    "Для этого выведем график по столбцу \"total_area\" и посмотрим на него."
   ]
  },
  {
   "cell_type": "code",
   "execution_count": 35,
   "id": "966a0eaf",
   "metadata": {},
   "outputs": [
    {
     "data": {
      "image/png": "[encoded data removed]",
      "text/plain": [
       "<Figure size 432x288 with 1 Axes>"
      ]
     },
     "metadata": {
      "needs_background": "light"
     },
     "output_type": "display_data"
    }
   ],
   "source": [
    "data['total_area'].hist(bins=30, range=(10,200))\n",
    "plt.title('Площадь квартир')\n",
    "plt.xlabel('Квадратные метры')\n",
    "plt.ylabel('Количество квартир')\n",
    "plt.show()"
   ]
  },
  {
   "cell_type": "code",
   "execution_count": 36,
   "id": "461711ec",
   "metadata": {},
   "outputs": [
    {
     "name": "stdout",
     "output_type": "stream",
     "text": [
      "Наибольшие по площади варианты:\n",
      "19540    900.0\n",
      "12859    631.2\n",
      "3117     631.0\n",
      "15651    618.0\n",
      "5358     590.0\n",
      "4237     517.0\n",
      "8018     507.0\n",
      "15016    500.0\n",
      "5893     500.0\n",
      "12401    495.0\n",
      "Name: total_area, dtype: float64\n",
      "Наименьшие по площади варианты:\n",
      "19642    14.00\n",
      "9412     16.00\n",
      "10208    17.00\n",
      "716      17.00\n",
      "9157     17.60\n",
      "21802    17.78\n",
      "12996    18.00\n",
      "20714    18.00\n",
      "6084     18.00\n",
      "8729     18.40\n",
      "Name: total_area, dtype: float64\n"
     ]
    }
   ],
   "source": [
    "print('Наибольшие по площади варианты:')\n",
    "print(data['total_area'].sort_values(ascending=False).head(10))\n",
    "print('Наименьшие по площади варианты:')\n",
    "print(data['total_area'].sort_values(ascending=True).head(10))"
   ]
  },
  {
   "cell_type": "markdown",
   "id": "3adeec90",
   "metadata": {},
   "source": [
    "Согласно графику больше всего люди продают жилья в диапазоне с 27 до 49 кв.м. Жилье меньше 25 кв. метров и жилье больше 50 кв. метров продается куда реже.\n",
    "Меньше всего на рынке выставлено предложений с элитным жильем, которое начинается от 100 кв. м. И чем больше метраж, тем меньше предложений для такого типа жилья.\n",
    "Возможно это связано со следущими факторами:\n",
    "    - на рынке больше всего строят однокомнатные, двухкомнатные и трехкомнатные квартиры. И чаще всего люди приобретают такие варианты для своего удобства.\n",
    "    - возможно, людям некомфортно жить в квартирах площадью меньше 24-27 кв. м. поэтому такие варианты реже продаются и покупаются\n",
    "    - возможно варианты, что квартир метражом до 27 метров просто меньше построенно, поэтому и количество предложений на рынке будет меньше.\n",
    "    "
   ]
  },
  {
   "cell_type": "code",
   "execution_count": 37,
   "id": "445f0585",
   "metadata": {},
   "outputs": [
    {
     "data": {
      "image/png": "[encoded data removed]",
      "text/plain": [
       "<Figure size 432x288 with 1 Axes>"
      ]
     },
     "metadata": {
      "needs_background": "light"
     },
     "output_type": "display_data"
    },
    {
     "name": "stdout",
     "output_type": "stream",
     "text": [
      "Наибольшие по площади варианты:\n",
      "19540    409.700000\n",
      "5358     409.000000\n",
      "3117     360.288168\n",
      "12401    347.500000\n",
      "4237     332.000000\n",
      "Name: living_area, dtype: float64\n",
      "Наименьшие по площади варианты:\n",
      "7268     10.080000\n",
      "23481    10.080000\n",
      "20714    10.277634\n",
      "21854    10.300000\n",
      "10475    10.300000\n",
      "Name: living_area, dtype: float64\n"
     ]
    }
   ],
   "source": [
    "data['living_area'].hist(bins=30, range=(10,200))\n",
    "plt.title('Площадь квартир')\n",
    "plt.xlabel('Квадратные метры')\n",
    "plt.ylabel('Количество квартир')\n",
    "plt.show()\n",
    "print('Наибольшие по площади варианты:')\n",
    "print(data['living_area'].sort_values(ascending=False).head())\n",
    "print('Наименьшие по площади варианты:')\n",
    "print(data['living_area'].sort_values(ascending=True).head())"
   ]
  },
  {
   "cell_type": "markdown",
   "id": "8f61b860",
   "metadata": {},
   "source": [
    "К жилым площадям относятся только спальни, детские и гостинные. Соответственно все остальное пространство типо санузлов, коридоров, кухонь и балконов не учитывается.\n",
    "Больше всего от 10 до 49 метров жилой площади. Максимальные по количеству предложения находятся слева и справа от показателя 25 кв. м. Я думаю, что это связанно с тем, что больше всего люди продают жилья в диапазоне с 27 до 49 кв.м. \n",
    "После 50 кв. м. жилой площади наблюдается спад количества предложений на рынке. А после 100 кв. м. эти значения вообще ничтожно малые. Это говорит о том, что не так часто владельцы элитной недвижимости выставляют ее на продажу."
   ]
  },
  {
   "cell_type": "code",
   "execution_count": 38,
   "id": "0a396515",
   "metadata": {},
   "outputs": [
    {
     "data": {
      "image/png": "[encoded data removed]",
      "text/plain": [
       "<Figure size 432x288 with 1 Axes>"
      ]
     },
     "metadata": {
      "needs_background": "light"
     },
     "output_type": "display_data"
    },
    {
     "name": "stdout",
     "output_type": "stream",
     "text": [
      "Наибольшие по площади варианты:\n",
      "19540    112.0\n",
      "20215    107.0\n",
      "2489     100.7\n",
      "Name: kitchen_area, dtype: float64\n",
      "Наименьшие по площади варианты:\n",
      "20217    1.3\n",
      "16367    2.0\n",
      "906      2.0\n",
      "Name: kitchen_area, dtype: float64\n"
     ]
    }
   ],
   "source": [
    "data['kitchen_area'].hist(bins=30, range=(0,200))\n",
    "plt.title('Площадь кухни')\n",
    "plt.xlabel('Квадратные метры')\n",
    "plt.ylabel('Количество квартир')\n",
    "plt.show()\n",
    "print('Наибольшие по площади варианты:')\n",
    "print(data['kitchen_area'].sort_values(ascending=False).head(3))\n",
    "print('Наименьшие по площади варианты:')\n",
    "print(data['kitchen_area'].sort_values(ascending=True).head(3))"
   ]
  },
  {
   "cell_type": "markdown",
   "id": "07791aba",
   "metadata": {},
   "source": [
    "Самое большое количество предложений на рынке предлагает кухни в диапазоне до 25 м. \n",
    "Максимум предложений сосредоточен от 0 до 10 кв.м. С чем это может быть связано?\n",
    "1. Наличие студий, апартаментов и квартир со свободной планировкой. Там не всегда можно корректно выявить где кухня, а где гостинная, особенно, если они смежные. \n",
    "2. Максимальное количество квартир продается общей площадью от 27 до 49 кв.м. Естественно, что кухня в таких квартирах будет занимать только часть от общей площади. И в квартире 49 кв.м. кухня вполне может занимать всего 8-9 кв.м.\n",
    "3. Наличие больших кухонь, более 50 кв.м. скорее подходит элитному жилью, которого, как мы выяснили, очень мало на рынке недвижимости."
   ]
  },
  {
   "cell_type": "code",
   "execution_count": 39,
   "id": "1775e37c",
   "metadata": {},
   "outputs": [
    {
     "data": {
      "image/png": "[encoded data removed]",
      "text/plain": [
       "<Figure size 432x288 with 1 Axes>"
      ]
     },
     "metadata": {
      "needs_background": "light"
     },
     "output_type": "display_data"
    },
    {
     "name": "stdout",
     "output_type": "stream",
     "text": [
      "Наибольшие по цене варианты:\n",
      "12971    763000000\n",
      "19540    420000000\n",
      "14706    401300000\n",
      "Name: last_price, dtype: int64\n",
      "Наименьшие по цене варианты:\n",
      "8793      12190\n",
      "14911    430000\n",
      "17456    430000\n",
      "Name: last_price, dtype: int64\n"
     ]
    }
   ],
   "source": [
    "data['last_price'].hist(bins=30, range=(0,70000000))\n",
    "plt.title('Цена на момент продажи квартиры')\n",
    "plt.xlabel('Стоимость')\n",
    "plt.ylabel('Количество квартир')\n",
    "plt.show()\n",
    "print('Наибольшие по цене варианты:')\n",
    "print(data['last_price'].sort_values(ascending=False).head(3))\n",
    "print('Наименьшие по цене варианты:')\n",
    "print(data['last_price'].sort_values(ascending=True).head(3))"
   ]
  },
  {
   "cell_type": "markdown",
   "id": "cc87a1b0",
   "metadata": {},
   "source": [
    "Больше всего вариантов в диапазоне до 1 миллиона. \n",
    "Максимальная стоимость квартиры - 763 000 000. Скорее всего эти данные относятся к элитному жилью."
   ]
  },
  {
   "cell_type": "code",
   "execution_count": 40,
   "id": "26d0f41d",
   "metadata": {},
   "outputs": [
    {
     "data": {
      "image/png": "[encoded data removed]",
      "text/plain": [
       "<Figure size 432x288 with 1 Axes>"
      ]
     },
     "metadata": {
      "needs_background": "light"
     },
     "output_type": "display_data"
    },
    {
     "name": "stdout",
     "output_type": "stream",
     "text": [
      "Больше всего комнат:\n",
      "22649    7.0\n",
      "16141    7.0\n",
      "22420    7.0\n",
      "Name: rooms, dtype: float64\n",
      "Меньше всего комнат:\n",
      "21306    0.0\n",
      "19917    0.0\n",
      "6408     0.0\n",
      "Name: rooms, dtype: float64\n"
     ]
    }
   ],
   "source": [
    "data['rooms'].hist(bins=7, range=(0,8))\n",
    "plt.title('Количество комнат')\n",
    "plt.xlabel('Количество комнат')\n",
    "plt.ylabel('Количество квартир')\n",
    "plt.show()\n",
    "print('Больше всего комнат:')\n",
    "print(data['rooms'].sort_values(ascending=False).head(3))\n",
    "print('Меньше всего комнат:')\n",
    "print(data['rooms'].sort_values(ascending=True).head(3))"
   ]
  },
  {
   "cell_type": "markdown",
   "id": "402180ed",
   "metadata": {},
   "source": [
    "Больше всего продают квартир от 0 до 2 комнат. \n",
    "В 0 квартир входят студии, квартиры со свободной планировкой и аппартаменты. \n",
    "Скорее всего это связано с низкой стоимостью студий и доступностью такого вида жилья по сравнению с остальными. \n",
    "Второе место занимают квартиры от 3 до 5 комнат. Их покупают уже реже.\n",
    "А вот квартиры больше 5 комнат покупают осень очень редко. Это самые минимальные, по количеству, предложения на рынке."
   ]
  },
  {
   "cell_type": "code",
   "execution_count": 41,
   "id": "8d462d03",
   "metadata": {},
   "outputs": [
    {
     "data": {
      "image/png": "[encoded data removed]",
      "text/plain": [
       "<Figure size 432x288 with 1 Axes>"
      ]
     },
     "metadata": {
      "needs_background": "light"
     },
     "output_type": "display_data"
    },
    {
     "name": "stdout",
     "output_type": "stream",
     "text": [
      "Самые высокие потолки:\n",
      "21923    4.9\n",
      "2802     4.8\n",
      "19142    4.7\n",
      "Name: ceiling_height, dtype: float64\n",
      "Самые низкие потолки:\n",
      "22590    1.0\n",
      "5712     1.2\n",
      "4212     2.0\n",
      "Name: ceiling_height, dtype: float64\n"
     ]
    }
   ],
   "source": [
    "data['ceiling_height'].hist(bins=7, range=(0,5))\n",
    "plt.title('Высота потолков')\n",
    "plt.xlabel('Высота потолков в метрах')\n",
    "plt.ylabel('Количество квартир')\n",
    "plt.show()\n",
    "print('Самые высокие потолки:')\n",
    "print(data['ceiling_height'].sort_values(ascending=False).head(3))\n",
    "print('Самые низкие потолки:')\n",
    "print(data['ceiling_height'].sort_values(ascending=True).head(3))"
   ]
  },
  {
   "cell_type": "markdown",
   "id": "198d3842",
   "metadata": {},
   "source": [
    "Больше всего квартир продается с потолками от 2 до 3 метров. Дальше идут квартиры с потолками от 3 до 4 метров. А квартиры с потолками до 2 метров и после 5 продаются на рынке реже всего."
   ]
  },
  {
   "cell_type": "code",
   "execution_count": 42,
   "id": "def1dc48",
   "metadata": {},
   "outputs": [
    {
     "data": {
      "image/png": "[encoded data removed]",
      "text/plain": [
       "<Figure size 432x288 with 1 Axes>"
      ]
     },
     "metadata": {
      "needs_background": "light"
     },
     "output_type": "display_data"
    },
    {
     "name": "stdout",
     "output_type": "stream",
     "text": [
      "Самые высокие этажи:\n",
      "16644    27\n",
      "2629     27\n",
      "6157     27\n",
      "Name: floor, dtype: int64\n",
      "Самые низкие этажи:\n",
      "23698    1\n",
      "2608     1\n",
      "2609     1\n",
      "Name: floor, dtype: int64\n"
     ]
    }
   ],
   "source": [
    "data['floor'].hist(bins=7, range=(0,60))\n",
    "plt.title('Этажи')\n",
    "plt.xlabel('Этаж')\n",
    "plt.ylabel('Количество квартир')\n",
    "plt.show()\n",
    "print('Самые высокие этажи:')\n",
    "print(data['floor'].sort_values(ascending=False).head(3))\n",
    "print('Самые низкие этажи:')\n",
    "print(data['floor'].sort_values(ascending=True).head(3))"
   ]
  },
  {
   "cell_type": "markdown",
   "id": "39535bf1",
   "metadata": {},
   "source": [
    "Больше всего квартир продается с 1 по 9 этаж. А дальше значение постепенно идет на убыль.\n",
    "Минимальный этаж, на котором продают квартиры -1, а максимальный - 33."
   ]
  },
  {
   "cell_type": "markdown",
   "id": "1ada9edf",
   "metadata": {},
   "source": [
    "Сформируем график, который покажет медиану распределения цены по этажам по столбцу 'floor_type'."
   ]
  },
  {
   "cell_type": "code",
   "execution_count": 43,
   "id": "31bb635b",
   "metadata": {},
   "outputs": [
    {
     "data": {
      "text/plain": [
       "<AxesSubplot:title={'center':'Распределение медианной цены по типам этажей'}, xlabel='floor_type'>"
      ]
     },
     "execution_count": 43,
     "metadata": {},
     "output_type": "execute_result"
    },
    {
     "data": {
      "image/png": "[encoded data removed]",
      "text/plain": [
       "<Figure size 432x288 with 1 Axes>"
      ]
     },
     "metadata": {
      "needs_background": "light"
     },
     "output_type": "display_data"
    }
   ],
   "source": [
    "data_type_floor = data.pivot_table(index='floor_type', values='last_price', aggfunc='median')\n",
    "data_type_floor.plot(kind='bar', title='Распределение медианной цены по типам этажей')"
   ]
  },
  {
   "cell_type": "markdown",
   "id": "ae41722b",
   "metadata": {},
   "source": [
    "Дешевле всего продают квартиры, которые находятся на первом этаже. Чуть подороже продают квартиры, которые находятся на последнем этаже. Ну, а дороже всего продают квартиры со 2 до предпоследнего.\n"
   ]
  },
  {
   "cell_type": "code",
   "execution_count": 44,
   "id": "6480587b",
   "metadata": {},
   "outputs": [
    {
     "data": {
      "image/png": "[encoded data removed]",
      "text/plain": [
       "<Figure size 432x288 with 1 Axes>"
      ]
     },
     "metadata": {
      "needs_background": "light"
     },
     "output_type": "display_data"
    },
    {
     "name": "stdout",
     "output_type": "stream",
     "text": [
      "Дома, где больше всего этажей:\n",
      "3797     29.0\n",
      "7073     28.0\n",
      "18183    28.0\n",
      "Name: floors_total, dtype: float64\n",
      "Дома, где меньше всего этажей:\n",
      "22542    1.0\n",
      "8335     1.0\n",
      "17744    1.0\n",
      "Name: floors_total, dtype: float64\n"
     ]
    }
   ],
   "source": [
    "data['floors_total'].hist(bins=7, range=(0,60))\n",
    "plt.title('Всего этажей в доме')\n",
    "plt.xlabel('Всего этажей в доме')\n",
    "plt.ylabel('Количество домов')\n",
    "plt.show()\n",
    "print('Дома, где больше всего этажей:')\n",
    "print(data['floors_total'].sort_values(ascending=False).head(3))\n",
    "print('Дома, где меньше всего этажей:')\n",
    "print(data['floors_total'].sort_values(ascending=True).head(3))"
   ]
  },
  {
   "cell_type": "markdown",
   "id": "bbb5e995",
   "metadata": {},
   "source": [
    "Чаще всего продают квартиры, где до 10 этажей. На втором месте находятся дома от 10 до 17 этажей, а на третьем от 17 до 25 этажей.\n",
    "Дома, где больше 25 этажей намного реже мелькают в объявлениях о продаже дома."
   ]
  },
  {
   "cell_type": "code",
   "execution_count": 45,
   "id": "edaf48dc",
   "metadata": {},
   "outputs": [
    {
     "data": {
      "image/png": "[encoded data removed]",
      "text/plain": [
       "<Figure size 432x288 with 1 Axes>"
      ]
     },
     "metadata": {
      "needs_background": "light"
     },
     "output_type": "display_data"
    },
    {
     "name": "stdout",
     "output_type": "stream",
     "text": [
      "Самое далекое расстояние от центра:\n",
      "9640    65968.0\n",
      "5340    65952.0\n",
      "577     65764.0\n",
      "Name: cityCenters_nearest, dtype: float64\n",
      "Самое близкое расстрояние к центру:\n",
      "13694    181.0\n",
      "1182     208.0\n",
      "8614     215.0\n",
      "Name: cityCenters_nearest, dtype: float64\n"
     ]
    }
   ],
   "source": [
    "data['cityCenters_nearest'].hist(bins=7, range=(0,60000))\n",
    "plt.title('Расстояние от центра города до квартиры в метрах.')\n",
    "plt.xlabel('Расстояние от центра города до квартиры (м)')\n",
    "plt.ylabel('Количество квартир')\n",
    "plt.show()\n",
    "print('Самое далекое расстояние от центра:')\n",
    "print(data['cityCenters_nearest'].sort_values(ascending=False).head(3))\n",
    "print('Самое близкое расстрояние к центру:')\n",
    "print(data['cityCenters_nearest'].sort_values(ascending=True).head(3))"
   ]
  },
  {
   "cell_type": "markdown",
   "id": "d3f15407",
   "metadata": {},
   "source": [
    "Чаще всего продают квартиры, которые удалены от центра на 9-18 км. Их в выборке больше 10 000. На втором месте идет удаленность от 0 до 9 км. Ну а более далекие варианты встречаются еще реже."
   ]
  },
  {
   "cell_type": "markdown",
   "id": "1d774069",
   "metadata": {},
   "source": [
    "Посмотрим на удаленность от аэропорта на графике."
   ]
  },
  {
   "cell_type": "code",
   "execution_count": 46,
   "id": "19f4eab0",
   "metadata": {},
   "outputs": [
    {
     "data": {
      "image/png": "[encoded data removed]",
      "text/plain": [
       "<Figure size 432x288 with 1 Axes>"
      ]
     },
     "metadata": {
      "needs_background": "light"
     },
     "output_type": "display_data"
    },
    {
     "name": "stdout",
     "output_type": "stream",
     "text": [
      "Самые удаленные варианты:\n",
      "9640    84869.0\n",
      "5340    84853.0\n",
      "577     84665.0\n",
      "Name: airports_nearest, dtype: float64\n",
      "Самые близкие варианты:\n",
      "21085       0.0\n",
      "12899    6450.0\n",
      "4017     6450.0\n",
      "Name: airports_nearest, dtype: float64\n"
     ]
    }
   ],
   "source": [
    "data['airports_nearest'].hist(bins=50, range=(0,90000))\n",
    "plt.title('Удаленность квартир от аэропорта в метрах')\n",
    "plt.xlabel('Расстояние')\n",
    "plt.ylabel('Количество квартир')\n",
    "plt.show()\n",
    "\n",
    "print('Самые удаленные варианты:')\n",
    "print(data['airports_nearest'].sort_values(ascending=False).head(3))\n",
    "print('Самые близкие варианты:')\n",
    "print(data['airports_nearest'].sort_values(ascending=True).head(3))"
   ]
  },
  {
   "cell_type": "markdown",
   "id": "da8c8f87",
   "metadata": {},
   "source": [
    "Больше всего квартир продается, которые имеют удаленность от аэропорта в пределах 25 км. На 2 месте по частоте продажи, квартиры удаленностью 20 км от аэропорта. А на тратьем месте квартиры удаленностью 17 км от аэропорта. Здесь наблюдается зависимость. Чем удаленнее от аэропорта, тем меньше квартир продают."
   ]
  },
  {
   "cell_type": "markdown",
   "id": "05a68e62",
   "metadata": {},
   "source": [
    "Посмотрим наличие парков поблизости у продаваемых квартир."
   ]
  },
  {
   "cell_type": "code",
   "execution_count": 47,
   "id": "cbfb3e3a",
   "metadata": {},
   "outputs": [
    {
     "data": {
      "image/png": "[encoded data removed]",
      "text/plain": [
       "<Figure size 432x288 with 1 Axes>"
      ]
     },
     "metadata": {
      "needs_background": "light"
     },
     "output_type": "display_data"
    },
    {
     "name": "stdout",
     "output_type": "stream",
     "text": [
      "Самые удаленные варианты:\n",
      "19430    3190.0\n",
      "10959    3190.0\n",
      "1590     3064.0\n",
      "Name: parks_nearest, dtype: float64\n",
      "Самые близкие варианты:\n",
      "23698    0.0\n",
      "11610    0.0\n",
      "11612    0.0\n",
      "Name: parks_nearest, dtype: float64\n"
     ]
    }
   ],
   "source": [
    "data['parks_nearest'].hist(bins=30, range=(0,1000))\n",
    "plt.title('Удаленность квартир от парка в метрах')\n",
    "plt.xlabel('Расстояние')\n",
    "plt.ylabel('Количество квартир')\n",
    "plt.show()\n",
    "\n",
    "print('Самые удаленные варианты:')\n",
    "print(data['parks_nearest'].sort_values(ascending=False).head(3))\n",
    "print('Самые близкие варианты:')\n",
    "print(data['parks_nearest'].sort_values(ascending=True).head(3))"
   ]
  },
  {
   "cell_type": "markdown",
   "id": "8fc036d1",
   "metadata": {},
   "source": [
    "Чаще всего продают квартиры, которые удалены от парков примерно на 500 метров. Квартиры, удаленные от парков на от 0 до 470 м продают также, как и квартиры удаленные от парков на 500-750 метров. Предложений квартир с удаленностьюот парка более, чем на 750 метров меньше всего."
   ]
  },
  {
   "cell_type": "markdown",
   "id": "43353139",
   "metadata": {},
   "source": [
    "##### 2.Изучите, как быстро продавались квартиры (столбец days_exposition). Этот параметр показывает, сколько дней было размещено каждое объявление."
   ]
  },
  {
   "cell_type": "code",
   "execution_count": 48,
   "id": "4c909f19",
   "metadata": {},
   "outputs": [
    {
     "name": "stdout",
     "output_type": "stream",
     "text": [
      "Время продажи (медиана): 95 \n",
      "\n",
      "Время продажи (среднее): 181 \n",
      "\n"
     ]
    },
    {
     "data": {
      "image/png": "[encoded data removed]",
      "text/plain": [
       "<Figure size 432x288 with 1 Axes>"
      ]
     },
     "metadata": {
      "needs_background": "light"
     },
     "output_type": "display_data"
    }
   ],
   "source": [
    "#рассчитаем время продажи и медиану\n",
    "print('Время продажи (медиана):', round(data.query('days_exposition != 9999')['days_exposition'].median()),'\\n')\n",
    "print('Время продажи (среднее):', round(data.query('days_exposition != 9999')['days_exposition'].mean()),'\\n')\n",
    "# Гистограма времени продажи\n",
    "plt.hist(data.query('days_exposition != 9999')['days_exposition'], bins=100, range=(0,350))\n",
    "plt.title('Время продажи')\n",
    "plt.xlabel('Дни')\n",
    "plt.ylabel('Количество квартир')\n",
    "plt.show()"
   ]
  },
  {
   "cell_type": "markdown",
   "id": "d40e35e9",
   "metadata": {},
   "source": [
    "Среднее время продажи - 181 день. Медиана - 95 дней. То есть большинство продает свою квартиру в срок около 100 дней. Также есть несколько пиковых значений до и после 50 дней. В эти пики продалось больше 1000 и больше 600 квартир. Ну и после 100 дней график идет на спад, меньше 200 квартир продается в этот срок."
   ]
  },
  {
   "cell_type": "markdown",
   "id": "f09d42c5",
   "metadata": {},
   "source": [
    "###### 3. Какие факторы больше всего влияют на общую (полную) стоимость объекта? Изучите, зависит ли цена от: общей площади; жилой площади; площади кухни; количества комнат; этажа, на котором расположена квартира (первый, последний, другой); даты размещения (день недели, месяц, год)."
   ]
  },
  {
   "cell_type": "markdown",
   "id": "657f6b14",
   "metadata": {},
   "source": [
    "Постройте графики, которые покажут зависимость цены от указанных выше параметров. Для подготовки данных перед визуализацией вы можете использовать сводные таблицы."
   ]
  },
  {
   "cell_type": "code",
   "execution_count": 49,
   "id": "e53bf49f",
   "metadata": {},
   "outputs": [
    {
     "data": {
      "image/png": "[encoded data removed]",
      "text/plain": [
       "<Figure size 360x360 with 1 Axes>"
      ]
     },
     "metadata": {
      "needs_background": "light"
     },
     "output_type": "display_data"
    },
    {
     "name": "stdout",
     "output_type": "stream",
     "text": [
      "Корреляция цены и площади: \n",
      "\n",
      "            last_price  total_area\n",
      "last_price    1.000000    0.879814\n",
      "total_area    0.879814    1.000000 \n",
      "\n"
     ]
    }
   ],
   "source": [
    "(\n",
    "    data.pivot_table(index='total_area', values='last_price')\n",
    "    .plot(grid=True, style='o', figsize=(5, 5))\n",
    ")\n",
    "plt.show()\n",
    "print('Корреляция цены и общей площади:','\\n')\n",
    "print(data.pivot_table(index='floor', values=['total_area', 'last_price']).corr(),'\\n')"
   ]
  },
  {
   "cell_type": "markdown",
   "id": "d33f3c65",
   "metadata": {},
   "source": [
    "Цена зависит от площади. Чем больше площадь, тем выше будет цена квартиры."
   ]
  },
  {
   "cell_type": "code",
   "execution_count": 50,
   "id": "1f6bebe8",
   "metadata": {},
   "outputs": [
    {
     "data": {
      "image/png": "[encoded data removed]",
      "text/plain": [
       "<Figure size 360x360 with 1 Axes>"
      ]
     },
     "metadata": {
      "needs_background": "light"
     },
     "output_type": "display_data"
    },
    {
     "name": "stdout",
     "output_type": "stream",
     "text": [
      "Корреляция цены и площади: \n",
      "\n",
      "             last_price  living_area\n",
      "last_price     1.000000     0.579799\n",
      "living_area    0.579799     1.000000 \n",
      "\n"
     ]
    }
   ],
   "source": [
    "(\n",
    "    data.pivot_table(index='living_area', values='last_price')\n",
    "    .plot(grid=True, style='o', figsize=(5, 5))\n",
    ")\n",
    "plt.show()\n",
    "print('Корреляция цены и жилой площади:','\\n')\n",
    "print(data.pivot_table(index='floor', values=['living_area', 'last_price']).corr(),'\\n')"
   ]
  },
  {
   "cell_type": "markdown",
   "id": "e889538a",
   "metadata": {},
   "source": [
    "Цена также зависит не только от общей площади, но еще и от жилой площади. Чем она выше, тем больше цена квартиры."
   ]
  },
  {
   "cell_type": "code",
   "execution_count": 51,
   "id": "350c53d7",
   "metadata": {},
   "outputs": [
    {
     "data": {
      "image/png": "[encoded data removed]",
      "text/plain": [
       "<Figure size 360x360 with 1 Axes>"
      ]
     },
     "metadata": {
      "needs_background": "light"
     },
     "output_type": "display_data"
    },
    {
     "name": "stdout",
     "output_type": "stream",
     "text": [
      "Корреляция цены и площади: \n",
      "\n",
      "              kitchen_area  last_price\n",
      "kitchen_area      1.000000    0.617978\n",
      "last_price        0.617978    1.000000 \n",
      "\n"
     ]
    }
   ],
   "source": [
    "(\n",
    "    data.pivot_table(index='kitchen_area', values='last_price')\n",
    "    .plot(grid=True, style='o', figsize=(5, 5))\n",
    ")\n",
    "plt.show()\n",
    "print('Корреляция цены и площади кухни:','\\n')\n",
    "print(data.pivot_table(index='floor', values=['kitchen_area', 'last_price']).corr(),'\\n')"
   ]
  },
  {
   "cell_type": "markdown",
   "id": "c02808f7",
   "metadata": {},
   "source": [
    "Зависимость существует также и от площади кухни. Чем она больше, тем выше стоимость жилья."
   ]
  },
  {
   "cell_type": "code",
   "execution_count": null,
   "id": "7f49dba6",
   "metadata": {},
   "outputs": [],
   "source": [
    "Посмотрим на зависимость цены и количества комнат."
   ]
  },
  {
   "cell_type": "code",
   "execution_count": 52,
   "id": "e80db4bb",
   "metadata": {},
   "outputs": [
    {
     "data": {
      "image/png": "[encoded data removed]",
      "text/plain": [
       "<Figure size 360x360 with 1 Axes>"
      ]
     },
     "metadata": {
      "needs_background": "light"
     },
     "output_type": "display_data"
    },
    {
     "name": "stdout",
     "output_type": "stream",
     "text": [
      "Корреляция цены и количества комнат: \n",
      "\n",
      "            last_price     rooms\n",
      "last_price    1.000000  0.098262\n",
      "rooms         0.098262  1.000000 \n",
      "\n"
     ]
    }
   ],
   "source": [
    "(\n",
    "    data.pivot_table(index='rooms', values='last_price')\n",
    "    .plot(grid=True, style='o', figsize=(5, 5))\n",
    ")\n",
    "plt.show()\n",
    "print('Корреляция цены и количества комнат:','\\n')\n",
    "print(data.pivot_table(index='floor', values=['rooms', 'last_price']).corr(),'\\n')"
   ]
  },
  {
   "cell_type": "markdown",
   "id": "4bcbcdaf",
   "metadata": {},
   "source": [
    "Наблюдается прямая зависимость стоимостьот количества комнат. Чем больше количество комнат, тем больше стоимость. Это логично,так как с увеличением комнат увеличивается и жилая площадь, площадь кухни и общая площадь. "
   ]
  },
  {
   "cell_type": "markdown",
   "id": "02f7ec69",
   "metadata": {},
   "source": [
    "Посмотрим на зависимость цены над этажами."
   ]
  },
  {
   "cell_type": "code",
   "execution_count": 53,
   "id": "fdc59df1",
   "metadata": {},
   "outputs": [
    {
     "data": {
      "image/png": "[encoded data removed]",
      "text/plain": [
       "<Figure size 360x360 with 1 Axes>"
      ]
     },
     "metadata": {
      "needs_background": "light"
     },
     "output_type": "display_data"
    }
   ],
   "source": [
    "(\n",
    "    data.pivot_table(index='floor_type', values='last_price', aggfunc='median')\n",
    "    .plot(grid=True, style='o-', figsize=(5, 5))\n",
    ")\n",
    "plt.show()"
   ]
  },
  {
   "cell_type": "markdown",
   "id": "5472c6d4",
   "metadata": {},
   "source": [
    "Расположение тоже влияет на стоимость. Первый этаж стоит дешевле всех, последний чуть дороже, а остальные промежуточные варианты продаются дороже всего."
   ]
  },
  {
   "cell_type": "markdown",
   "id": "24b72788",
   "metadata": {},
   "source": [
    "Посмотрим на расположение цены и даты публикации."
   ]
  },
  {
   "cell_type": "code",
   "execution_count": 54,
   "id": "3f36ce88",
   "metadata": {},
   "outputs": [
    {
     "data": {
      "image/png": "[encoded data removed]",
      "text/plain": [
       "<Figure size 2160x504 with 1 Axes>"
      ]
     },
     "metadata": {
      "needs_background": "light"
     },
     "output_type": "display_data"
    },
    {
     "name": "stdout",
     "output_type": "stream",
     "text": [
      "Корреляция цены и даты публикации: \n",
      "\n",
      "            last_price     rooms\n",
      "last_price    1.000000  0.098262\n",
      "rooms         0.098262  1.000000 \n",
      "\n"
     ]
    }
   ],
   "source": [
    "(\n",
    "    data.pivot_table(index='first_day_exposition', values='last_price', aggfunc='median')\n",
    "    .plot(grid=True, style='o-', figsize=(30, 7))\n",
    ")\n",
    "plt.show()\n",
    "print('Корреляция цены и даты публикации:','\\n')\n",
    "print(data.pivot_table(index='floor', values=['rooms', 'last_price']).corr(),'\\n')"
   ]
  },
  {
   "cell_type": "markdown",
   "id": "67611b5a",
   "metadata": {},
   "source": [
    "Зависимости цены от даты публикации нет. Есть пиковое значение в августе 2015 года, когда квартиры продавались по рекордной цене. Но в основном цена не зависит от периода, когда выкладывалось объявление."
   ]
  },
  {
   "cell_type": "markdown",
   "id": "a7e3542f",
   "metadata": {},
   "source": [
    "Изучим, зависит ли цена от дня недели.\n"
   ]
  },
  {
   "cell_type": "code",
   "execution_count": 55,
   "id": "fc1c5a38",
   "metadata": {},
   "outputs": [
    {
     "data": {
      "image/png": "[encoded data removed]",
      "text/plain": [
       "<Figure size 720x504 with 1 Axes>"
      ]
     },
     "metadata": {
      "needs_background": "light"
     },
     "output_type": "display_data"
    }
   ],
   "source": [
    "(\n",
    "    data.pivot_table(index='dayofweek', values='last_price', aggfunc='median')\n",
    "    .plot(grid=True, style='o-', figsize=(10, 7))\n",
    ")\n",
    "plt.show()\n"
   ]
  },
  {
   "cell_type": "markdown",
   "id": "88859dc9",
   "metadata": {},
   "source": [
    "Дороже всего квартиры продают во вторник. А дешевле всего в воскресенье. Не знаю, с чем это связано. Может быть люди становятся более сговорчивыми на выходных?))))\n",
    "Ну а вообще после вторника наблюдается спад цены вплоть до воскресенья. Так что зависимость есть."
   ]
  },
  {
   "cell_type": "markdown",
   "id": "fb9e3af8",
   "metadata": {},
   "source": [
    "Изучим зависит ли цена от месяца размещения."
   ]
  },
  {
   "cell_type": "code",
   "execution_count": 56,
   "id": "f13f197a",
   "metadata": {},
   "outputs": [
    {
     "data": {
      "image/png": "[encoded data removed]",
      "text/plain": [
       "<Figure size 1440x864 with 1 Axes>"
      ]
     },
     "metadata": {
      "needs_background": "light"
     },
     "output_type": "display_data"
    }
   ],
   "source": [
    "(\n",
    "    data.pivot_table(index='month', values='last_price', aggfunc='median')\n",
    "    .plot(grid=True, style='o-', figsize=(20, 12))\n",
    ")\n",
    "plt.show()"
   ]
  },
  {
   "cell_type": "markdown",
   "id": "9a5e7bbc",
   "metadata": {},
   "source": [
    "Самые высокие продажи наблюдаются в апреле, а самые низкие в июне. \n",
    "В целом график \"пляшущий\" и какой-либо сезонности я не наблюдаю."
   ]
  },
  {
   "cell_type": "markdown",
   "id": "7c313272",
   "metadata": {},
   "source": [
    "Посмотрим на зависимость цены и года продажи."
   ]
  },
  {
   "cell_type": "code",
   "execution_count": 57,
   "id": "f7e5de0d",
   "metadata": {},
   "outputs": [
    {
     "data": {
      "image/png": "[encoded data removed]",
      "text/plain": [
       "<Figure size 1440x864 with 1 Axes>"
      ]
     },
     "metadata": {
      "needs_background": "light"
     },
     "output_type": "display_data"
    }
   ],
   "source": [
    "(\n",
    "    data.pivot_table(index='year', values='last_price', aggfunc='median')\n",
    "    .plot(grid=True, style='o-', figsize=(20, 12))\n",
    ")\n",
    "plt.show()"
   ]
  },
  {
   "cell_type": "markdown",
   "id": "6c0fb0f6",
   "metadata": {},
   "source": [
    "Дороже всего недвижимость стоила в 2014 году. Возможно это связано с валютным кризисом, потому что дальше с 2015 по 2017 год шло падение стоимости недвижимости. А с 2018 года стоимость недвижимости стала медленно расти."
   ]
  },
  {
   "cell_type": "markdown",
   "id": "1abbf0d7",
   "metadata": {},
   "source": [
    "###### 4. Посчитайте среднюю цену одного квадратного метра в 10 населённых пунктах с наибольшим числом объявлений. Выделите населённые пункты с самой высокой и низкой стоимостью квадратного метра. Эти данные можно найти по имени в столбце locality_name."
   ]
  },
  {
   "cell_type": "markdown",
   "id": "d31e4def",
   "metadata": {},
   "source": [
    "Найдем населенные пункты, где самая высокая и самая низкая цена."
   ]
  },
  {
   "cell_type": "code",
   "execution_count": 58,
   "id": "d8fae91d",
   "metadata": {},
   "outputs": [],
   "source": [
    "top_10 = data['locality_name'].value_counts().head(10)"
   ]
  },
  {
   "cell_type": "code",
   "execution_count": 59,
   "id": "58e63362",
   "metadata": {},
   "outputs": [
    {
     "data": {
      "text/html": [
       "<div>\n",
       "<style scoped>\n",
       "    .dataframe tbody tr th:only-of-type {\n",
       "        vertical-align: middle;\n",
       "    }\n",
       "\n",
       "    .dataframe tbody tr th {\n",
       "        vertical-align: top;\n",
       "    }\n",
       "\n",
       "    .dataframe thead th {\n",
       "        text-align: right;\n",
       "    }\n",
       "</style>\n",
       "<table border=\"1\" class=\"dataframe\">\n",
       "  <thead>\n",
       "    <tr style=\"text-align: right;\">\n",
       "      <th></th>\n",
       "      <th>cost_1_sqmeter</th>\n",
       "    </tr>\n",
       "    <tr>\n",
       "      <th>locality_name</th>\n",
       "      <th></th>\n",
       "    </tr>\n",
       "  </thead>\n",
       "  <tbody>\n",
       "    <tr>\n",
       "      <th>санкт-петербург</th>\n",
       "      <td>212571</td>\n",
       "    </tr>\n",
       "    <tr>\n",
       "      <th>поселок парголово</th>\n",
       "      <td>196886</td>\n",
       "    </tr>\n",
       "    <tr>\n",
       "      <th>пушкин</th>\n",
       "      <td>190474</td>\n",
       "    </tr>\n",
       "    <tr>\n",
       "      <th>деревня кудрово</th>\n",
       "      <td>183833</td>\n",
       "    </tr>\n",
       "    <tr>\n",
       "      <th>поселок мурино</th>\n",
       "      <td>169985</td>\n",
       "    </tr>\n",
       "    <tr>\n",
       "      <th>поселок шушары</th>\n",
       "      <td>153696</td>\n",
       "    </tr>\n",
       "    <tr>\n",
       "      <th>всеволожск</th>\n",
       "      <td>132274</td>\n",
       "    </tr>\n",
       "    <tr>\n",
       "      <th>колпино</th>\n",
       "      <td>132162</td>\n",
       "    </tr>\n",
       "    <tr>\n",
       "      <th>гатчина</th>\n",
       "      <td>121911</td>\n",
       "    </tr>\n",
       "    <tr>\n",
       "      <th>выборг</th>\n",
       "      <td>99099</td>\n",
       "    </tr>\n",
       "  </tbody>\n",
       "</table>\n",
       "</div>"
      ],
      "text/plain": [
       "                   cost_1_sqmeter\n",
       "locality_name                    \n",
       "санкт-петербург            212571\n",
       "поселок парголово          196886\n",
       "пушкин                     190474\n",
       "деревня кудрово            183833\n",
       "поселок мурино             169985\n",
       "поселок шушары             153696\n",
       "всеволожск                 132274\n",
       "колпино                    132162\n",
       "гатчина                    121911\n",
       "выборг                      99099"
      ]
     },
     "execution_count": 59,
     "metadata": {},
     "output_type": "execute_result"
    }
   ],
   "source": [
    "city_sm_price = data.query('locality_name in (@top_10.index)').pivot_table(values='cost_1_sqmeter', index='locality_name')\n",
    "city_sm_price = city_sm_price.astype(int)\n",
    "city_sm_price.sort_values('cost_1_sqmeter', ascending=False)"
   ]
  },
  {
   "cell_type": "markdown",
   "id": "679f416a",
   "metadata": {},
   "source": [
    "Ожидаемо самая высокая цена в Санкт-Петербурге. Затем идет Пушкин, деревня Кудрово, поселок Парголово и другие населенные пункты. "
   ]
  },
  {
   "cell_type": "markdown",
   "id": "95b8b444",
   "metadata": {},
   "source": [
    "##### 5.Ранее вы посчитали расстояние до центра в километрах. Теперь выделите квартиры в Санкт-Петербурге с помощью столбца locality_name и вычислите среднюю цену каждого километра. Опишите, как стоимость объектов зависит от расстояния до центра города."
   ]
  },
  {
   "cell_type": "code",
   "execution_count": 60,
   "id": "70774f6a",
   "metadata": {},
   "outputs": [
    {
     "data": {
      "text/plain": [
       "<AxesSubplot:xlabel='cityCenters_nearest_km'>"
      ]
     },
     "execution_count": 60,
     "metadata": {},
     "output_type": "execute_result"
    },
    {
     "data": {
      "image/png": "[encoded data removed]",
      "text/plain": [
       "<Figure size 432x288 with 1 Axes>"
      ]
     },
     "metadata": {
      "needs_background": "light"
     },
     "output_type": "display_data"
    }
   ],
   "source": [
    "(\n",
    "    data[data['locality_name']=='санкт-петербург']\n",
    "    .pivot_table(\n",
    "        index='cityCenters_nearest_km',\n",
    "        values='last_price',\n",
    "        aggfunc='mean')\n",
    "    .plot(kind='bar')\n",
    ")"
   ]
  },
  {
   "cell_type": "markdown",
   "id": "904ff00b",
   "metadata": {},
   "source": [
    "Дороже всего стоит жилье в 1 километре. Затем, чем дальше от центра, стоимость жилья идет на убыль. Есть несколько пиковых значений на 6 и 27 километре. Возможно там продается элитное жилье или есть другие факторы влияющие на цену. Но в целом, чем ближе к центру, тем дороже.\n"
   ]
  },
  {
   "cell_type": "markdown",
   "id": "45836655",
   "metadata": {},
   "source": [
    "# Общий вывод:\n",
    "\n",
    "В ходе исследования я выявила, что на недвижимость в Питере влияют следующие факторы:\n",
    "- площадь квартиры (сюда входит жилая площадь и площадь кухни);\n",
    "- количество комнат (естественно, что студия будет дешевле, чем 3-х комнатная квартира);\n",
    "- район, в котором находится квартира (центр Питера ожидаемо самый дорогой);\n",
    "- этаж, где находится квартира (первые этажи - самые дешевые, последние чуть дороже, а остальные варианты самые дорогие)\n",
    "\n",
    "Соответственно, чем ближе к центру, больше метраж и количество комнат, ну и скажем 5 этаж из 10, то это будет стоить дороже, чем студия на окраине города, на 1 этаже.\n",
    "\n"
   ]
  },
  {
   "cell_type": "code",
   "execution_count": null,
   "id": "d5abb78f",
   "metadata": {},
   "outputs": [],
   "source": []
  }
 ],
 "metadata": {
  "ExecuteTimeLog": [
   {
    "duration": 954,
    "start_time": "2023-01-31T15:44:15.575Z"
   },
   {
    "duration": 34,
    "start_time": "2023-01-31T15:44:16.531Z"
   },
   {
    "duration": 29,
    "start_time": "2023-01-31T15:44:16.566Z"
   },
   {
    "duration": 2124,
    "start_time": "2023-01-31T15:44:16.597Z"
   },
   {
    "duration": 9,
    "start_time": "2023-01-31T15:44:18.723Z"
   },
   {
    "duration": 87,
    "start_time": "2023-01-31T15:44:18.734Z"
   },
   {
    "duration": 25,
    "start_time": "2023-01-31T15:44:18.823Z"
   },
   {
    "duration": 44,
    "start_time": "2023-01-31T15:44:18.850Z"
   },
   {
    "duration": 54,
    "start_time": "2023-01-31T15:44:18.896Z"
   },
   {
    "duration": 77,
    "start_time": "2023-01-31T15:44:18.953Z"
   },
   {
    "duration": 37,
    "start_time": "2023-01-31T15:44:19.032Z"
   },
   {
    "duration": 86,
    "start_time": "2023-01-31T15:44:19.071Z"
   },
   {
    "duration": 37,
    "start_time": "2023-01-31T15:44:19.159Z"
   },
   {
    "duration": 112,
    "start_time": "2023-01-31T15:44:19.198Z"
   },
   {
    "duration": 16,
    "start_time": "2023-01-31T15:44:19.312Z"
   },
   {
    "duration": 67,
    "start_time": "2023-01-31T15:44:19.341Z"
   },
   {
    "duration": 33,
    "start_time": "2023-01-31T15:44:19.410Z"
   },
   {
    "duration": 13,
    "start_time": "2023-01-31T15:44:19.446Z"
   },
   {
    "duration": 39,
    "start_time": "2023-01-31T15:44:19.461Z"
   },
   {
    "duration": 43,
    "start_time": "2023-01-31T15:44:19.502Z"
   },
   {
    "duration": 42,
    "start_time": "2023-01-31T15:44:19.547Z"
   },
   {
    "duration": 34,
    "start_time": "2023-01-31T15:44:19.591Z"
   },
   {
    "duration": 16,
    "start_time": "2023-01-31T15:44:19.640Z"
   },
   {
    "duration": 76,
    "start_time": "2023-01-31T15:44:19.658Z"
   },
   {
    "duration": 23,
    "start_time": "2023-01-31T15:44:19.737Z"
   },
   {
    "duration": 21,
    "start_time": "2023-01-31T15:44:19.761Z"
   },
   {
    "duration": 26,
    "start_time": "2023-01-31T15:44:19.784Z"
   },
   {
    "duration": 378,
    "start_time": "2023-01-31T15:44:19.815Z"
   },
   {
    "duration": 27,
    "start_time": "2023-01-31T15:44:20.195Z"
   },
   {
    "duration": 319,
    "start_time": "2023-01-31T15:44:20.223Z"
   },
   {
    "duration": 11,
    "start_time": "2023-01-31T15:44:20.543Z"
   },
   {
    "duration": 197,
    "start_time": "2023-01-31T15:44:20.555Z"
   },
   {
    "duration": 279,
    "start_time": "2023-01-31T15:44:20.753Z"
   },
   {
    "duration": 187,
    "start_time": "2023-01-31T15:44:21.034Z"
   },
   {
    "duration": 173,
    "start_time": "2023-01-31T15:44:21.223Z"
   },
   {
    "duration": 177,
    "start_time": "2023-01-31T15:44:21.398Z"
   },
   {
    "duration": 166,
    "start_time": "2023-01-31T15:44:21.577Z"
   },
   {
    "duration": 167,
    "start_time": "2023-01-31T15:44:21.745Z"
   },
   {
    "duration": 148,
    "start_time": "2023-01-31T15:44:21.914Z"
   },
   {
    "duration": 177,
    "start_time": "2023-01-31T15:44:22.063Z"
   },
   {
    "duration": 203,
    "start_time": "2023-01-31T15:44:22.241Z"
   },
   {
    "duration": 204,
    "start_time": "2023-01-31T15:44:22.445Z"
   },
   {
    "duration": 382,
    "start_time": "2023-01-31T15:44:22.651Z"
   },
   {
    "duration": 157,
    "start_time": "2023-01-31T15:44:23.035Z"
   },
   {
    "duration": 172,
    "start_time": "2023-01-31T15:44:23.194Z"
   },
   {
    "duration": 155,
    "start_time": "2023-01-31T15:44:23.367Z"
   },
   {
    "duration": 157,
    "start_time": "2023-01-31T15:44:23.524Z"
   },
   {
    "duration": 157,
    "start_time": "2023-01-31T15:44:23.683Z"
   },
   {
    "duration": 387,
    "start_time": "2023-01-31T15:44:23.841Z"
   },
   {
    "duration": 187,
    "start_time": "2023-01-31T15:44:24.230Z"
   },
   {
    "duration": 290,
    "start_time": "2023-01-31T15:44:24.419Z"
   },
   {
    "duration": 5,
    "start_time": "2023-01-31T15:46:22.250Z"
   },
   {
    "duration": 11,
    "start_time": "2023-01-31T15:46:28.914Z"
   },
   {
    "duration": 80,
    "start_time": "2023-01-31T15:46:49.057Z"
   },
   {
    "duration": 10,
    "start_time": "2023-01-31T15:46:56.353Z"
   },
   {
    "duration": 39,
    "start_time": "2023-01-31T15:54:03.034Z"
   },
   {
    "duration": 13,
    "start_time": "2023-01-31T15:54:13.056Z"
   },
   {
    "duration": 14,
    "start_time": "2023-01-31T15:54:24.193Z"
   },
   {
    "duration": 4,
    "start_time": "2023-01-31T16:05:15.368Z"
   },
   {
    "duration": 180,
    "start_time": "2023-01-31T16:07:59.777Z"
   },
   {
    "duration": 5,
    "start_time": "2023-01-31T16:08:17.906Z"
   },
   {
    "duration": 269,
    "start_time": "2023-01-31T16:09:37.213Z"
   },
   {
    "duration": 189,
    "start_time": "2023-01-31T16:09:42.059Z"
   },
   {
    "duration": 11,
    "start_time": "2023-01-31T16:17:08.525Z"
   },
   {
    "duration": 18,
    "start_time": "2023-01-31T16:17:52.325Z"
   },
   {
    "duration": 14,
    "start_time": "2023-01-31T16:17:57.513Z"
   },
   {
    "duration": 243,
    "start_time": "2023-01-31T16:19:02.926Z"
   },
   {
    "duration": 15,
    "start_time": "2023-01-31T16:19:07.383Z"
   },
   {
    "duration": 16,
    "start_time": "2023-01-31T16:19:25.780Z"
   },
   {
    "duration": 183,
    "start_time": "2023-01-31T16:19:28.664Z"
   },
   {
    "duration": 200,
    "start_time": "2023-01-31T16:19:42.016Z"
   },
   {
    "duration": 194,
    "start_time": "2023-01-31T16:19:49.785Z"
   },
   {
    "duration": 17,
    "start_time": "2023-01-31T16:20:33.873Z"
   },
   {
    "duration": 47,
    "start_time": "2023-02-01T11:41:58.542Z"
   },
   {
    "duration": 1234,
    "start_time": "2023-02-01T11:42:05.915Z"
   },
   {
    "duration": 31,
    "start_time": "2023-02-01T11:42:07.152Z"
   },
   {
    "duration": 24,
    "start_time": "2023-02-01T11:42:07.184Z"
   },
   {
    "duration": 3218,
    "start_time": "2023-02-01T11:42:07.210Z"
   },
   {
    "duration": 8,
    "start_time": "2023-02-01T11:42:10.430Z"
   },
   {
    "duration": 73,
    "start_time": "2023-02-01T11:42:10.440Z"
   },
   {
    "duration": 11,
    "start_time": "2023-02-01T11:42:10.515Z"
   },
   {
    "duration": 13,
    "start_time": "2023-02-01T11:42:10.528Z"
   },
   {
    "duration": 13,
    "start_time": "2023-02-01T11:42:10.543Z"
   },
   {
    "duration": 52,
    "start_time": "2023-02-01T11:42:10.557Z"
   },
   {
    "duration": 9,
    "start_time": "2023-02-01T11:42:10.611Z"
   },
   {
    "duration": 46,
    "start_time": "2023-02-01T11:42:10.622Z"
   },
   {
    "duration": 38,
    "start_time": "2023-02-01T11:42:10.670Z"
   },
   {
    "duration": 69,
    "start_time": "2023-02-01T11:42:10.711Z"
   },
   {
    "duration": 20,
    "start_time": "2023-02-01T11:42:10.792Z"
   },
   {
    "duration": 49,
    "start_time": "2023-02-01T11:42:10.814Z"
   },
   {
    "duration": 60,
    "start_time": "2023-02-01T11:42:10.865Z"
   },
   {
    "duration": 7,
    "start_time": "2023-02-01T11:42:10.927Z"
   },
   {
    "duration": 20,
    "start_time": "2023-02-01T11:42:10.936Z"
   },
   {
    "duration": 66,
    "start_time": "2023-02-01T11:42:10.957Z"
   },
   {
    "duration": 42,
    "start_time": "2023-02-01T11:42:11.025Z"
   },
   {
    "duration": 60,
    "start_time": "2023-02-01T11:42:11.069Z"
   },
   {
    "duration": 12,
    "start_time": "2023-02-01T11:42:11.131Z"
   },
   {
    "duration": 26,
    "start_time": "2023-02-01T11:42:11.145Z"
   },
   {
    "duration": 8,
    "start_time": "2023-02-01T11:42:11.193Z"
   },
   {
    "duration": 17,
    "start_time": "2023-02-01T11:42:11.204Z"
   },
   {
    "duration": 11,
    "start_time": "2023-02-01T11:42:11.223Z"
   },
   {
    "duration": 346,
    "start_time": "2023-02-01T11:42:11.236Z"
   },
   {
    "duration": 36,
    "start_time": "2023-02-01T11:42:11.584Z"
   },
   {
    "duration": 206,
    "start_time": "2023-02-01T11:42:11.622Z"
   },
   {
    "duration": 11,
    "start_time": "2023-02-01T11:42:11.830Z"
   },
   {
    "duration": 201,
    "start_time": "2023-02-01T11:42:11.843Z"
   },
   {
    "duration": 291,
    "start_time": "2023-02-01T11:42:12.045Z"
   },
   {
    "duration": 211,
    "start_time": "2023-02-01T11:42:12.338Z"
   },
   {
    "duration": 176,
    "start_time": "2023-02-01T11:42:12.551Z"
   },
   {
    "duration": 173,
    "start_time": "2023-02-01T11:42:12.729Z"
   },
   {
    "duration": 173,
    "start_time": "2023-02-01T11:42:12.904Z"
   },
   {
    "duration": 160,
    "start_time": "2023-02-01T11:42:13.078Z"
   },
   {
    "duration": 163,
    "start_time": "2023-02-01T11:42:13.239Z"
   },
   {
    "duration": 187,
    "start_time": "2023-02-01T11:42:13.404Z"
   },
   {
    "duration": 217,
    "start_time": "2023-02-01T11:42:13.597Z"
   },
   {
    "duration": 205,
    "start_time": "2023-02-01T11:42:13.816Z"
   },
   {
    "duration": 352,
    "start_time": "2023-02-01T11:42:14.023Z"
   },
   {
    "duration": 156,
    "start_time": "2023-02-01T11:42:14.377Z"
   },
   {
    "duration": 172,
    "start_time": "2023-02-01T11:42:14.535Z"
   },
   {
    "duration": 151,
    "start_time": "2023-02-01T11:42:14.709Z"
   },
   {
    "duration": 165,
    "start_time": "2023-02-01T11:42:14.861Z"
   },
   {
    "duration": 152,
    "start_time": "2023-02-01T11:42:15.027Z"
   },
   {
    "duration": 400,
    "start_time": "2023-02-01T11:42:15.180Z"
   },
   {
    "duration": 190,
    "start_time": "2023-02-01T11:42:15.581Z"
   },
   {
    "duration": 285,
    "start_time": "2023-02-01T11:42:15.772Z"
   },
   {
    "duration": 93,
    "start_time": "2023-02-01T11:42:21.497Z"
   },
   {
    "duration": 29,
    "start_time": "2023-02-01T11:42:22.997Z"
   },
   {
    "duration": 15,
    "start_time": "2023-02-01T11:42:25.039Z"
   },
   {
    "duration": 1904,
    "start_time": "2023-02-01T11:42:28.001Z"
   },
   {
    "duration": 69,
    "start_time": "2023-02-01T11:43:21.233Z"
   },
   {
    "duration": 96,
    "start_time": "2023-02-01T12:07:32.324Z"
   },
   {
    "duration": 46,
    "start_time": "2023-02-01T12:10:35.121Z"
   },
   {
    "duration": 9,
    "start_time": "2023-02-01T12:11:05.249Z"
   },
   {
    "duration": 8,
    "start_time": "2023-02-01T12:13:40.617Z"
   },
   {
    "duration": 5,
    "start_time": "2023-02-01T12:17:33.301Z"
   },
   {
    "duration": 5,
    "start_time": "2023-02-01T12:17:44.662Z"
   },
   {
    "duration": 10,
    "start_time": "2023-02-01T12:17:59.137Z"
   },
   {
    "duration": 134,
    "start_time": "2023-02-01T12:18:21.565Z"
   },
   {
    "duration": 102,
    "start_time": "2023-02-01T12:19:31.755Z"
   },
   {
    "duration": 102,
    "start_time": "2023-02-01T12:24:54.505Z"
   },
   {
    "duration": 83,
    "start_time": "2023-02-01T12:27:07.717Z"
   },
   {
    "duration": 71,
    "start_time": "2023-02-01T12:28:04.619Z"
   },
   {
    "duration": 12,
    "start_time": "2023-02-01T12:28:16.741Z"
   },
   {
    "duration": 87,
    "start_time": "2023-02-01T14:01:28.097Z"
   },
   {
    "duration": 66,
    "start_time": "2023-02-01T14:01:59.696Z"
   },
   {
    "duration": 42,
    "start_time": "2023-02-01T14:03:35.095Z"
   },
   {
    "duration": 1483,
    "start_time": "2023-02-01T14:03:49.677Z"
   },
   {
    "duration": 29,
    "start_time": "2023-02-01T14:03:51.162Z"
   },
   {
    "duration": 15,
    "start_time": "2023-02-01T14:03:51.192Z"
   },
   {
    "duration": 1879,
    "start_time": "2023-02-01T14:03:51.209Z"
   },
   {
    "duration": 8,
    "start_time": "2023-02-01T14:03:53.090Z"
   },
   {
    "duration": 44,
    "start_time": "2023-02-01T14:03:53.100Z"
   },
   {
    "duration": 8,
    "start_time": "2023-02-01T14:03:53.146Z"
   },
   {
    "duration": 36,
    "start_time": "2023-02-01T14:03:53.155Z"
   },
   {
    "duration": 9,
    "start_time": "2023-02-01T14:03:53.193Z"
   },
   {
    "duration": 10,
    "start_time": "2023-02-01T14:03:53.203Z"
   },
   {
    "duration": 12,
    "start_time": "2023-02-01T14:03:53.214Z"
   },
   {
    "duration": 13,
    "start_time": "2023-02-01T14:03:53.227Z"
   },
   {
    "duration": 15,
    "start_time": "2023-02-01T14:03:53.242Z"
   },
   {
    "duration": 33,
    "start_time": "2023-02-01T14:03:53.259Z"
   },
   {
    "duration": 44,
    "start_time": "2023-02-01T14:03:53.294Z"
   },
   {
    "duration": 24,
    "start_time": "2023-02-01T14:03:53.340Z"
   },
   {
    "duration": 88,
    "start_time": "2023-02-01T14:03:53.365Z"
   },
   {
    "duration": 11,
    "start_time": "2023-02-01T14:03:53.455Z"
   },
   {
    "duration": 59,
    "start_time": "2023-02-01T14:03:53.467Z"
   },
   {
    "duration": 24,
    "start_time": "2023-02-01T14:03:53.527Z"
   },
   {
    "duration": 6,
    "start_time": "2023-02-01T14:03:53.552Z"
   },
   {
    "duration": 40,
    "start_time": "2023-02-01T14:03:53.559Z"
   },
   {
    "duration": 27,
    "start_time": "2023-02-01T14:03:53.601Z"
   },
   {
    "duration": 34,
    "start_time": "2023-02-01T14:03:53.630Z"
   },
   {
    "duration": 46,
    "start_time": "2023-02-01T14:03:53.666Z"
   },
   {
    "duration": 11,
    "start_time": "2023-02-01T14:03:53.713Z"
   },
   {
    "duration": 26,
    "start_time": "2023-02-01T14:03:53.725Z"
   },
   {
    "duration": 5,
    "start_time": "2023-02-01T14:03:53.753Z"
   },
   {
    "duration": 31,
    "start_time": "2023-02-01T14:03:53.760Z"
   },
   {
    "duration": 6,
    "start_time": "2023-02-01T14:03:53.792Z"
   },
   {
    "duration": 334,
    "start_time": "2023-02-01T14:03:53.799Z"
   },
   {
    "duration": 24,
    "start_time": "2023-02-01T14:03:54.135Z"
   },
   {
    "duration": 174,
    "start_time": "2023-02-01T14:03:54.161Z"
   },
   {
    "duration": 10,
    "start_time": "2023-02-01T14:03:54.336Z"
   },
   {
    "duration": 179,
    "start_time": "2023-02-01T14:03:54.348Z"
   },
   {
    "duration": 272,
    "start_time": "2023-02-01T14:03:54.529Z"
   },
   {
    "duration": 171,
    "start_time": "2023-02-01T14:03:54.802Z"
   },
   {
    "duration": 160,
    "start_time": "2023-02-01T14:03:54.975Z"
   },
   {
    "duration": 146,
    "start_time": "2023-02-01T14:03:55.137Z"
   },
   {
    "duration": 148,
    "start_time": "2023-02-01T14:03:55.291Z"
   },
   {
    "duration": 150,
    "start_time": "2023-02-01T14:03:55.443Z"
   },
   {
    "duration": 152,
    "start_time": "2023-02-01T14:03:55.595Z"
   },
   {
    "duration": 168,
    "start_time": "2023-02-01T14:03:55.748Z"
   },
   {
    "duration": 185,
    "start_time": "2023-02-01T14:03:55.918Z"
   },
   {
    "duration": 232,
    "start_time": "2023-02-01T14:03:56.104Z"
   },
   {
    "duration": 417,
    "start_time": "2023-02-01T14:03:56.337Z"
   },
   {
    "duration": 182,
    "start_time": "2023-02-01T14:03:56.756Z"
   },
   {
    "duration": 177,
    "start_time": "2023-02-01T14:03:56.940Z"
   },
   {
    "duration": 152,
    "start_time": "2023-02-01T14:03:57.119Z"
   },
   {
    "duration": 158,
    "start_time": "2023-02-01T14:03:57.273Z"
   },
   {
    "duration": 147,
    "start_time": "2023-02-01T14:03:57.433Z"
   },
   {
    "duration": 378,
    "start_time": "2023-02-01T14:03:57.581Z"
   },
   {
    "duration": 186,
    "start_time": "2023-02-01T14:03:57.962Z"
   },
   {
    "duration": 281,
    "start_time": "2023-02-01T14:03:58.150Z"
   },
   {
    "duration": 72,
    "start_time": "2023-02-01T14:04:53.025Z"
   },
   {
    "duration": 109,
    "start_time": "2023-02-01T14:08:14.465Z"
   },
   {
    "duration": 30,
    "start_time": "2023-02-01T14:09:45.079Z"
   },
   {
    "duration": 24,
    "start_time": "2023-02-01T14:10:45.102Z"
   },
   {
    "duration": 24,
    "start_time": "2023-02-01T14:11:06.331Z"
   },
   {
    "duration": 24,
    "start_time": "2023-02-01T14:12:36.782Z"
   },
   {
    "duration": 22,
    "start_time": "2023-02-01T14:13:30.867Z"
   },
   {
    "duration": 28,
    "start_time": "2023-02-01T14:13:39.596Z"
   },
   {
    "duration": 26,
    "start_time": "2023-02-01T14:14:32.398Z"
   },
   {
    "duration": 94,
    "start_time": "2023-02-01T14:15:19.424Z"
   },
   {
    "duration": 28,
    "start_time": "2023-02-01T14:15:21.572Z"
   },
   {
    "duration": 14,
    "start_time": "2023-02-01T14:15:24.461Z"
   },
   {
    "duration": 1909,
    "start_time": "2023-02-01T14:15:26.822Z"
   },
   {
    "duration": 9,
    "start_time": "2023-02-01T14:15:29.903Z"
   },
   {
    "duration": 50,
    "start_time": "2023-02-01T14:15:36.199Z"
   },
   {
    "duration": 9,
    "start_time": "2023-02-01T14:15:41.232Z"
   },
   {
    "duration": 13,
    "start_time": "2023-02-01T14:15:45.108Z"
   },
   {
    "duration": 11,
    "start_time": "2023-02-01T14:15:51.917Z"
   },
   {
    "duration": 11,
    "start_time": "2023-02-01T14:15:54.999Z"
   },
   {
    "duration": 13,
    "start_time": "2023-02-01T14:16:04.509Z"
   },
   {
    "duration": 13,
    "start_time": "2023-02-01T14:16:07.757Z"
   },
   {
    "duration": 23,
    "start_time": "2023-02-01T14:16:11.825Z"
   },
   {
    "duration": 22,
    "start_time": "2023-02-01T14:16:15.479Z"
   },
   {
    "duration": 24,
    "start_time": "2023-02-01T14:16:20.529Z"
   },
   {
    "duration": 89,
    "start_time": "2023-02-01T14:17:59.107Z"
   },
   {
    "duration": 69,
    "start_time": "2023-02-01T14:18:02.565Z"
   },
   {
    "duration": 20,
    "start_time": "2023-02-01T14:18:06.618Z"
   },
   {
    "duration": 5,
    "start_time": "2023-02-01T14:19:24.987Z"
   },
   {
    "duration": 8,
    "start_time": "2023-02-01T14:19:35.212Z"
   },
   {
    "duration": 115,
    "start_time": "2023-02-01T14:23:37.976Z"
   },
   {
    "duration": 32,
    "start_time": "2023-02-01T14:24:12.174Z"
   },
   {
    "duration": 24,
    "start_time": "2023-02-01T14:24:54.005Z"
   },
   {
    "duration": 296,
    "start_time": "2023-02-01T14:25:37.263Z"
   },
   {
    "duration": 77,
    "start_time": "2023-02-01T16:59:46.991Z"
   },
   {
    "duration": 1113,
    "start_time": "2023-02-01T17:02:41.960Z"
   },
   {
    "duration": 26,
    "start_time": "2023-02-01T17:02:43.075Z"
   },
   {
    "duration": 13,
    "start_time": "2023-02-01T17:02:43.103Z"
   },
   {
    "duration": 2055,
    "start_time": "2023-02-01T17:02:43.118Z"
   },
   {
    "duration": 9,
    "start_time": "2023-02-01T17:02:45.174Z"
   },
   {
    "duration": 44,
    "start_time": "2023-02-01T17:02:45.184Z"
   },
   {
    "duration": 20,
    "start_time": "2023-02-01T17:02:45.230Z"
   },
   {
    "duration": 19,
    "start_time": "2023-02-01T17:02:45.251Z"
   },
   {
    "duration": 11,
    "start_time": "2023-02-01T17:02:45.272Z"
   },
   {
    "duration": 11,
    "start_time": "2023-02-01T17:02:45.285Z"
   },
   {
    "duration": 9,
    "start_time": "2023-02-01T17:02:45.297Z"
   },
   {
    "duration": 36,
    "start_time": "2023-02-01T17:02:45.308Z"
   },
   {
    "duration": 27,
    "start_time": "2023-02-01T17:02:45.345Z"
   },
   {
    "duration": 7,
    "start_time": "2023-02-01T17:02:45.373Z"
   },
   {
    "duration": 62,
    "start_time": "2023-02-01T17:02:45.382Z"
   },
   {
    "duration": 24,
    "start_time": "2023-02-01T17:02:45.446Z"
   },
   {
    "duration": 80,
    "start_time": "2023-02-01T17:02:45.471Z"
   },
   {
    "duration": 10,
    "start_time": "2023-02-01T17:02:45.553Z"
   },
   {
    "duration": 62,
    "start_time": "2023-02-01T17:02:45.565Z"
   },
   {
    "duration": 24,
    "start_time": "2023-02-01T17:02:45.644Z"
   },
   {
    "duration": 6,
    "start_time": "2023-02-01T17:02:45.670Z"
   },
   {
    "duration": 247,
    "start_time": "2023-02-01T17:02:45.679Z"
   },
   {
    "duration": 36,
    "start_time": "2023-02-01T17:02:45.928Z"
   },
   {
    "duration": 42,
    "start_time": "2023-02-01T17:02:45.965Z"
   },
   {
    "duration": 50,
    "start_time": "2023-02-01T17:02:46.010Z"
   },
   {
    "duration": 11,
    "start_time": "2023-02-01T17:02:46.061Z"
   },
   {
    "duration": 24,
    "start_time": "2023-02-01T17:02:46.073Z"
   },
   {
    "duration": 6,
    "start_time": "2023-02-01T17:02:46.101Z"
   },
   {
    "duration": 39,
    "start_time": "2023-02-01T17:02:46.108Z"
   },
   {
    "duration": 5,
    "start_time": "2023-02-01T17:02:46.149Z"
   },
   {
    "duration": 393,
    "start_time": "2023-02-01T17:02:46.156Z"
   },
   {
    "duration": 25,
    "start_time": "2023-02-01T17:02:46.550Z"
   },
   {
    "duration": 180,
    "start_time": "2023-02-01T17:02:46.577Z"
   },
   {
    "duration": 10,
    "start_time": "2023-02-01T17:02:46.758Z"
   },
   {
    "duration": 197,
    "start_time": "2023-02-01T17:02:46.769Z"
   },
   {
    "duration": 184,
    "start_time": "2023-02-01T17:02:46.968Z"
   },
   {
    "duration": 195,
    "start_time": "2023-02-01T17:02:47.153Z"
   },
   {
    "duration": 162,
    "start_time": "2023-02-01T17:02:47.350Z"
   },
   {
    "duration": 138,
    "start_time": "2023-02-01T17:02:47.514Z"
   },
   {
    "duration": 148,
    "start_time": "2023-02-01T17:02:47.654Z"
   },
   {
    "duration": 147,
    "start_time": "2023-02-01T17:02:47.804Z"
   },
   {
    "duration": 173,
    "start_time": "2023-02-01T17:02:47.952Z"
   },
   {
    "duration": 188,
    "start_time": "2023-02-01T17:02:48.127Z"
   },
   {
    "duration": 239,
    "start_time": "2023-02-01T17:02:48.317Z"
   },
   {
    "duration": 242,
    "start_time": "2023-02-01T17:02:48.558Z"
   },
   {
    "duration": 257,
    "start_time": "2023-02-01T17:02:48.802Z"
   },
   {
    "duration": 142,
    "start_time": "2023-02-01T17:02:49.061Z"
   },
   {
    "duration": 156,
    "start_time": "2023-02-01T17:02:49.205Z"
   },
   {
    "duration": 140,
    "start_time": "2023-02-01T17:02:49.362Z"
   },
   {
    "duration": 147,
    "start_time": "2023-02-01T17:02:49.504Z"
   },
   {
    "duration": 157,
    "start_time": "2023-02-01T17:02:49.653Z"
   },
   {
    "duration": 374,
    "start_time": "2023-02-01T17:02:49.812Z"
   },
   {
    "duration": 168,
    "start_time": "2023-02-01T17:02:50.188Z"
   },
   {
    "duration": 339,
    "start_time": "2023-02-01T17:02:50.357Z"
   },
   {
    "duration": 142,
    "start_time": "2023-02-01T17:21:16.295Z"
   },
   {
    "duration": 7,
    "start_time": "2023-02-01T17:27:55.421Z"
   },
   {
    "duration": 81,
    "start_time": "2023-02-01T17:28:00.669Z"
   },
   {
    "duration": 6,
    "start_time": "2023-02-01T17:28:12.285Z"
   },
   {
    "duration": 7,
    "start_time": "2023-02-01T17:28:33.883Z"
   },
   {
    "duration": 82,
    "start_time": "2023-02-01T17:28:39.015Z"
   },
   {
    "duration": 6,
    "start_time": "2023-02-01T17:28:48.905Z"
   },
   {
    "duration": 151,
    "start_time": "2023-02-01T17:32:51.329Z"
   },
   {
    "duration": 10,
    "start_time": "2023-02-01T17:37:36.517Z"
   },
   {
    "duration": 6,
    "start_time": "2023-02-01T17:38:10.382Z"
   },
   {
    "duration": 88,
    "start_time": "2023-02-01T17:43:27.446Z"
   },
   {
    "duration": 23,
    "start_time": "2023-02-01T17:43:29.433Z"
   },
   {
    "duration": 14,
    "start_time": "2023-02-01T17:43:31.710Z"
   },
   {
    "duration": 1710,
    "start_time": "2023-02-01T17:43:34.780Z"
   },
   {
    "duration": 8,
    "start_time": "2023-02-01T17:43:36.856Z"
   },
   {
    "duration": 42,
    "start_time": "2023-02-01T17:43:42.331Z"
   },
   {
    "duration": 9,
    "start_time": "2023-02-01T17:43:46.997Z"
   },
   {
    "duration": 11,
    "start_time": "2023-02-01T17:43:51.465Z"
   },
   {
    "duration": 8,
    "start_time": "2023-02-01T17:43:54.129Z"
   },
   {
    "duration": 10,
    "start_time": "2023-02-01T17:43:58.143Z"
   },
   {
    "duration": 9,
    "start_time": "2023-02-01T17:48:26.942Z"
   },
   {
    "duration": 9,
    "start_time": "2023-02-01T17:48:31.069Z"
   },
   {
    "duration": 12,
    "start_time": "2023-02-01T17:48:35.454Z"
   },
   {
    "duration": 22,
    "start_time": "2023-02-01T17:48:39.804Z"
   },
   {
    "duration": 7,
    "start_time": "2023-02-01T17:48:45.016Z"
   },
   {
    "duration": 42,
    "start_time": "2023-02-01T17:48:51.180Z"
   },
   {
    "duration": 23,
    "start_time": "2023-02-01T17:48:53.931Z"
   },
   {
    "duration": 67,
    "start_time": "2023-02-01T17:48:57.307Z"
   },
   {
    "duration": 10,
    "start_time": "2023-02-01T17:49:01.354Z"
   },
   {
    "duration": 43,
    "start_time": "2023-02-01T17:49:10.497Z"
   },
   {
    "duration": 24,
    "start_time": "2023-02-01T17:49:17.416Z"
   },
   {
    "duration": 6,
    "start_time": "2023-02-01T17:49:25.152Z"
   },
   {
    "duration": 7,
    "start_time": "2023-02-01T17:49:34.230Z"
   },
   {
    "duration": 8,
    "start_time": "2023-02-01T17:49:50.025Z"
   },
   {
    "duration": 315,
    "start_time": "2023-02-01T17:49:54.608Z"
   },
   {
    "duration": 4,
    "start_time": "2023-02-01T17:49:56.999Z"
   },
   {
    "duration": 8,
    "start_time": "2023-02-01T18:06:36.358Z"
   },
   {
    "duration": 175,
    "start_time": "2023-02-01T18:07:27.175Z"
   },
   {
    "duration": 14,
    "start_time": "2023-02-01T18:17:26.163Z"
   },
   {
    "duration": 5,
    "start_time": "2023-02-01T18:20:12.453Z"
   },
   {
    "duration": 85,
    "start_time": "2023-02-01T18:20:30.808Z"
   },
   {
    "duration": 22,
    "start_time": "2023-02-01T18:20:31.938Z"
   },
   {
    "duration": 16,
    "start_time": "2023-02-01T18:20:34.892Z"
   },
   {
    "duration": 1738,
    "start_time": "2023-02-01T18:20:37.478Z"
   },
   {
    "duration": 8,
    "start_time": "2023-02-01T18:20:39.618Z"
   },
   {
    "duration": 44,
    "start_time": "2023-02-01T18:20:44.710Z"
   },
   {
    "duration": 11,
    "start_time": "2023-02-01T18:20:48.204Z"
   },
   {
    "duration": 12,
    "start_time": "2023-02-01T18:20:51.297Z"
   },
   {
    "duration": 9,
    "start_time": "2023-02-01T18:20:54.487Z"
   },
   {
    "duration": 10,
    "start_time": "2023-02-01T18:20:58.046Z"
   },
   {
    "duration": 10,
    "start_time": "2023-02-01T18:21:01.884Z"
   },
   {
    "duration": 13,
    "start_time": "2023-02-01T18:21:06.404Z"
   },
   {
    "duration": 24,
    "start_time": "2023-02-01T18:21:10.731Z"
   },
   {
    "duration": 8,
    "start_time": "2023-02-01T18:21:16.216Z"
   },
   {
    "duration": 37,
    "start_time": "2023-02-01T18:21:19.933Z"
   },
   {
    "duration": 19,
    "start_time": "2023-02-01T18:21:22.091Z"
   },
   {
    "duration": 81,
    "start_time": "2023-02-01T18:21:24.791Z"
   },
   {
    "duration": 11,
    "start_time": "2023-02-01T18:21:27.768Z"
   },
   {
    "duration": 46,
    "start_time": "2023-02-01T18:21:47.187Z"
   },
   {
    "duration": 25,
    "start_time": "2023-02-01T18:21:49.738Z"
   },
   {
    "duration": 5,
    "start_time": "2023-02-01T18:21:51.763Z"
   },
   {
    "duration": 7,
    "start_time": "2023-02-01T18:21:56.280Z"
   },
   {
    "duration": 199,
    "start_time": "2023-02-01T18:22:00.289Z"
   },
   {
    "duration": 6,
    "start_time": "2023-02-01T18:22:02.886Z"
   },
   {
    "duration": 28,
    "start_time": "2023-02-01T18:22:33.110Z"
   },
   {
    "duration": 37,
    "start_time": "2023-02-01T18:22:36.726Z"
   },
   {
    "duration": 25,
    "start_time": "2023-02-01T18:22:40.728Z"
   },
   {
    "duration": 13,
    "start_time": "2023-02-01T18:22:43.586Z"
   },
   {
    "duration": 23,
    "start_time": "2023-02-01T18:22:47.886Z"
   },
   {
    "duration": 5,
    "start_time": "2023-02-01T18:22:51.038Z"
   },
   {
    "duration": 5,
    "start_time": "2023-02-01T18:22:53.324Z"
   },
   {
    "duration": 6,
    "start_time": "2023-02-01T18:22:54.995Z"
   },
   {
    "duration": 298,
    "start_time": "2023-02-01T18:22:57.417Z"
   },
   {
    "duration": 25,
    "start_time": "2023-02-01T18:23:41.520Z"
   },
   {
    "duration": 167,
    "start_time": "2023-02-01T18:23:45.737Z"
   },
   {
    "duration": 160,
    "start_time": "2023-02-01T18:23:50.284Z"
   },
   {
    "duration": 164,
    "start_time": "2023-02-01T18:23:56.202Z"
   },
   {
    "duration": 162,
    "start_time": "2023-02-01T18:24:28.528Z"
   },
   {
    "duration": 234,
    "start_time": "2023-02-01T18:24:42.257Z"
   },
   {
    "duration": 127,
    "start_time": "2023-02-01T18:24:50.625Z"
   },
   {
    "duration": 145,
    "start_time": "2023-02-01T18:25:13.101Z"
   },
   {
    "duration": 124,
    "start_time": "2023-02-01T18:25:23.126Z"
   },
   {
    "duration": 133,
    "start_time": "2023-02-01T18:26:02.853Z"
   },
   {
    "duration": 146,
    "start_time": "2023-02-01T18:26:06.935Z"
   },
   {
    "duration": 179,
    "start_time": "2023-02-01T18:26:15.630Z"
   },
   {
    "duration": 251,
    "start_time": "2023-02-01T18:26:44.954Z"
   },
   {
    "duration": 258,
    "start_time": "2023-02-01T18:26:51.078Z"
   },
   {
    "duration": 134,
    "start_time": "2023-02-01T18:26:56.986Z"
   },
   {
    "duration": 221,
    "start_time": "2023-02-01T18:27:22.839Z"
   },
   {
    "duration": 193,
    "start_time": "2023-02-01T18:27:34.745Z"
   },
   {
    "duration": 125,
    "start_time": "2023-02-01T18:27:38.682Z"
   },
   {
    "duration": 264,
    "start_time": "2023-02-01T18:27:42.397Z"
   },
   {
    "duration": 279,
    "start_time": "2023-02-01T18:27:51.701Z"
   },
   {
    "duration": 214,
    "start_time": "2023-02-01T18:42:52.432Z"
   },
   {
    "duration": 197,
    "start_time": "2023-02-01T18:43:13.298Z"
   },
   {
    "duration": 74,
    "start_time": "2023-02-01T18:44:27.062Z"
   },
   {
    "duration": 69,
    "start_time": "2023-02-01T18:44:36.886Z"
   },
   {
    "duration": 205,
    "start_time": "2023-02-01T18:45:26.313Z"
   },
   {
    "duration": 197,
    "start_time": "2023-02-01T18:45:43.535Z"
   },
   {
    "duration": 157,
    "start_time": "2023-02-01T18:45:50.525Z"
   },
   {
    "duration": 164,
    "start_time": "2023-02-01T18:47:10.308Z"
   },
   {
    "duration": 258,
    "start_time": "2023-02-01T18:47:17.497Z"
   },
   {
    "duration": 266,
    "start_time": "2023-02-01T18:47:25.361Z"
   },
   {
    "duration": 213,
    "start_time": "2023-02-01T18:56:31.650Z"
   },
   {
    "duration": 218,
    "start_time": "2023-02-01T18:56:54.193Z"
   },
   {
    "duration": 82,
    "start_time": "2023-02-01T19:01:32.900Z"
   },
   {
    "duration": 62,
    "start_time": "2023-02-02T10:27:26.557Z"
   },
   {
    "duration": 956,
    "start_time": "2023-02-02T10:29:15.932Z"
   },
   {
    "duration": 29,
    "start_time": "2023-02-02T10:29:16.891Z"
   },
   {
    "duration": 16,
    "start_time": "2023-02-02T10:29:16.921Z"
   },
   {
    "duration": 1980,
    "start_time": "2023-02-02T10:29:16.939Z"
   },
   {
    "duration": 8,
    "start_time": "2023-02-02T10:29:18.921Z"
   },
   {
    "duration": 47,
    "start_time": "2023-02-02T10:29:18.931Z"
   },
   {
    "duration": 7,
    "start_time": "2023-02-02T10:29:18.980Z"
   },
   {
    "duration": 11,
    "start_time": "2023-02-02T10:29:18.989Z"
   },
   {
    "duration": 33,
    "start_time": "2023-02-02T10:29:19.002Z"
   },
   {
    "duration": 10,
    "start_time": "2023-02-02T10:29:19.037Z"
   },
   {
    "duration": 8,
    "start_time": "2023-02-02T10:29:19.049Z"
   },
   {
    "duration": 13,
    "start_time": "2023-02-02T10:29:19.059Z"
   },
   {
    "duration": 59,
    "start_time": "2023-02-02T10:29:19.073Z"
   },
   {
    "duration": 6,
    "start_time": "2023-02-02T10:29:19.134Z"
   },
   {
    "duration": 44,
    "start_time": "2023-02-02T10:29:19.142Z"
   },
   {
    "duration": 45,
    "start_time": "2023-02-02T10:29:19.187Z"
   },
   {
    "duration": 67,
    "start_time": "2023-02-02T10:29:19.233Z"
   },
   {
    "duration": 28,
    "start_time": "2023-02-02T10:29:19.302Z"
   },
   {
    "duration": 59,
    "start_time": "2023-02-02T10:29:19.332Z"
   },
   {
    "duration": 45,
    "start_time": "2023-02-02T10:29:19.394Z"
   },
   {
    "duration": 6,
    "start_time": "2023-02-02T10:29:19.440Z"
   },
   {
    "duration": 13,
    "start_time": "2023-02-02T10:29:19.448Z"
   },
   {
    "duration": 6,
    "start_time": "2023-02-02T10:29:19.463Z"
   },
   {
    "duration": 57,
    "start_time": "2023-02-02T10:29:19.470Z"
   },
   {
    "duration": 48,
    "start_time": "2023-02-02T10:29:19.529Z"
   },
   {
    "duration": 54,
    "start_time": "2023-02-02T10:29:19.579Z"
   },
   {
    "duration": 12,
    "start_time": "2023-02-02T10:29:19.634Z"
   },
   {
    "duration": 26,
    "start_time": "2023-02-02T10:29:19.649Z"
   },
   {
    "duration": 6,
    "start_time": "2023-02-02T10:29:19.677Z"
   },
   {
    "duration": 11,
    "start_time": "2023-02-02T10:29:19.684Z"
   },
   {
    "duration": 31,
    "start_time": "2023-02-02T10:29:19.697Z"
   },
   {
    "duration": 336,
    "start_time": "2023-02-02T10:29:19.729Z"
   },
   {
    "duration": 24,
    "start_time": "2023-02-02T10:29:20.067Z"
   },
   {
    "duration": 192,
    "start_time": "2023-02-02T10:29:20.093Z"
   },
   {
    "duration": 14,
    "start_time": "2023-02-02T10:29:20.287Z"
   },
   {
    "duration": 259,
    "start_time": "2023-02-02T10:29:20.303Z"
   },
   {
    "duration": 292,
    "start_time": "2023-02-02T10:29:20.565Z"
   },
   {
    "duration": 192,
    "start_time": "2023-02-02T10:29:20.858Z"
   },
   {
    "duration": 178,
    "start_time": "2023-02-02T10:29:21.051Z"
   },
   {
    "duration": 160,
    "start_time": "2023-02-02T10:29:21.231Z"
   },
   {
    "duration": 157,
    "start_time": "2023-02-02T10:29:21.392Z"
   },
   {
    "duration": 149,
    "start_time": "2023-02-02T10:29:21.551Z"
   },
   {
    "duration": 148,
    "start_time": "2023-02-02T10:29:21.702Z"
   },
   {
    "duration": 167,
    "start_time": "2023-02-02T10:29:21.852Z"
   },
   {
    "duration": 205,
    "start_time": "2023-02-02T10:29:22.027Z"
   },
   {
    "duration": 185,
    "start_time": "2023-02-02T10:29:22.233Z"
   },
   {
    "duration": 358,
    "start_time": "2023-02-02T10:29:22.427Z"
   },
   {
    "duration": 149,
    "start_time": "2023-02-02T10:29:22.787Z"
   },
   {
    "duration": 161,
    "start_time": "2023-02-02T10:29:22.938Z"
   },
   {
    "duration": 162,
    "start_time": "2023-02-02T10:29:23.101Z"
   },
   {
    "duration": 162,
    "start_time": "2023-02-02T10:29:23.265Z"
   },
   {
    "duration": 135,
    "start_time": "2023-02-02T10:29:23.428Z"
   },
   {
    "duration": 371,
    "start_time": "2023-02-02T10:29:23.564Z"
   },
   {
    "duration": 49,
    "start_time": "2023-02-02T10:29:23.937Z"
   },
   {
    "duration": 0,
    "start_time": "2023-02-02T10:29:23.988Z"
   },
   {
    "duration": 0,
    "start_time": "2023-02-02T10:29:23.989Z"
   },
   {
    "duration": 0,
    "start_time": "2023-02-02T10:29:23.990Z"
   },
   {
    "duration": 1,
    "start_time": "2023-02-02T10:29:23.991Z"
   },
   {
    "duration": 0,
    "start_time": "2023-02-02T10:29:23.993Z"
   },
   {
    "duration": 0,
    "start_time": "2023-02-02T10:29:23.994Z"
   },
   {
    "duration": 40,
    "start_time": "2023-02-02T10:30:09.961Z"
   },
   {
    "duration": 5,
    "start_time": "2023-02-02T10:30:22.470Z"
   },
   {
    "duration": 70,
    "start_time": "2023-02-02T10:34:15.923Z"
   },
   {
    "duration": 11,
    "start_time": "2023-02-02T10:34:43.296Z"
   },
   {
    "duration": 5,
    "start_time": "2023-02-02T10:34:47.674Z"
   },
   {
    "duration": 11,
    "start_time": "2023-02-02T10:35:28.390Z"
   },
   {
    "duration": 8,
    "start_time": "2023-02-02T10:35:30.817Z"
   },
   {
    "duration": 55,
    "start_time": "2023-02-02T19:47:13.767Z"
   },
   {
    "duration": 1197,
    "start_time": "2023-02-02T19:47:17.710Z"
   },
   {
    "duration": 29,
    "start_time": "2023-02-02T19:47:18.909Z"
   },
   {
    "duration": 22,
    "start_time": "2023-02-02T19:47:18.939Z"
   },
   {
    "duration": 1962,
    "start_time": "2023-02-02T19:47:18.963Z"
   },
   {
    "duration": 9,
    "start_time": "2023-02-02T19:47:20.926Z"
   },
   {
    "duration": 59,
    "start_time": "2023-02-02T19:47:20.936Z"
   },
   {
    "duration": 8,
    "start_time": "2023-02-02T19:47:20.996Z"
   },
   {
    "duration": 14,
    "start_time": "2023-02-02T19:47:21.006Z"
   },
   {
    "duration": 30,
    "start_time": "2023-02-02T19:47:21.021Z"
   },
   {
    "duration": 13,
    "start_time": "2023-02-02T19:47:21.054Z"
   },
   {
    "duration": 16,
    "start_time": "2023-02-02T19:47:21.068Z"
   },
   {
    "duration": 13,
    "start_time": "2023-02-02T19:47:21.085Z"
   },
   {
    "duration": 27,
    "start_time": "2023-02-02T19:47:21.099Z"
   },
   {
    "duration": 6,
    "start_time": "2023-02-02T19:47:21.127Z"
   },
   {
    "duration": 51,
    "start_time": "2023-02-02T19:47:21.150Z"
   },
   {
    "duration": 23,
    "start_time": "2023-02-02T19:47:21.203Z"
   },
   {
    "duration": 81,
    "start_time": "2023-02-02T19:47:21.228Z"
   },
   {
    "duration": 10,
    "start_time": "2023-02-02T19:47:21.310Z"
   },
   {
    "duration": 52,
    "start_time": "2023-02-02T19:47:21.321Z"
   },
   {
    "duration": 23,
    "start_time": "2023-02-02T19:47:21.375Z"
   },
   {
    "duration": 19,
    "start_time": "2023-02-02T19:47:21.400Z"
   },
   {
    "duration": 27,
    "start_time": "2023-02-02T19:47:21.420Z"
   },
   {
    "duration": 17,
    "start_time": "2023-02-02T19:47:21.448Z"
   },
   {
    "duration": 46,
    "start_time": "2023-02-02T19:47:21.468Z"
   },
   {
    "duration": 45,
    "start_time": "2023-02-02T19:47:21.516Z"
   },
   {
    "duration": 25,
    "start_time": "2023-02-02T19:47:21.563Z"
   },
   {
    "duration": 13,
    "start_time": "2023-02-02T19:47:21.589Z"
   },
   {
    "duration": 24,
    "start_time": "2023-02-02T19:47:21.605Z"
   },
   {
    "duration": 29,
    "start_time": "2023-02-02T19:47:21.631Z"
   },
   {
    "duration": 7,
    "start_time": "2023-02-02T19:47:21.662Z"
   },
   {
    "duration": 8,
    "start_time": "2023-02-02T19:47:21.670Z"
   },
   {
    "duration": 340,
    "start_time": "2023-02-02T19:47:21.679Z"
   },
   {
    "duration": 40,
    "start_time": "2023-02-02T19:47:22.021Z"
   },
   {
    "duration": 181,
    "start_time": "2023-02-02T19:47:22.062Z"
   },
   {
    "duration": 20,
    "start_time": "2023-02-02T19:47:22.248Z"
   },
   {
    "duration": 252,
    "start_time": "2023-02-02T19:47:22.270Z"
   },
   {
    "duration": 200,
    "start_time": "2023-02-02T19:47:22.524Z"
   },
   {
    "duration": 182,
    "start_time": "2023-02-02T19:47:22.726Z"
   },
   {
    "duration": 173,
    "start_time": "2023-02-02T19:47:22.910Z"
   },
   {
    "duration": 171,
    "start_time": "2023-02-02T19:47:23.084Z"
   },
   {
    "duration": 150,
    "start_time": "2023-02-02T19:47:23.256Z"
   },
   {
    "duration": 166,
    "start_time": "2023-02-02T19:47:23.408Z"
   },
   {
    "duration": 155,
    "start_time": "2023-02-02T19:47:23.575Z"
   },
   {
    "duration": 195,
    "start_time": "2023-02-02T19:47:23.732Z"
   },
   {
    "duration": 231,
    "start_time": "2023-02-02T19:47:23.928Z"
   },
   {
    "duration": 215,
    "start_time": "2023-02-02T19:47:24.161Z"
   },
   {
    "duration": 350,
    "start_time": "2023-02-02T19:47:24.379Z"
   },
   {
    "duration": 149,
    "start_time": "2023-02-02T19:47:24.730Z"
   },
   {
    "duration": 181,
    "start_time": "2023-02-02T19:47:24.881Z"
   },
   {
    "duration": 159,
    "start_time": "2023-02-02T19:47:25.064Z"
   },
   {
    "duration": 159,
    "start_time": "2023-02-02T19:47:25.225Z"
   },
   {
    "duration": 146,
    "start_time": "2023-02-02T19:47:25.385Z"
   },
   {
    "duration": 384,
    "start_time": "2023-02-02T19:47:25.533Z"
   },
   {
    "duration": 76,
    "start_time": "2023-02-02T19:47:25.919Z"
   },
   {
    "duration": 0,
    "start_time": "2023-02-02T19:47:25.996Z"
   },
   {
    "duration": 0,
    "start_time": "2023-02-02T19:47:25.997Z"
   },
   {
    "duration": 0,
    "start_time": "2023-02-02T19:47:25.998Z"
   },
   {
    "duration": 0,
    "start_time": "2023-02-02T19:47:25.999Z"
   },
   {
    "duration": 0,
    "start_time": "2023-02-02T19:47:26.001Z"
   },
   {
    "duration": 0,
    "start_time": "2023-02-02T19:47:26.002Z"
   },
   {
    "duration": 6,
    "start_time": "2023-02-02T19:48:11.295Z"
   },
   {
    "duration": 10,
    "start_time": "2023-02-02T19:48:14.626Z"
   },
   {
    "duration": 6,
    "start_time": "2023-02-02T19:48:55.819Z"
   },
   {
    "duration": 71,
    "start_time": "2023-02-02T19:52:09.842Z"
   },
   {
    "duration": 7,
    "start_time": "2023-02-02T19:59:29.480Z"
   },
   {
    "duration": 14,
    "start_time": "2023-02-02T19:59:44.114Z"
   },
   {
    "duration": 43,
    "start_time": "2023-02-02T20:01:07.308Z"
   },
   {
    "duration": 116,
    "start_time": "2023-02-02T20:01:14.731Z"
   },
   {
    "duration": 31,
    "start_time": "2023-02-02T20:01:14.848Z"
   },
   {
    "duration": 19,
    "start_time": "2023-02-02T20:01:14.880Z"
   },
   {
    "duration": 2341,
    "start_time": "2023-02-02T20:01:14.901Z"
   },
   {
    "duration": 15,
    "start_time": "2023-02-02T20:01:17.244Z"
   },
   {
    "duration": 85,
    "start_time": "2023-02-02T20:01:17.260Z"
   },
   {
    "duration": 23,
    "start_time": "2023-02-02T20:01:17.346Z"
   },
   {
    "duration": 45,
    "start_time": "2023-02-02T20:01:17.374Z"
   },
   {
    "duration": 11,
    "start_time": "2023-02-02T20:01:17.421Z"
   },
   {
    "duration": 24,
    "start_time": "2023-02-02T20:01:17.434Z"
   },
   {
    "duration": 36,
    "start_time": "2023-02-02T20:01:17.459Z"
   },
   {
    "duration": 13,
    "start_time": "2023-02-02T20:01:17.497Z"
   },
   {
    "duration": 39,
    "start_time": "2023-02-02T20:01:17.511Z"
   },
   {
    "duration": 37,
    "start_time": "2023-02-02T20:01:17.559Z"
   },
   {
    "duration": 56,
    "start_time": "2023-02-02T20:01:17.598Z"
   },
   {
    "duration": 75,
    "start_time": "2023-02-02T20:01:17.656Z"
   },
   {
    "duration": 95,
    "start_time": "2023-02-02T20:01:17.733Z"
   },
   {
    "duration": 13,
    "start_time": "2023-02-02T20:01:17.830Z"
   },
   {
    "duration": 111,
    "start_time": "2023-02-02T20:01:17.849Z"
   },
   {
    "duration": 35,
    "start_time": "2023-02-02T20:01:17.971Z"
   },
   {
    "duration": 26,
    "start_time": "2023-02-02T20:01:18.008Z"
   },
   {
    "duration": 97,
    "start_time": "2023-02-02T20:01:18.036Z"
   },
   {
    "duration": 26,
    "start_time": "2023-02-02T20:01:18.135Z"
   },
   {
    "duration": 103,
    "start_time": "2023-02-02T20:01:18.162Z"
   },
   {
    "duration": 93,
    "start_time": "2023-02-02T20:01:18.270Z"
   },
   {
    "duration": 71,
    "start_time": "2023-02-02T20:01:18.365Z"
   },
   {
    "duration": 63,
    "start_time": "2023-02-02T20:01:18.438Z"
   },
   {
    "duration": 67,
    "start_time": "2023-02-02T20:01:18.505Z"
   },
   {
    "duration": 37,
    "start_time": "2023-02-02T20:01:18.577Z"
   },
   {
    "duration": 38,
    "start_time": "2023-02-02T20:01:18.616Z"
   },
   {
    "duration": 72,
    "start_time": "2023-02-02T20:01:18.656Z"
   },
   {
    "duration": 463,
    "start_time": "2023-02-02T20:01:18.730Z"
   },
   {
    "duration": 34,
    "start_time": "2023-02-02T20:01:19.196Z"
   },
   {
    "duration": 260,
    "start_time": "2023-02-02T20:01:19.232Z"
   },
   {
    "duration": 13,
    "start_time": "2023-02-02T20:01:19.493Z"
   },
   {
    "duration": 399,
    "start_time": "2023-02-02T20:01:19.508Z"
   },
   {
    "duration": 237,
    "start_time": "2023-02-02T20:01:19.909Z"
   },
   {
    "duration": 213,
    "start_time": "2023-02-02T20:01:20.148Z"
   },
   {
    "duration": 208,
    "start_time": "2023-02-02T20:01:20.369Z"
   },
   {
    "duration": 210,
    "start_time": "2023-02-02T20:01:20.578Z"
   },
   {
    "duration": 188,
    "start_time": "2023-02-02T20:01:20.789Z"
   },
   {
    "duration": 200,
    "start_time": "2023-02-02T20:01:20.985Z"
   },
   {
    "duration": 181,
    "start_time": "2023-02-02T20:01:21.187Z"
   },
   {
    "duration": 224,
    "start_time": "2023-02-02T20:01:21.380Z"
   },
   {
    "duration": 226,
    "start_time": "2023-02-02T20:01:21.606Z"
   },
   {
    "duration": 203,
    "start_time": "2023-02-02T20:01:21.834Z"
   },
   {
    "duration": 411,
    "start_time": "2023-02-02T20:01:22.048Z"
   },
   {
    "duration": 175,
    "start_time": "2023-02-02T20:01:22.461Z"
   },
   {
    "duration": 198,
    "start_time": "2023-02-02T20:01:22.638Z"
   },
   {
    "duration": 176,
    "start_time": "2023-02-02T20:01:22.837Z"
   },
   {
    "duration": 172,
    "start_time": "2023-02-02T20:01:23.015Z"
   },
   {
    "duration": 169,
    "start_time": "2023-02-02T20:01:23.188Z"
   },
   {
    "duration": 359,
    "start_time": "2023-02-02T20:01:23.361Z"
   },
   {
    "duration": 210,
    "start_time": "2023-02-02T20:01:23.721Z"
   },
   {
    "duration": 104,
    "start_time": "2023-02-02T20:01:23.932Z"
   },
   {
    "duration": 0,
    "start_time": "2023-02-02T20:01:24.039Z"
   },
   {
    "duration": 0,
    "start_time": "2023-02-02T20:01:24.041Z"
   },
   {
    "duration": 0,
    "start_time": "2023-02-02T20:01:24.042Z"
   },
   {
    "duration": 0,
    "start_time": "2023-02-02T20:01:24.044Z"
   },
   {
    "duration": 0,
    "start_time": "2023-02-02T20:01:24.045Z"
   },
   {
    "duration": 105,
    "start_time": "2023-02-02T20:01:30.270Z"
   },
   {
    "duration": 28,
    "start_time": "2023-02-02T20:01:36.913Z"
   },
   {
    "duration": 17,
    "start_time": "2023-02-02T20:01:39.376Z"
   },
   {
    "duration": 2122,
    "start_time": "2023-02-02T20:01:42.494Z"
   },
   {
    "duration": 8,
    "start_time": "2023-02-02T20:01:49.492Z"
   },
   {
    "duration": 47,
    "start_time": "2023-02-02T20:01:56.188Z"
   },
   {
    "duration": 12,
    "start_time": "2023-02-02T20:02:02.272Z"
   },
   {
    "duration": 22,
    "start_time": "2023-02-02T20:02:05.047Z"
   },
   {
    "duration": 16,
    "start_time": "2023-02-02T20:02:07.644Z"
   },
   {
    "duration": 11,
    "start_time": "2023-02-02T20:02:11.882Z"
   },
   {
    "duration": 10,
    "start_time": "2023-02-02T20:02:30.678Z"
   },
   {
    "duration": 15,
    "start_time": "2023-02-02T20:02:40.302Z"
   },
   {
    "duration": 29,
    "start_time": "2023-02-02T20:02:45.625Z"
   },
   {
    "duration": 6,
    "start_time": "2023-02-02T20:02:52.918Z"
   },
   {
    "duration": 59,
    "start_time": "2023-02-02T20:02:57.220Z"
   },
   {
    "duration": 25,
    "start_time": "2023-02-02T20:02:59.776Z"
   },
   {
    "duration": 70,
    "start_time": "2023-02-02T20:03:16.832Z"
   },
   {
    "duration": 11,
    "start_time": "2023-02-02T20:03:19.832Z"
   },
   {
    "duration": 57,
    "start_time": "2023-02-02T20:03:23.370Z"
   },
   {
    "duration": 33,
    "start_time": "2023-02-02T20:03:27.534Z"
   },
   {
    "duration": 7,
    "start_time": "2023-02-02T20:03:32.101Z"
   },
   {
    "duration": 10,
    "start_time": "2023-02-02T20:03:34.677Z"
   },
   {
    "duration": 6,
    "start_time": "2023-02-02T20:03:37.328Z"
   },
   {
    "duration": 31,
    "start_time": "2023-02-02T20:03:43.787Z"
   },
   {
    "duration": 40,
    "start_time": "2023-02-02T20:03:46.005Z"
   },
   {
    "duration": 26,
    "start_time": "2023-02-02T20:03:48.097Z"
   },
   {
    "duration": 12,
    "start_time": "2023-02-02T20:03:50.676Z"
   },
   {
    "duration": 24,
    "start_time": "2023-02-02T20:03:57.074Z"
   },
   {
    "duration": 39,
    "start_time": "2023-02-02T20:05:16.414Z"
   },
   {
    "duration": 26,
    "start_time": "2023-02-02T20:14:00.406Z"
   },
   {
    "duration": 8,
    "start_time": "2023-02-02T20:14:04.032Z"
   },
   {
    "duration": 10,
    "start_time": "2023-02-02T20:14:06.359Z"
   },
   {
    "duration": 7,
    "start_time": "2023-02-02T20:14:08.472Z"
   },
   {
    "duration": 360,
    "start_time": "2023-02-02T20:14:10.742Z"
   },
   {
    "duration": 35,
    "start_time": "2023-02-02T20:15:35.741Z"
   },
   {
    "duration": 204,
    "start_time": "2023-02-02T20:15:41.181Z"
   },
   {
    "duration": 39,
    "start_time": "2023-02-02T20:15:44.046Z"
   },
   {
    "duration": 310,
    "start_time": "2023-02-02T20:15:48.722Z"
   },
   {
    "duration": 207,
    "start_time": "2023-02-02T20:15:53.025Z"
   },
   {
    "duration": 199,
    "start_time": "2023-02-02T20:15:58.004Z"
   },
   {
    "duration": 174,
    "start_time": "2023-02-02T20:16:12.918Z"
   },
   {
    "duration": 190,
    "start_time": "2023-02-02T20:16:23.139Z"
   },
   {
    "duration": 165,
    "start_time": "2023-02-02T20:16:27.283Z"
   },
   {
    "duration": 156,
    "start_time": "2023-02-02T20:16:32.534Z"
   },
   {
    "duration": 150,
    "start_time": "2023-02-02T20:16:37.297Z"
   },
   {
    "duration": 166,
    "start_time": "2023-02-02T20:17:54.908Z"
   },
   {
    "duration": 208,
    "start_time": "2023-02-02T20:17:58.842Z"
   },
   {
    "duration": 204,
    "start_time": "2023-02-02T20:18:03.717Z"
   },
   {
    "duration": 358,
    "start_time": "2023-02-02T20:18:08.948Z"
   },
   {
    "duration": 267,
    "start_time": "2023-02-02T20:22:55.593Z"
   },
   {
    "duration": 150,
    "start_time": "2023-02-02T20:22:59.470Z"
   },
   {
    "duration": 165,
    "start_time": "2023-02-02T20:23:02.842Z"
   },
   {
    "duration": 156,
    "start_time": "2023-02-02T20:23:09.047Z"
   },
   {
    "duration": 166,
    "start_time": "2023-02-02T20:24:44.517Z"
   },
   {
    "duration": 147,
    "start_time": "2023-02-02T20:24:48.034Z"
   },
   {
    "duration": 312,
    "start_time": "2023-02-02T20:24:52.038Z"
   },
   {
    "duration": 174,
    "start_time": "2023-02-02T20:24:55.559Z"
   },
   {
    "duration": 342,
    "start_time": "2023-02-02T20:25:04.038Z"
   },
   {
    "duration": 246,
    "start_time": "2023-02-02T20:25:21.324Z"
   },
   {
    "duration": 10,
    "start_time": "2023-02-02T20:25:30.479Z"
   },
   {
    "duration": 10,
    "start_time": "2023-02-02T20:25:34.428Z"
   },
   {
    "duration": 7,
    "start_time": "2023-02-02T20:26:24.823Z"
   },
   {
    "duration": 27,
    "start_time": "2023-02-02T20:27:22.211Z"
   },
   {
    "duration": 8,
    "start_time": "2023-02-02T20:27:29.506Z"
   },
   {
    "duration": 30,
    "start_time": "2023-02-02T20:27:58.878Z"
   },
   {
    "duration": 1089,
    "start_time": "2023-02-03T08:31:42.127Z"
   },
   {
    "duration": 31,
    "start_time": "2023-02-03T08:31:43.219Z"
   },
   {
    "duration": 26,
    "start_time": "2023-02-03T08:31:43.255Z"
   },
   {
    "duration": 2486,
    "start_time": "2023-02-03T08:31:43.283Z"
   },
   {
    "duration": 10,
    "start_time": "2023-02-03T08:31:45.771Z"
   },
   {
    "duration": 68,
    "start_time": "2023-02-03T08:31:45.784Z"
   },
   {
    "duration": 12,
    "start_time": "2023-02-03T08:31:45.854Z"
   },
   {
    "duration": 39,
    "start_time": "2023-02-03T08:32:15.836Z"
   },
   {
    "duration": 15,
    "start_time": "2023-02-03T08:32:28.149Z"
   },
   {
    "duration": 785,
    "start_time": "2023-02-03T08:34:02.404Z"
   },
   {
    "duration": 29,
    "start_time": "2023-02-03T08:34:03.191Z"
   },
   {
    "duration": 28,
    "start_time": "2023-02-03T08:34:03.222Z"
   },
   {
    "duration": 2164,
    "start_time": "2023-02-03T08:34:03.253Z"
   },
   {
    "duration": 9,
    "start_time": "2023-02-03T08:34:05.419Z"
   },
   {
    "duration": 83,
    "start_time": "2023-02-03T08:34:05.429Z"
   },
   {
    "duration": 11,
    "start_time": "2023-02-03T08:34:05.514Z"
   },
   {
    "duration": 10,
    "start_time": "2023-02-03T08:34:05.527Z"
   },
   {
    "duration": 13,
    "start_time": "2023-02-03T08:34:05.539Z"
   },
   {
    "duration": 10,
    "start_time": "2023-02-03T08:34:05.556Z"
   },
   {
    "duration": 10,
    "start_time": "2023-02-03T08:34:05.568Z"
   },
   {
    "duration": 12,
    "start_time": "2023-02-03T08:34:05.580Z"
   },
   {
    "duration": 14,
    "start_time": "2023-02-03T08:34:05.593Z"
   },
   {
    "duration": 29,
    "start_time": "2023-02-03T08:34:05.640Z"
   },
   {
    "duration": 18,
    "start_time": "2023-02-03T08:34:05.671Z"
   },
   {
    "duration": 51,
    "start_time": "2023-02-03T08:34:05.691Z"
   },
   {
    "duration": 25,
    "start_time": "2023-02-03T08:34:05.744Z"
   },
   {
    "duration": 83,
    "start_time": "2023-02-03T08:34:05.771Z"
   },
   {
    "duration": 13,
    "start_time": "2023-02-03T08:34:05.855Z"
   },
   {
    "duration": 51,
    "start_time": "2023-02-03T08:34:05.870Z"
   },
   {
    "duration": 25,
    "start_time": "2023-02-03T08:34:05.940Z"
   },
   {
    "duration": 5,
    "start_time": "2023-02-03T08:34:05.967Z"
   },
   {
    "duration": 17,
    "start_time": "2023-02-03T08:34:05.973Z"
   },
   {
    "duration": 6,
    "start_time": "2023-02-03T08:34:05.991Z"
   },
   {
    "duration": 55,
    "start_time": "2023-02-03T08:34:05.998Z"
   },
   {
    "duration": 48,
    "start_time": "2023-02-03T08:34:06.055Z"
   },
   {
    "duration": 52,
    "start_time": "2023-02-03T08:34:06.105Z"
   },
   {
    "duration": 12,
    "start_time": "2023-02-03T08:34:06.161Z"
   },
   {
    "duration": 32,
    "start_time": "2023-02-03T08:34:06.175Z"
   },
   {
    "duration": 31,
    "start_time": "2023-02-03T08:34:06.209Z"
   },
   {
    "duration": 6,
    "start_time": "2023-02-03T08:34:06.243Z"
   },
   {
    "duration": 8,
    "start_time": "2023-02-03T08:34:06.251Z"
   },
   {
    "duration": 351,
    "start_time": "2023-02-03T08:34:06.261Z"
   },
   {
    "duration": 36,
    "start_time": "2023-02-03T08:34:06.614Z"
   },
   {
    "duration": 195,
    "start_time": "2023-02-03T08:34:06.651Z"
   },
   {
    "duration": 11,
    "start_time": "2023-02-03T08:34:06.847Z"
   },
   {
    "duration": 200,
    "start_time": "2023-02-03T08:34:06.860Z"
   },
   {
    "duration": 324,
    "start_time": "2023-02-03T08:34:07.062Z"
   },
   {
    "duration": 194,
    "start_time": "2023-02-03T08:34:07.388Z"
   },
   {
    "duration": 183,
    "start_time": "2023-02-03T08:34:07.584Z"
   },
   {
    "duration": 171,
    "start_time": "2023-02-03T08:34:07.769Z"
   },
   {
    "duration": 164,
    "start_time": "2023-02-03T08:34:07.942Z"
   },
   {
    "duration": 164,
    "start_time": "2023-02-03T08:34:08.108Z"
   },
   {
    "duration": 154,
    "start_time": "2023-02-03T08:34:08.274Z"
   },
   {
    "duration": 174,
    "start_time": "2023-02-03T08:34:08.429Z"
   },
   {
    "duration": 222,
    "start_time": "2023-02-03T08:34:08.605Z"
   },
   {
    "duration": 242,
    "start_time": "2023-02-03T08:34:08.829Z"
   },
   {
    "duration": 357,
    "start_time": "2023-02-03T08:34:09.072Z"
   },
   {
    "duration": 158,
    "start_time": "2023-02-03T08:34:09.430Z"
   },
   {
    "duration": 182,
    "start_time": "2023-02-03T08:34:09.590Z"
   },
   {
    "duration": 158,
    "start_time": "2023-02-03T08:34:09.774Z"
   },
   {
    "duration": 168,
    "start_time": "2023-02-03T08:34:09.940Z"
   },
   {
    "duration": 150,
    "start_time": "2023-02-03T08:34:10.110Z"
   },
   {
    "duration": 450,
    "start_time": "2023-02-03T08:34:10.262Z"
   },
   {
    "duration": 194,
    "start_time": "2023-02-03T08:34:10.713Z"
   },
   {
    "duration": 275,
    "start_time": "2023-02-03T08:34:10.909Z"
   },
   {
    "duration": 254,
    "start_time": "2023-02-03T08:34:11.186Z"
   },
   {
    "duration": 6,
    "start_time": "2023-02-03T08:34:11.441Z"
   },
   {
    "duration": 23,
    "start_time": "2023-02-03T08:34:11.448Z"
   },
   {
    "duration": 385,
    "start_time": "2023-02-03T08:34:11.473Z"
   },
   {
    "duration": 5,
    "start_time": "2023-02-03T08:34:42.931Z"
   },
   {
    "duration": 15,
    "start_time": "2023-02-03T08:38:01.157Z"
   },
   {
    "duration": 19,
    "start_time": "2023-02-03T08:38:06.072Z"
   },
   {
    "duration": 18,
    "start_time": "2023-02-03T08:38:13.277Z"
   },
   {
    "duration": 17,
    "start_time": "2023-02-03T08:38:20.309Z"
   },
   {
    "duration": 16,
    "start_time": "2023-02-03T08:38:25.903Z"
   },
   {
    "duration": 15,
    "start_time": "2023-02-03T08:38:41.019Z"
   },
   {
    "duration": 15,
    "start_time": "2023-02-03T08:38:48.495Z"
   },
   {
    "duration": 16,
    "start_time": "2023-02-03T08:39:47.853Z"
   },
   {
    "duration": 16,
    "start_time": "2023-02-03T08:40:02.030Z"
   },
   {
    "duration": 95,
    "start_time": "2023-02-03T13:47:54.733Z"
   }
  ],
  "kernelspec": {
   "display_name": "Python 3 (ipykernel)",
   "language": "python",
   "name": "python3"
  },
  "language_info": {
   "codemirror_mode": {
    "name": "ipython",
    "version": 3
   },
   "file_extension": ".py",
   "mimetype": "text/x-python",
   "name": "python",
   "nbconvert_exporter": "python",
   "pygments_lexer": "ipython3",
   "version": "3.9.13"
  },
  "toc": {
   "base_numbering": 1,
   "nav_menu": {},
   "number_sections": true,
   "sideBar": true,
   "skip_h1_title": true,
   "title_cell": "Table of Contents",
   "title_sidebar": "Contents",
   "toc_cell": false,
   "toc_position": {},
   "toc_section_display": true,
   "toc_window_display": false
  }
 },
 "nbformat": 4,
 "nbformat_minor": 5
}
